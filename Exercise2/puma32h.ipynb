{
 "cells": [
  {
   "cell_type": "markdown",
   "metadata": {},
   "source": [
    "# puma32H dataset\n",
    "[Source](https://www.openml.org/search?type=data&sort=qualities.NumberOfFeatures&status=active&qualities.NumberOfClasses=lte_1&qualities.NumberOfFeatures=between_10_100&format=ARFF&qualities.NumberOfInstances=between_1000_10000&id=308)\n",
    "\n",
    "Goal: predict the angular accelaration of one of the robot arm's links\n",
    "\n",
    "Perfect challenge for a random forest tree regressor.\n",
    "\n",
    "8192 instances\n",
    "\n",
    "33 features\n",
    "\n",
    "This dataset includes a realistic simulation of the dynamics of a Puma 560 robot arm."
   ]
  },
  {
   "cell_type": "markdown",
   "metadata": {},
   "source": [
    "### Import libraries"
   ]
  },
  {
   "cell_type": "code",
   "execution_count": 1,
   "metadata": {},
   "outputs": [],
   "source": [
    "import numpy as np\n",
    "import pandas as pd\n",
    "from scipy.io.arff import loadarff \n",
    "from sklearn.model_selection import train_test_split\n",
    "from sklearn.metrics import root_mean_squared_error\n",
    "from sklearn.metrics import mean_absolute_error\n",
    "import sklearn\n",
    "from random_forest_regressor import RandomForestRegressor\n",
    "from sklearn.neighbors import KNeighborsRegressor\n",
    "from sklearn.preprocessing import StandardScaler\n",
    "import sklearn.ensemble\n",
    "import time\n",
    "\n",
    "RANDOM_SEED = 42\n"
   ]
  },
  {
   "cell_type": "markdown",
   "metadata": {},
   "source": [
    "### Import data"
   ]
  },
  {
   "cell_type": "code",
   "execution_count": 2,
   "metadata": {},
   "outputs": [],
   "source": [
    "raw_data = loadarff('phpJEvZWG.arff')\n",
    "df = pd.DataFrame(raw_data[0])"
   ]
  },
  {
   "cell_type": "code",
   "execution_count": 3,
   "metadata": {},
   "outputs": [
    {
     "data": {
      "text/html": [
       "<div>\n",
       "<style scoped>\n",
       "    .dataframe tbody tr th:only-of-type {\n",
       "        vertical-align: middle;\n",
       "    }\n",
       "\n",
       "    .dataframe tbody tr th {\n",
       "        vertical-align: top;\n",
       "    }\n",
       "\n",
       "    .dataframe thead th {\n",
       "        text-align: right;\n",
       "    }\n",
       "</style>\n",
       "<table border=\"1\" class=\"dataframe\">\n",
       "  <thead>\n",
       "    <tr style=\"text-align: right;\">\n",
       "      <th></th>\n",
       "      <th>theta1</th>\n",
       "      <th>theta2</th>\n",
       "      <th>theta3</th>\n",
       "      <th>theta4</th>\n",
       "      <th>theta5</th>\n",
       "      <th>theta6</th>\n",
       "      <th>thetad1</th>\n",
       "      <th>thetad2</th>\n",
       "      <th>thetad3</th>\n",
       "      <th>thetad4</th>\n",
       "      <th>...</th>\n",
       "      <th>da2</th>\n",
       "      <th>da3</th>\n",
       "      <th>da4</th>\n",
       "      <th>da5</th>\n",
       "      <th>db1</th>\n",
       "      <th>db2</th>\n",
       "      <th>db3</th>\n",
       "      <th>db4</th>\n",
       "      <th>db5</th>\n",
       "      <th>thetadd6</th>\n",
       "    </tr>\n",
       "  </thead>\n",
       "  <tbody>\n",
       "    <tr>\n",
       "      <th>0</th>\n",
       "      <td>0.736460</td>\n",
       "      <td>-1.761829</td>\n",
       "      <td>1.590594</td>\n",
       "      <td>-0.268853</td>\n",
       "      <td>0.572145</td>\n",
       "      <td>-1.941886</td>\n",
       "      <td>0.727704</td>\n",
       "      <td>1.869884</td>\n",
       "      <td>0.224501</td>\n",
       "      <td>-1.442215</td>\n",
       "      <td>...</td>\n",
       "      <td>2.220872</td>\n",
       "      <td>2.440442</td>\n",
       "      <td>0.510303</td>\n",
       "      <td>1.157391</td>\n",
       "      <td>0.265448</td>\n",
       "      <td>1.141465</td>\n",
       "      <td>0.356314</td>\n",
       "      <td>0.568853</td>\n",
       "      <td>1.954376</td>\n",
       "      <td>0.052627</td>\n",
       "    </tr>\n",
       "    <tr>\n",
       "      <th>1</th>\n",
       "      <td>-0.389711</td>\n",
       "      <td>0.342256</td>\n",
       "      <td>-1.522463</td>\n",
       "      <td>0.237098</td>\n",
       "      <td>-1.771509</td>\n",
       "      <td>-0.885488</td>\n",
       "      <td>-0.679111</td>\n",
       "      <td>-0.410219</td>\n",
       "      <td>-0.331288</td>\n",
       "      <td>2.092878</td>\n",
       "      <td>...</td>\n",
       "      <td>1.580327</td>\n",
       "      <td>0.809171</td>\n",
       "      <td>2.235141</td>\n",
       "      <td>1.517466</td>\n",
       "      <td>1.795334</td>\n",
       "      <td>0.929355</td>\n",
       "      <td>1.663727</td>\n",
       "      <td>0.754457</td>\n",
       "      <td>0.650492</td>\n",
       "      <td>0.001308</td>\n",
       "    </tr>\n",
       "    <tr>\n",
       "      <th>2</th>\n",
       "      <td>-0.269351</td>\n",
       "      <td>1.622452</td>\n",
       "      <td>-2.047811</td>\n",
       "      <td>1.720603</td>\n",
       "      <td>-1.749964</td>\n",
       "      <td>-1.618348</td>\n",
       "      <td>0.327188</td>\n",
       "      <td>-0.317671</td>\n",
       "      <td>0.046938</td>\n",
       "      <td>1.911881</td>\n",
       "      <td>...</td>\n",
       "      <td>1.723625</td>\n",
       "      <td>1.718983</td>\n",
       "      <td>2.438604</td>\n",
       "      <td>1.113059</td>\n",
       "      <td>2.180270</td>\n",
       "      <td>1.794781</td>\n",
       "      <td>0.627965</td>\n",
       "      <td>0.961728</td>\n",
       "      <td>1.258398</td>\n",
       "      <td>0.003834</td>\n",
       "    </tr>\n",
       "    <tr>\n",
       "      <th>3</th>\n",
       "      <td>0.256840</td>\n",
       "      <td>0.165040</td>\n",
       "      <td>-1.776401</td>\n",
       "      <td>1.723357</td>\n",
       "      <td>2.117348</td>\n",
       "      <td>-1.692605</td>\n",
       "      <td>1.077334</td>\n",
       "      <td>1.761624</td>\n",
       "      <td>-0.333281</td>\n",
       "      <td>1.573860</td>\n",
       "      <td>...</td>\n",
       "      <td>1.369922</td>\n",
       "      <td>1.528851</td>\n",
       "      <td>1.901706</td>\n",
       "      <td>2.222391</td>\n",
       "      <td>0.968513</td>\n",
       "      <td>0.546513</td>\n",
       "      <td>2.236340</td>\n",
       "      <td>1.412382</td>\n",
       "      <td>1.898374</td>\n",
       "      <td>-0.002010</td>\n",
       "    </tr>\n",
       "    <tr>\n",
       "      <th>4</th>\n",
       "      <td>0.968270</td>\n",
       "      <td>1.834561</td>\n",
       "      <td>0.299747</td>\n",
       "      <td>0.308144</td>\n",
       "      <td>0.064617</td>\n",
       "      <td>2.174855</td>\n",
       "      <td>-1.213028</td>\n",
       "      <td>-1.563548</td>\n",
       "      <td>-2.277270</td>\n",
       "      <td>-0.059009</td>\n",
       "      <td>...</td>\n",
       "      <td>1.171433</td>\n",
       "      <td>2.273871</td>\n",
       "      <td>2.199479</td>\n",
       "      <td>0.646400</td>\n",
       "      <td>0.302676</td>\n",
       "      <td>1.323917</td>\n",
       "      <td>2.324899</td>\n",
       "      <td>0.334220</td>\n",
       "      <td>0.491228</td>\n",
       "      <td>0.015778</td>\n",
       "    </tr>\n",
       "  </tbody>\n",
       "</table>\n",
       "<p>5 rows × 33 columns</p>\n",
       "</div>"
      ],
      "text/plain": [
       "     theta1    theta2    theta3    theta4    theta5    theta6   thetad1  \\\n",
       "0  0.736460 -1.761829  1.590594 -0.268853  0.572145 -1.941886  0.727704   \n",
       "1 -0.389711  0.342256 -1.522463  0.237098 -1.771509 -0.885488 -0.679111   \n",
       "2 -0.269351  1.622452 -2.047811  1.720603 -1.749964 -1.618348  0.327188   \n",
       "3  0.256840  0.165040 -1.776401  1.723357  2.117348 -1.692605  1.077334   \n",
       "4  0.968270  1.834561  0.299747  0.308144  0.064617  2.174855 -1.213028   \n",
       "\n",
       "    thetad2   thetad3   thetad4  ...       da2       da3       da4       da5  \\\n",
       "0  1.869884  0.224501 -1.442215  ...  2.220872  2.440442  0.510303  1.157391   \n",
       "1 -0.410219 -0.331288  2.092878  ...  1.580327  0.809171  2.235141  1.517466   \n",
       "2 -0.317671  0.046938  1.911881  ...  1.723625  1.718983  2.438604  1.113059   \n",
       "3  1.761624 -0.333281  1.573860  ...  1.369922  1.528851  1.901706  2.222391   \n",
       "4 -1.563548 -2.277270 -0.059009  ...  1.171433  2.273871  2.199479  0.646400   \n",
       "\n",
       "        db1       db2       db3       db4       db5  thetadd6  \n",
       "0  0.265448  1.141465  0.356314  0.568853  1.954376  0.052627  \n",
       "1  1.795334  0.929355  1.663727  0.754457  0.650492  0.001308  \n",
       "2  2.180270  1.794781  0.627965  0.961728  1.258398  0.003834  \n",
       "3  0.968513  0.546513  2.236340  1.412382  1.898374 -0.002010  \n",
       "4  0.302676  1.323917  2.324899  0.334220  0.491228  0.015778  \n",
       "\n",
       "[5 rows x 33 columns]"
      ]
     },
     "execution_count": 3,
     "metadata": {},
     "output_type": "execute_result"
    }
   ],
   "source": [
    "df.head()"
   ]
  },
  {
   "cell_type": "code",
   "execution_count": 4,
   "metadata": {},
   "outputs": [
    {
     "data": {
      "text/plain": [
       "(8192, 33)"
      ]
     },
     "execution_count": 4,
     "metadata": {},
     "output_type": "execute_result"
    }
   ],
   "source": [
    "df.shape # (39644\t61)"
   ]
  },
  {
   "cell_type": "code",
   "execution_count": 5,
   "metadata": {},
   "outputs": [
    {
     "data": {
      "text/plain": [
       "np.int64(0)"
      ]
     },
     "execution_count": 5,
     "metadata": {},
     "output_type": "execute_result"
    }
   ],
   "source": [
    "df.isna().any().sum()"
   ]
  },
  {
   "cell_type": "code",
   "execution_count": 6,
   "metadata": {},
   "outputs": [
    {
     "name": "stdout",
     "output_type": "stream",
     "text": [
      "<class 'pandas.core.frame.DataFrame'>\n",
      "RangeIndex: 8192 entries, 0 to 8191\n",
      "Data columns (total 33 columns):\n",
      " #   Column    Non-Null Count  Dtype  \n",
      "---  ------    --------------  -----  \n",
      " 0   theta1    8192 non-null   float64\n",
      " 1   theta2    8192 non-null   float64\n",
      " 2   theta3    8192 non-null   float64\n",
      " 3   theta4    8192 non-null   float64\n",
      " 4   theta5    8192 non-null   float64\n",
      " 5   theta6    8192 non-null   float64\n",
      " 6   thetad1   8192 non-null   float64\n",
      " 7   thetad2   8192 non-null   float64\n",
      " 8   thetad3   8192 non-null   float64\n",
      " 9   thetad4   8192 non-null   float64\n",
      " 10  thetad5   8192 non-null   float64\n",
      " 11  thetad6   8192 non-null   float64\n",
      " 12  tau1      8192 non-null   float64\n",
      " 13  tau2      8192 non-null   float64\n",
      " 14  tau3      8192 non-null   float64\n",
      " 15  tau4      8192 non-null   float64\n",
      " 16  tau5      8192 non-null   float64\n",
      " 17  dm1       8192 non-null   float64\n",
      " 18  dm2       8192 non-null   float64\n",
      " 19  dm3       8192 non-null   float64\n",
      " 20  dm4       8192 non-null   float64\n",
      " 21  dm5       8192 non-null   float64\n",
      " 22  da1       8192 non-null   float64\n",
      " 23  da2       8192 non-null   float64\n",
      " 24  da3       8192 non-null   float64\n",
      " 25  da4       8192 non-null   float64\n",
      " 26  da5       8192 non-null   float64\n",
      " 27  db1       8192 non-null   float64\n",
      " 28  db2       8192 non-null   float64\n",
      " 29  db3       8192 non-null   float64\n",
      " 30  db4       8192 non-null   float64\n",
      " 31  db5       8192 non-null   float64\n",
      " 32  thetadd6  8192 non-null   float64\n",
      "dtypes: float64(33)\n",
      "memory usage: 2.1 MB\n"
     ]
    }
   ],
   "source": [
    "df.info()"
   ]
  },
  {
   "cell_type": "code",
   "execution_count": 7,
   "metadata": {},
   "outputs": [
    {
     "data": {
      "text/plain": [
       "False"
      ]
     },
     "execution_count": 7,
     "metadata": {},
     "output_type": "execute_result"
    }
   ],
   "source": [
    "df.empty"
   ]
  },
  {
   "cell_type": "markdown",
   "metadata": {},
   "source": [
    "Based on the description of the variables, we will drop \"url\", since it works as an ID, and also drop \"timedelta\", since it represents days between the article publication and the dataset acquisition (non-predictive)"
   ]
  },
  {
   "cell_type": "markdown",
   "metadata": {},
   "source": [
    "### Prepare the data"
   ]
  },
  {
   "cell_type": "code",
   "execution_count": 4,
   "metadata": {},
   "outputs": [],
   "source": [
    "X_data = df.drop(\"thetadd6\", axis=1)\n",
    "y_data = df[\"thetadd6\"]\n",
    "\n",
    "\n",
    "X_train, X_test, y_train, y_test = train_test_split(X_data, y_data, test_size=0.2, random_state=RANDOM_SEED)"
   ]
  },
  {
   "cell_type": "markdown",
   "metadata": {},
   "source": [
    "## Run the experiments\n",
    "\n",
    "### Baseline experiment"
   ]
  },
  {
   "cell_type": "code",
   "execution_count": 10,
   "metadata": {},
   "outputs": [],
   "source": [
    "start_time_implementation = time.time()\n",
    "rf = RandomForestRegressor(n_trees=5, max_features=1, min_samples_split=2, max_depth=5, random_state=RANDOM_SEED)\n",
    "rf.train(X_train, y_train)\n",
    "y_pred = rf.predict(X_test)\n",
    "end_time_implementation = time.time()"
   ]
  },
  {
   "cell_type": "code",
   "execution_count": 11,
   "metadata": {},
   "outputs": [],
   "source": [
    "start_time_sk = time.time()\n",
    "sklearn_rf = sklearn.ensemble.RandomForestRegressor(n_estimators=5, max_depth=5, random_state=RANDOM_SEED)\n",
    "sklearn_rf.fit(X_train, y_train)\n",
    "sk_y_pred = sklearn_rf.predict(X_test)\n",
    "end_time_sk = time.time()"
   ]
  },
  {
   "cell_type": "code",
   "execution_count": 12,
   "metadata": {},
   "outputs": [
    {
     "name": "stdout",
     "output_type": "stream",
     "text": [
      "RMSE of implementation:  0.02942777195908711\n",
      "MAE of implementation:  0.022627228393050633\n",
      "RMSE of sklearn:  0.0111023799842939\n",
      "MAE of sklearn:  0.00873443982270454\n",
      "Runtime of implementation 122.92449593544006\n",
      "Runtime of sklearn 0.37678050994873047\n"
     ]
    }
   ],
   "source": [
    "implementation_rmse = root_mean_squared_error(y_test, y_pred)\n",
    "implementation_mae = mean_absolute_error(y_test, y_pred)\n",
    "sklearn_rmse = root_mean_squared_error(y_test, sk_y_pred)\n",
    "sklearn_mae = mean_absolute_error(y_test, sk_y_pred)\n",
    "print(\"RMSE of implementation: \", implementation_rmse)\n",
    "print(\"MAE of implementation: \", implementation_mae)\n",
    "print(\"RMSE of sklearn: \", sklearn_rmse)\n",
    "print(\"MAE of sklearn: \", sklearn_mae)\n",
    "implementation_runtime = end_time_implementation - start_time_implementation\n",
    "sklearn_runtime = end_time_sk - start_time_sk\n",
    "print(\"Runtime of implementation\", implementation_runtime)\n",
    "print(\"Runtime of sklearn\", sklearn_runtime)"
   ]
  },
  {
   "cell_type": "markdown",
   "metadata": {},
   "source": [
    "### Experiments on trees depth\n",
    "**1. Decrease tree depth to 2 instead of 5** "
   ]
  },
  {
   "cell_type": "code",
   "execution_count": 13,
   "metadata": {},
   "outputs": [],
   "source": [
    "start_time_implementation = time.time()\n",
    "rf = RandomForestRegressor(n_trees=5, max_features=1, min_samples_split=2, max_depth=2, random_state=RANDOM_SEED)\n",
    "rf.train(X_train, y_train)\n",
    "y_pred = rf.predict(X_test)\n",
    "end_time_implementation = time.time()"
   ]
  },
  {
   "cell_type": "code",
   "execution_count": 14,
   "metadata": {},
   "outputs": [],
   "source": [
    "start_time_sk = time.time()\n",
    "sklearn_rf = sklearn.ensemble.RandomForestRegressor(n_estimators=5, max_depth=2, random_state=RANDOM_SEED)\n",
    "sklearn_rf.fit(X_train, y_train)\n",
    "sk_y_pred = sklearn_rf.predict(X_test)\n",
    "end_time_sk = time.time()"
   ]
  },
  {
   "cell_type": "code",
   "execution_count": 15,
   "metadata": {},
   "outputs": [
    {
     "name": "stdout",
     "output_type": "stream",
     "text": [
      "RMSE of implementation:  0.0294180123909433\n",
      "MAE of implementation:  0.022618471211399725\n",
      "RMSE of sklearn:  0.023396654004291365\n",
      "MAE of sklearn:  0.01804306602457138\n",
      "Runtime of implementation 48.63184690475464\n",
      "Runtime of sklearn 0.16441941261291504\n"
     ]
    }
   ],
   "source": [
    "implementation_rmse = root_mean_squared_error(y_test, y_pred)\n",
    "implementation_mae = mean_absolute_error(y_test, y_pred)\n",
    "sklearn_rmse = root_mean_squared_error(y_test, sk_y_pred)\n",
    "sklearn_mae = mean_absolute_error(y_test, sk_y_pred)\n",
    "\n",
    "print(\"RMSE of implementation: \", implementation_rmse)\n",
    "print(\"MAE of implementation: \", implementation_mae)\n",
    "print(\"RMSE of sklearn: \", sklearn_rmse)\n",
    "print(\"MAE of sklearn: \", sklearn_mae)\n",
    "implementation_runtime = end_time_implementation - start_time_implementation\n",
    "sklearn_runtime = end_time_sk - start_time_sk\n",
    "print(\"Runtime of implementation\", implementation_runtime)\n",
    "print(\"Runtime of sklearn\", sklearn_runtime)"
   ]
  },
  {
   "cell_type": "markdown",
   "metadata": {},
   "source": [
    "**2. Increase tree depth to None instead of 5**"
   ]
  },
  {
   "cell_type": "code",
   "execution_count": 7,
   "metadata": {},
   "outputs": [
    {
     "ename": "",
     "evalue": "",
     "output_type": "error",
     "traceback": [
      "\u001b[1;31mThe Kernel crashed while executing code in the current cell or a previous cell. \n",
      "\u001b[1;31mPlease review the code in the cell(s) to identify a possible cause of the failure. \n",
      "\u001b[1;31mClick <a href='https://aka.ms/vscodeJupyterKernelCrash'>here</a> for more info. \n",
      "\u001b[1;31mView Jupyter <a href='command:jupyter.viewOutput'>log</a> for further details."
     ]
    }
   ],
   "source": [
    "start_time_implementation = time.time()\n",
    "rf = RandomForestRegressor(n_trees=5, max_features=1, min_samples_split=2, max_depth=None, random_state=RANDOM_SEED)\n",
    "rf.train(X_train, y_train)\n",
    "y_pred = rf.predict(X_test)\n",
    "end_time_implementation = time.time()"
   ]
  },
  {
   "cell_type": "code",
   "execution_count": null,
   "metadata": {},
   "outputs": [
    {
     "name": "stdout",
     "output_type": "stream",
     "text": [
      "3000\n"
     ]
    }
   ],
   "source": [
    "import sys\n",
    "print(sys.getrecursionlimit())"
   ]
  },
  {
   "cell_type": "markdown",
   "metadata": {},
   "source": [
    "By printing the recursion limit, we can see that our implementation exceeded 3000 recursions"
   ]
  },
  {
   "cell_type": "code",
   "execution_count": 12,
   "metadata": {},
   "outputs": [],
   "source": [
    "start_time_sk = time.time()\n",
    "sklearn_rf = sklearn.ensemble.RandomForestRegressor(n_estimators=5, max_depth=None, random_state=RANDOM_SEED)\n",
    "sklearn_rf.fit(X_train, y_train)\n",
    "sk_y_pred = sklearn_rf.predict(X_test)\n",
    "end_time_sk = time.time()"
   ]
  },
  {
   "cell_type": "code",
   "execution_count": 13,
   "metadata": {},
   "outputs": [
    {
     "name": "stdout",
     "output_type": "stream",
     "text": [
      "RMSE of sklearn:  12582.32145962745\n",
      "Runtime of sklearn 9.121507167816162\n"
     ]
    }
   ],
   "source": [
    "#implementation_rmse = root_mean_squared_error(y_test, y_pred)\n",
    "sklearn_rmse = root_mean_squared_error(y_test, sk_y_pred)\n",
    "#print(\"RMSE of implementation: \", implementation_rmse)\n",
    "print(\"RMSE of sklearn: \", sklearn_rmse)\n",
    "sklearn_mae = mean_absolute_error(y_test, sk_y_pred)\n",
    "print(\"MAE of sklearn: \", sklearn_mae)\n",
    "#implementation_runtime = end_time_implementation - start_time_implementation\n",
    "sklearn_runtime = end_time_sk - start_time_sk\n",
    "#print(\"Runtime of implementation\", implementation_runtime)\n",
    "print(\"Runtime of sklearn\", sklearn_runtime)\n",
    "\n",
    "\n",
    "# implementation_rmse = root_mean_squared_error(y_test, y_pred)\n",
    "# implementation_mae = mean_absolute_error(y_test, y_pred)\n",
    "# sklearn_rmse = root_mean_squared_error(y_test, sk_y_pred)\n",
    "# sklearn_mae = mean_absolute_error(y_test, sk_y_pred)\n",
    "\n",
    "# print(\"RMSE of implementation: \", implementation_rmse)\n",
    "# print(\"MAE of implementation: \", implementation_mae)\n",
    "# print(\"RMSE of sklearn: \", sklearn_rmse)\n",
    "# print(\"MAE of sklearn: \", sklearn_mae)"
   ]
  },
  {
   "cell_type": "markdown",
   "metadata": {},
   "source": [
    "## Experiments on max features\n",
    "**1. Increase max features to 2**"
   ]
  },
  {
   "cell_type": "code",
   "execution_count": 16,
   "metadata": {},
   "outputs": [],
   "source": [
    "start_time_implementation = time.time()\n",
    "rf = RandomForestRegressor(n_trees=5, max_features=2, min_samples_split=2, max_depth=5, random_state=RANDOM_SEED)\n",
    "rf.train(X_train, y_train)\n",
    "y_pred = rf.predict(X_test)\n",
    "end_time_implementation = time.time()"
   ]
  },
  {
   "cell_type": "code",
   "execution_count": 17,
   "metadata": {},
   "outputs": [],
   "source": [
    "start_time_sk = time.time()\n",
    "sklearn_rf = sklearn.ensemble.RandomForestRegressor(n_estimators=5, max_depth=5, max_features=2, random_state=RANDOM_SEED)\n",
    "sklearn_rf.fit(X_train, y_train)\n",
    "sk_y_pred = sklearn_rf.predict(X_test)\n",
    "end_time_sk = time.time()"
   ]
  },
  {
   "cell_type": "code",
   "execution_count": 18,
   "metadata": {},
   "outputs": [
    {
     "name": "stdout",
     "output_type": "stream",
     "text": [
      "RMSE of implementation:  0.029426646373290823\n",
      "MAE of implementation:  0.022626216659288847\n",
      "RMSE of sklearn:  0.02928887207891027\n",
      "MAE of sklearn:  0.022543752280621825\n",
      "Runtime of implementation 236.5267469882965\n",
      "Runtime of sklearn 0.04462265968322754\n"
     ]
    }
   ],
   "source": [
    "implementation_rmse = root_mean_squared_error(y_test, y_pred)\n",
    "implementation_mae = mean_absolute_error(y_test, y_pred)\n",
    "sklearn_rmse = root_mean_squared_error(y_test, sk_y_pred)\n",
    "sklearn_mae = mean_absolute_error(y_test, sk_y_pred)\n",
    "print(\"RMSE of implementation: \", implementation_rmse)\n",
    "print(\"MAE of implementation: \", implementation_mae)\n",
    "print(\"RMSE of sklearn: \", sklearn_rmse)\n",
    "print(\"MAE of sklearn: \", sklearn_mae)\n",
    "implementation_runtime = end_time_implementation - start_time_implementation\n",
    "sklearn_runtime = end_time_sk - start_time_sk\n",
    "print(\"Runtime of implementation\", implementation_runtime)\n",
    "print(\"Runtime of sklearn\", sklearn_runtime)"
   ]
  },
  {
   "cell_type": "markdown",
   "metadata": {},
   "source": [
    "**2. Increase max features to 5**"
   ]
  },
  {
   "cell_type": "code",
   "execution_count": 19,
   "metadata": {},
   "outputs": [],
   "source": [
    "start_time_implementation = time.time()\n",
    "rf = RandomForestRegressor(n_trees=5, max_features=5, min_samples_split=2, max_depth=5, random_state=RANDOM_SEED)\n",
    "rf.train(X_train, y_train)\n",
    "y_pred = rf.predict(X_test)\n",
    "end_time_implementation = time.time()"
   ]
  },
  {
   "cell_type": "code",
   "execution_count": 20,
   "metadata": {},
   "outputs": [],
   "source": [
    "start_time_sk = time.time()\n",
    "sklearn_rf = sklearn.ensemble.RandomForestRegressor(n_estimators=5, max_depth=5, max_features=5,random_state=RANDOM_SEED)\n",
    "sklearn_rf.fit(X_train, y_train)\n",
    "sk_y_pred = sklearn_rf.predict(X_test)\n",
    "end_time_sk = time.time()"
   ]
  },
  {
   "cell_type": "code",
   "execution_count": 21,
   "metadata": {},
   "outputs": [
    {
     "name": "stdout",
     "output_type": "stream",
     "text": [
      "RMSE of implementation:  0.029409324634598104\n",
      "MAE of implementation:  0.022610411183165556\n",
      "RMSE of sklearn:  0.02746698187678999\n",
      "MAE of sklearn:  0.021319128450680482\n",
      "Runtime of implementation 572.8327031135559\n",
      "Runtime of sklearn 0.0940251350402832\n"
     ]
    }
   ],
   "source": [
    "implementation_rmse = root_mean_squared_error(y_test, y_pred)\n",
    "implementation_mae = mean_absolute_error(y_test, y_pred)\n",
    "sklearn_rmse = root_mean_squared_error(y_test, sk_y_pred)\n",
    "sklearn_mae = mean_absolute_error(y_test, sk_y_pred)\n",
    "print(\"RMSE of implementation: \", implementation_rmse)\n",
    "print(\"MAE of implementation: \", implementation_mae)\n",
    "print(\"RMSE of sklearn: \", sklearn_rmse)\n",
    "print(\"MAE of sklearn: \", sklearn_mae)\n",
    "implementation_runtime = end_time_implementation - start_time_implementation\n",
    "sklearn_runtime = end_time_sk - start_time_sk\n",
    "print(\"Runtime of implementation\", implementation_runtime)\n",
    "print(\"Runtime of sklearn\", sklearn_runtime)"
   ]
  },
  {
   "cell_type": "markdown",
   "metadata": {},
   "source": [
    "## Experiments on min samples splits\n",
    "**1. Increase min_sample_split to 5**"
   ]
  },
  {
   "cell_type": "code",
   "execution_count": 22,
   "metadata": {},
   "outputs": [],
   "source": [
    "start_time_implementation = time.time()\n",
    "rf = RandomForestRegressor(n_trees=5, max_features=1, min_samples_split=5, max_depth=5, random_state=RANDOM_SEED)\n",
    "rf.train(X_train, y_train)\n",
    "y_pred = rf.predict(X_test)\n",
    "end_time_implementation = time.time()"
   ]
  },
  {
   "cell_type": "code",
   "execution_count": 23,
   "metadata": {},
   "outputs": [],
   "source": [
    "start_time_sk = time.time()\n",
    "sklearn_rf = sklearn.ensemble.RandomForestRegressor(n_estimators=5, max_depth=5, max_features=1, min_samples_split=5, random_state=RANDOM_SEED)\n",
    "sklearn_rf.fit(X_train, y_train)\n",
    "sk_y_pred = sklearn_rf.predict(X_test)\n",
    "end_time_sk = time.time()"
   ]
  },
  {
   "cell_type": "code",
   "execution_count": 24,
   "metadata": {},
   "outputs": [
    {
     "name": "stdout",
     "output_type": "stream",
     "text": [
      "RMSE of implementation:  0.029412504761813382\n",
      "MAE of implementation:  0.02261342845185598\n",
      "RMSE of sklearn:  0.028728216878557974\n",
      "MAE of sklearn:  0.022135444564221635\n",
      "Runtime of implementation 119.62125492095947\n",
      "Runtime of sklearn 0.025078296661376953\n"
     ]
    }
   ],
   "source": [
    "implementation_rmse = root_mean_squared_error(y_test, y_pred)\n",
    "implementation_mae = mean_absolute_error(y_test, y_pred)\n",
    "sklearn_rmse = root_mean_squared_error(y_test, sk_y_pred)\n",
    "sklearn_mae = mean_absolute_error(y_test, sk_y_pred)\n",
    "print(\"RMSE of implementation: \", implementation_rmse)\n",
    "print(\"MAE of implementation: \", implementation_mae)\n",
    "print(\"RMSE of sklearn: \", sklearn_rmse)\n",
    "print(\"MAE of sklearn: \", sklearn_mae)\n",
    "implementation_runtime = end_time_implementation - start_time_implementation\n",
    "sklearn_runtime = end_time_sk - start_time_sk\n",
    "print(\"Runtime of implementation\", implementation_runtime)\n",
    "print(\"Runtime of sklearn\", sklearn_runtime)"
   ]
  },
  {
   "cell_type": "markdown",
   "metadata": {},
   "source": [
    "**2. Increase min_sample_split to 10**"
   ]
  },
  {
   "cell_type": "code",
   "execution_count": 25,
   "metadata": {},
   "outputs": [],
   "source": [
    "start_time_implementation = time.time()\n",
    "rf = RandomForestRegressor(n_trees=5, max_features=1, min_samples_split=10, max_depth=5, random_state=RANDOM_SEED)\n",
    "rf.train(X_train, y_train)\n",
    "y_pred = rf.predict(X_test)\n",
    "end_time_implementation = time.time()"
   ]
  },
  {
   "cell_type": "code",
   "execution_count": 26,
   "metadata": {},
   "outputs": [],
   "source": [
    "start_time_sk = time.time()\n",
    "sklearn_rf = sklearn.ensemble.RandomForestRegressor(n_estimators=5, max_depth=5, max_features=1, min_samples_split=10, random_state=RANDOM_SEED)\n",
    "sklearn_rf.fit(X_train, y_train)\n",
    "sk_y_pred = sklearn_rf.predict(X_test)\n",
    "end_time_sk = time.time()"
   ]
  },
  {
   "cell_type": "code",
   "execution_count": 27,
   "metadata": {},
   "outputs": [
    {
     "name": "stdout",
     "output_type": "stream",
     "text": [
      "RMSE of implementation:  0.029414766386084784\n",
      "MAE of implementation:  0.022615558046876955\n",
      "RMSE of sklearn:  0.02840280752170343\n",
      "MAE of sklearn:  0.021892236155497055\n",
      "Runtime of implementation 118.49422836303711\n",
      "Runtime of sklearn 0.025309324264526367\n"
     ]
    }
   ],
   "source": [
    "implementation_rmse = root_mean_squared_error(y_test, y_pred)\n",
    "implementation_mae = mean_absolute_error(y_test, y_pred)\n",
    "sklearn_rmse = root_mean_squared_error(y_test, sk_y_pred)\n",
    "sklearn_mae = mean_absolute_error(y_test, sk_y_pred)\n",
    "print(\"RMSE of implementation: \", implementation_rmse)\n",
    "print(\"MAE of implementation: \", implementation_mae)\n",
    "print(\"RMSE of sklearn: \", sklearn_rmse)\n",
    "print(\"MAE of sklearn: \", sklearn_mae)\n",
    "implementation_runtime = end_time_implementation - start_time_implementation\n",
    "sklearn_runtime = end_time_sk - start_time_sk\n",
    "print(\"Runtime of implementation\", implementation_runtime)\n",
    "print(\"Runtime of sklearn\", sklearn_runtime)"
   ]
  },
  {
   "cell_type": "markdown",
   "metadata": {},
   "source": [
    "## Experiments on number of trees\n",
    "**1. Increasing number of trees to 30**"
   ]
  },
  {
   "cell_type": "code",
   "execution_count": 28,
   "metadata": {},
   "outputs": [],
   "source": [
    "start_time_implementation = time.time()\n",
    "rf = RandomForestRegressor(n_trees=30, max_features=1, min_samples_split=2, max_depth=5, random_state=RANDOM_SEED)\n",
    "rf.train(X_train, y_train)\n",
    "y_pred = rf.predict(X_test)\n",
    "end_time_implementation = time.time()"
   ]
  },
  {
   "cell_type": "code",
   "execution_count": 29,
   "metadata": {},
   "outputs": [],
   "source": [
    "start_time_sk = time.time()\n",
    "sklearn_rf = sklearn.ensemble.RandomForestRegressor(n_estimators=30, max_depth=5, max_features=1, min_samples_split=2, random_state=RANDOM_SEED)\n",
    "sklearn_rf.fit(X_train, y_train)\n",
    "sk_y_pred = sklearn_rf.predict(X_test)\n",
    "end_time_sk = time.time()"
   ]
  },
  {
   "cell_type": "code",
   "execution_count": 30,
   "metadata": {},
   "outputs": [
    {
     "name": "stdout",
     "output_type": "stream",
     "text": [
      "RMSE of implementation:  0.02939355692004114\n",
      "MAE of implementation:  0.022595809911376965\n",
      "RMSE of sklearn:  0.028842184038434398\n",
      "MAE of sklearn:  0.02221679346541146\n",
      "Runtime of implementation 695.7822754383087\n",
      "Runtime of sklearn 0.12179279327392578\n"
     ]
    }
   ],
   "source": [
    "implementation_rmse = root_mean_squared_error(y_test, y_pred)\n",
    "implementation_mae = mean_absolute_error(y_test, y_pred)\n",
    "sklearn_rmse = root_mean_squared_error(y_test, sk_y_pred)\n",
    "sklearn_mae = mean_absolute_error(y_test, sk_y_pred)\n",
    "print(\"RMSE of implementation: \", implementation_rmse)\n",
    "print(\"MAE of implementation: \", implementation_mae)\n",
    "print(\"RMSE of sklearn: \", sklearn_rmse)\n",
    "print(\"MAE of sklearn: \", sklearn_mae)\n",
    "implementation_runtime = end_time_implementation - start_time_implementation\n",
    "sklearn_runtime = end_time_sk - start_time_sk\n",
    "print(\"Runtime of implementation\", implementation_runtime)\n",
    "print(\"Runtime of sklearn\", sklearn_runtime)"
   ]
  },
  {
   "cell_type": "markdown",
   "metadata": {},
   "source": [
    "**2. Increasing number of trees to 100**"
   ]
  },
  {
   "cell_type": "code",
   "execution_count": 32,
   "metadata": {},
   "outputs": [],
   "source": [
    "start_time_implementation = time.time()\n",
    "rf = RandomForestRegressor(n_trees=100, max_features=1, min_samples_split=2, max_depth=5, random_state=RANDOM_SEED)\n",
    "rf.train(X_train, y_train)\n",
    "y_pred = rf.predict(X_test)\n",
    "end_time_implementation = time.time()"
   ]
  },
  {
   "cell_type": "code",
   "execution_count": 33,
   "metadata": {},
   "outputs": [],
   "source": [
    "start_time_sk = time.time()\n",
    "sklearn_rf = sklearn.ensemble.RandomForestRegressor(n_estimators=100, max_depth=5, max_features=1, min_samples_split=2, random_state=RANDOM_SEED)\n",
    "sklearn_rf.fit(X_train, y_train)\n",
    "sk_y_pred = sklearn_rf.predict(X_test)\n",
    "end_time_sk = time.time()"
   ]
  },
  {
   "cell_type": "code",
   "execution_count": 34,
   "metadata": {},
   "outputs": [
    {
     "name": "stdout",
     "output_type": "stream",
     "text": [
      "RMSE of implementation:  0.029391143141854415\n",
      "MAE of implementation:  0.022595595762205472\n",
      "RMSE of sklearn:  0.028362171580740274\n",
      "MAE of sklearn:  0.021881752971350185\n",
      "Runtime of implementation 3417.44739985466\n",
      "Runtime of sklearn 0.7584710121154785\n"
     ]
    }
   ],
   "source": [
    "implementation_rmse = root_mean_squared_error(y_test, y_pred)\n",
    "implementation_mae = mean_absolute_error(y_test, y_pred)\n",
    "sklearn_rmse = root_mean_squared_error(y_test, sk_y_pred)\n",
    "sklearn_mae = mean_absolute_error(y_test, sk_y_pred)\n",
    "print(\"RMSE of implementation: \", implementation_rmse)\n",
    "print(\"MAE of implementation: \", implementation_mae)\n",
    "print(\"RMSE of sklearn: \", sklearn_rmse)\n",
    "print(\"MAE of sklearn: \", sklearn_mae)\n",
    "implementation_runtime = end_time_implementation - start_time_implementation\n",
    "sklearn_runtime = end_time_sk - start_time_sk\n",
    "print(\"Runtime of implementation\", implementation_runtime)\n",
    "print(\"Runtime of sklearn\", sklearn_runtime)"
   ]
  },
  {
   "cell_type": "markdown",
   "metadata": {},
   "source": [
    "**Experiment on default values with sklearn RandomForestRegressor for comparison**"
   ]
  },
  {
   "cell_type": "code",
   "execution_count": 35,
   "metadata": {},
   "outputs": [],
   "source": [
    "start_time_sk = time.time()\n",
    "sklearn_rf = sklearn.ensemble.RandomForestRegressor(random_state=RANDOM_SEED)\n",
    "sklearn_rf.fit(X_train, y_train)\n",
    "sk_y_pred = sklearn_rf.predict(X_test)\n",
    "end_time_sk = time.time()"
   ]
  },
  {
   "cell_type": "code",
   "execution_count": 36,
   "metadata": {},
   "outputs": [
    {
     "name": "stdout",
     "output_type": "stream",
     "text": [
      "RMSE of sklearn:  0.007927639549178677\n",
      "Runtime of sklearn 12.581874370574951\n",
      "MAE of sklearn:  0.006345761073825503\n"
     ]
    }
   ],
   "source": [
    "sklearn_rmse = root_mean_squared_error(y_test, sk_y_pred)\n",
    "print(\"RMSE of sklearn: \", sklearn_rmse)\n",
    "sklearn_runtime = end_time_sk - start_time_sk\n",
    "print(\"Runtime of sklearn\", sklearn_runtime)\n",
    "sklearn_mae = mean_absolute_error(y_test, sk_y_pred)\n",
    "print(\"MAE of sklearn: \", sklearn_mae)"
   ]
  },
  {
   "cell_type": "code",
   "execution_count": 39,
   "metadata": {},
   "outputs": [],
   "source": [
    "scaler_ss = StandardScaler()\n",
    "X_train = scaler_ss.fit_transform(X_train)\n",
    "X_test=scaler_ss.transform(X_test)\n",
    "\n",
    "start_time_knn = time.time()\n",
    "knn = KNeighborsRegressor()\n",
    "knn.fit(X_train, y_train)\n",
    "knn_y_pred = knn.predict(X_test)\n",
    "end_time_knn = time.time()"
   ]
  },
  {
   "cell_type": "code",
   "execution_count": 40,
   "metadata": {},
   "outputs": [
    {
     "name": "stdout",
     "output_type": "stream",
     "text": [
      "RMSE of knn:  0.02763746692014702\n",
      "MAE of knn:  0.021907218913971935\n",
      "Runtime of knn 0.1719827651977539\n"
     ]
    }
   ],
   "source": [
    "knn_rmse = root_mean_squared_error(y_test, knn_y_pred)\n",
    "print(\"RMSE of knn: \", knn_rmse)\n",
    "knn_mae = mean_absolute_error(y_test, knn_y_pred)\n",
    "print(\"MAE of knn: \", knn_mae)\n",
    "knn_runtime = end_time_knn - start_time_knn\n",
    "print(\"Runtime of knn\", knn_runtime)"
   ]
  },
  {
   "cell_type": "code",
   "execution_count": 5,
   "metadata": {},
   "outputs": [
    {
     "ename": "KeyError",
     "evalue": "\"None of [Index([2626, 5368,  721, 6493,  814, 2532, 4301, 2629, 2628, 2104,\\n       ...\\n       1278, 2432, 6211, 5778, 1938,  739, 2369, 1104, 1334, 3916],\\n      dtype='int32', length=6553)] are in the [columns]\"",
     "output_type": "error",
     "traceback": [
      "\u001b[1;31m---------------------------------------------------------------------------\u001b[0m",
      "\u001b[1;31mKeyError\u001b[0m                                  Traceback (most recent call last)",
      "Cell \u001b[1;32mIn[5], line 4\u001b[0m\n\u001b[0;32m      1\u001b[0m \u001b[38;5;28;01mfrom\u001b[39;00m \u001b[38;5;21;01mllm_implementation\u001b[39;00m \u001b[38;5;28;01mimport\u001b[39;00m RandomForestRegressor \u001b[38;5;28;01mas\u001b[39;00m llm_regressor\n\u001b[0;32m      3\u001b[0m rf \u001b[38;5;241m=\u001b[39m llm_regressor(n_estimators\u001b[38;5;241m=\u001b[39m\u001b[38;5;241m10\u001b[39m, max_depth\u001b[38;5;241m=\u001b[39m\u001b[38;5;241m5\u001b[39m)\n\u001b[1;32m----> 4\u001b[0m \u001b[43mrf\u001b[49m\u001b[38;5;241;43m.\u001b[39;49m\u001b[43mfit\u001b[49m\u001b[43m(\u001b[49m\u001b[43mX_train\u001b[49m\u001b[43m,\u001b[49m\u001b[43m \u001b[49m\u001b[43my_train\u001b[49m\u001b[43m)\u001b[49m\n\u001b[0;32m      5\u001b[0m y_pred \u001b[38;5;241m=\u001b[39m rf\u001b[38;5;241m.\u001b[39mpredict(X_test)\n",
      "File \u001b[1;32mc:\\Users\\marga\\Desktop\\Faculdade\\ML\\git\\MachineLearningCourse\\Exercise2\\llm_implementation.py:108\u001b[0m, in \u001b[0;36mRandomForestRegressor.fit\u001b[1;34m(self, X, y)\u001b[0m\n\u001b[0;32m    106\u001b[0m \u001b[38;5;28;01mfor\u001b[39;00m _ \u001b[38;5;129;01min\u001b[39;00m \u001b[38;5;28mrange\u001b[39m(\u001b[38;5;28mself\u001b[39m\u001b[38;5;241m.\u001b[39mn_estimators):\n\u001b[0;32m    107\u001b[0m     tree \u001b[38;5;241m=\u001b[39m DecisionTreeRegressor(max_depth\u001b[38;5;241m=\u001b[39m\u001b[38;5;28mself\u001b[39m\u001b[38;5;241m.\u001b[39mmax_depth, min_samples_split\u001b[38;5;241m=\u001b[39m\u001b[38;5;28mself\u001b[39m\u001b[38;5;241m.\u001b[39mmin_samples_split)\n\u001b[1;32m--> 108\u001b[0m     X_sample, y_sample \u001b[38;5;241m=\u001b[39m \u001b[38;5;28;43mself\u001b[39;49m\u001b[38;5;241;43m.\u001b[39;49m\u001b[43m_bootstrap_sample\u001b[49m\u001b[43m(\u001b[49m\u001b[43mX\u001b[49m\u001b[43m,\u001b[49m\u001b[43m \u001b[49m\u001b[43my\u001b[49m\u001b[43m)\u001b[49m\n\u001b[0;32m    109\u001b[0m     tree\u001b[38;5;241m.\u001b[39mfit(X_sample, y_sample)\n\u001b[0;32m    110\u001b[0m     \u001b[38;5;28mself\u001b[39m\u001b[38;5;241m.\u001b[39mtrees\u001b[38;5;241m.\u001b[39mappend(tree)\n",
      "File \u001b[1;32mc:\\Users\\marga\\Desktop\\Faculdade\\ML\\git\\MachineLearningCourse\\Exercise2\\llm_implementation.py:121\u001b[0m, in \u001b[0;36mRandomForestRegressor._bootstrap_sample\u001b[1;34m(self, X, y)\u001b[0m\n\u001b[0;32m    119\u001b[0m n_samples \u001b[38;5;241m=\u001b[39m X\u001b[38;5;241m.\u001b[39mshape[\u001b[38;5;241m0\u001b[39m]\n\u001b[0;32m    120\u001b[0m indices \u001b[38;5;241m=\u001b[39m np\u001b[38;5;241m.\u001b[39mrandom\u001b[38;5;241m.\u001b[39mchoice(n_samples, n_samples, replace\u001b[38;5;241m=\u001b[39m\u001b[38;5;28;01mTrue\u001b[39;00m)\n\u001b[1;32m--> 121\u001b[0m \u001b[38;5;28;01mreturn\u001b[39;00m \u001b[43mX\u001b[49m\u001b[43m[\u001b[49m\u001b[43mindices\u001b[49m\u001b[43m]\u001b[49m, y[indices]\n",
      "File \u001b[1;32mc:\\Users\\marga\\Desktop\\Faculdade\\ML\\git\\.venv\\Lib\\site-packages\\pandas\\core\\frame.py:4108\u001b[0m, in \u001b[0;36mDataFrame.__getitem__\u001b[1;34m(self, key)\u001b[0m\n\u001b[0;32m   4106\u001b[0m     \u001b[38;5;28;01mif\u001b[39;00m is_iterator(key):\n\u001b[0;32m   4107\u001b[0m         key \u001b[38;5;241m=\u001b[39m \u001b[38;5;28mlist\u001b[39m(key)\n\u001b[1;32m-> 4108\u001b[0m     indexer \u001b[38;5;241m=\u001b[39m \u001b[38;5;28;43mself\u001b[39;49m\u001b[38;5;241;43m.\u001b[39;49m\u001b[43mcolumns\u001b[49m\u001b[38;5;241;43m.\u001b[39;49m\u001b[43m_get_indexer_strict\u001b[49m\u001b[43m(\u001b[49m\u001b[43mkey\u001b[49m\u001b[43m,\u001b[49m\u001b[43m \u001b[49m\u001b[38;5;124;43m\"\u001b[39;49m\u001b[38;5;124;43mcolumns\u001b[39;49m\u001b[38;5;124;43m\"\u001b[39;49m\u001b[43m)\u001b[49m[\u001b[38;5;241m1\u001b[39m]\n\u001b[0;32m   4110\u001b[0m \u001b[38;5;66;03m# take() does not accept boolean indexers\u001b[39;00m\n\u001b[0;32m   4111\u001b[0m \u001b[38;5;28;01mif\u001b[39;00m \u001b[38;5;28mgetattr\u001b[39m(indexer, \u001b[38;5;124m\"\u001b[39m\u001b[38;5;124mdtype\u001b[39m\u001b[38;5;124m\"\u001b[39m, \u001b[38;5;28;01mNone\u001b[39;00m) \u001b[38;5;241m==\u001b[39m \u001b[38;5;28mbool\u001b[39m:\n",
      "File \u001b[1;32mc:\\Users\\marga\\Desktop\\Faculdade\\ML\\git\\.venv\\Lib\\site-packages\\pandas\\core\\indexes\\base.py:6200\u001b[0m, in \u001b[0;36mIndex._get_indexer_strict\u001b[1;34m(self, key, axis_name)\u001b[0m\n\u001b[0;32m   6197\u001b[0m \u001b[38;5;28;01melse\u001b[39;00m:\n\u001b[0;32m   6198\u001b[0m     keyarr, indexer, new_indexer \u001b[38;5;241m=\u001b[39m \u001b[38;5;28mself\u001b[39m\u001b[38;5;241m.\u001b[39m_reindex_non_unique(keyarr)\n\u001b[1;32m-> 6200\u001b[0m \u001b[38;5;28;43mself\u001b[39;49m\u001b[38;5;241;43m.\u001b[39;49m\u001b[43m_raise_if_missing\u001b[49m\u001b[43m(\u001b[49m\u001b[43mkeyarr\u001b[49m\u001b[43m,\u001b[49m\u001b[43m \u001b[49m\u001b[43mindexer\u001b[49m\u001b[43m,\u001b[49m\u001b[43m \u001b[49m\u001b[43maxis_name\u001b[49m\u001b[43m)\u001b[49m\n\u001b[0;32m   6202\u001b[0m keyarr \u001b[38;5;241m=\u001b[39m \u001b[38;5;28mself\u001b[39m\u001b[38;5;241m.\u001b[39mtake(indexer)\n\u001b[0;32m   6203\u001b[0m \u001b[38;5;28;01mif\u001b[39;00m \u001b[38;5;28misinstance\u001b[39m(key, Index):\n\u001b[0;32m   6204\u001b[0m     \u001b[38;5;66;03m# GH 42790 - Preserve name from an Index\u001b[39;00m\n",
      "File \u001b[1;32mc:\\Users\\marga\\Desktop\\Faculdade\\ML\\git\\.venv\\Lib\\site-packages\\pandas\\core\\indexes\\base.py:6249\u001b[0m, in \u001b[0;36mIndex._raise_if_missing\u001b[1;34m(self, key, indexer, axis_name)\u001b[0m\n\u001b[0;32m   6247\u001b[0m \u001b[38;5;28;01mif\u001b[39;00m nmissing:\n\u001b[0;32m   6248\u001b[0m     \u001b[38;5;28;01mif\u001b[39;00m nmissing \u001b[38;5;241m==\u001b[39m \u001b[38;5;28mlen\u001b[39m(indexer):\n\u001b[1;32m-> 6249\u001b[0m         \u001b[38;5;28;01mraise\u001b[39;00m \u001b[38;5;167;01mKeyError\u001b[39;00m(\u001b[38;5;124mf\u001b[39m\u001b[38;5;124m\"\u001b[39m\u001b[38;5;124mNone of [\u001b[39m\u001b[38;5;132;01m{\u001b[39;00mkey\u001b[38;5;132;01m}\u001b[39;00m\u001b[38;5;124m] are in the [\u001b[39m\u001b[38;5;132;01m{\u001b[39;00maxis_name\u001b[38;5;132;01m}\u001b[39;00m\u001b[38;5;124m]\u001b[39m\u001b[38;5;124m\"\u001b[39m)\n\u001b[0;32m   6251\u001b[0m     not_found \u001b[38;5;241m=\u001b[39m \u001b[38;5;28mlist\u001b[39m(ensure_index(key)[missing_mask\u001b[38;5;241m.\u001b[39mnonzero()[\u001b[38;5;241m0\u001b[39m]]\u001b[38;5;241m.\u001b[39munique())\n\u001b[0;32m   6252\u001b[0m     \u001b[38;5;28;01mraise\u001b[39;00m \u001b[38;5;167;01mKeyError\u001b[39;00m(\u001b[38;5;124mf\u001b[39m\u001b[38;5;124m\"\u001b[39m\u001b[38;5;132;01m{\u001b[39;00mnot_found\u001b[38;5;132;01m}\u001b[39;00m\u001b[38;5;124m not in index\u001b[39m\u001b[38;5;124m\"\u001b[39m)\n",
      "\u001b[1;31mKeyError\u001b[0m: \"None of [Index([2626, 5368,  721, 6493,  814, 2532, 4301, 2629, 2628, 2104,\\n       ...\\n       1278, 2432, 6211, 5778, 1938,  739, 2369, 1104, 1334, 3916],\\n      dtype='int32', length=6553)] are in the [columns]\""
     ]
    }
   ],
   "source": [
    "from llm_implementation import RandomForestRegressor as llm_regressor\n",
    "\n",
    "rf = llm_regressor(n_estimators=10, max_depth=5)\n",
    "rf.fit(X_train, y_train)\n",
    "y_pred = rf.predict(X_test)"
   ]
  },
  {
   "cell_type": "code",
   "execution_count": 6,
   "metadata": {},
   "outputs": [
    {
     "data": {
      "text/html": [
       "<div>\n",
       "<style scoped>\n",
       "    .dataframe tbody tr th:only-of-type {\n",
       "        vertical-align: middle;\n",
       "    }\n",
       "\n",
       "    .dataframe tbody tr th {\n",
       "        vertical-align: top;\n",
       "    }\n",
       "\n",
       "    .dataframe thead th {\n",
       "        text-align: right;\n",
       "    }\n",
       "</style>\n",
       "<table border=\"1\" class=\"dataframe\">\n",
       "  <thead>\n",
       "    <tr style=\"text-align: right;\">\n",
       "      <th></th>\n",
       "      <th>theta1</th>\n",
       "      <th>theta2</th>\n",
       "      <th>theta3</th>\n",
       "      <th>theta4</th>\n",
       "      <th>theta5</th>\n",
       "      <th>theta6</th>\n",
       "      <th>thetad1</th>\n",
       "      <th>thetad2</th>\n",
       "      <th>thetad3</th>\n",
       "      <th>thetad4</th>\n",
       "      <th>...</th>\n",
       "      <th>da1</th>\n",
       "      <th>da2</th>\n",
       "      <th>da3</th>\n",
       "      <th>da4</th>\n",
       "      <th>da5</th>\n",
       "      <th>db1</th>\n",
       "      <th>db2</th>\n",
       "      <th>db3</th>\n",
       "      <th>db4</th>\n",
       "      <th>db5</th>\n",
       "    </tr>\n",
       "  </thead>\n",
       "  <tbody>\n",
       "    <tr>\n",
       "      <th>1691</th>\n",
       "      <td>1.904751</td>\n",
       "      <td>1.895392</td>\n",
       "      <td>0.110673</td>\n",
       "      <td>-1.311896</td>\n",
       "      <td>0.232535</td>\n",
       "      <td>1.648414</td>\n",
       "      <td>0.765112</td>\n",
       "      <td>-0.872565</td>\n",
       "      <td>-0.240920</td>\n",
       "      <td>-1.203002</td>\n",
       "      <td>...</td>\n",
       "      <td>2.318851</td>\n",
       "      <td>2.180290</td>\n",
       "      <td>2.139835</td>\n",
       "      <td>1.714622</td>\n",
       "      <td>1.155877</td>\n",
       "      <td>1.819402</td>\n",
       "      <td>0.437044</td>\n",
       "      <td>0.648944</td>\n",
       "      <td>0.304627</td>\n",
       "      <td>0.364499</td>\n",
       "    </tr>\n",
       "    <tr>\n",
       "      <th>7879</th>\n",
       "      <td>0.179051</td>\n",
       "      <td>-1.912250</td>\n",
       "      <td>-0.685383</td>\n",
       "      <td>-2.161114</td>\n",
       "      <td>1.257718</td>\n",
       "      <td>-1.317993</td>\n",
       "      <td>1.435174</td>\n",
       "      <td>-1.754471</td>\n",
       "      <td>-1.981231</td>\n",
       "      <td>-0.802757</td>\n",
       "      <td>...</td>\n",
       "      <td>0.467906</td>\n",
       "      <td>1.844357</td>\n",
       "      <td>1.357037</td>\n",
       "      <td>0.966272</td>\n",
       "      <td>1.129766</td>\n",
       "      <td>1.735333</td>\n",
       "      <td>0.495524</td>\n",
       "      <td>0.272778</td>\n",
       "      <td>0.583843</td>\n",
       "      <td>1.903152</td>\n",
       "    </tr>\n",
       "    <tr>\n",
       "      <th>6496</th>\n",
       "      <td>0.837958</td>\n",
       "      <td>-1.764893</td>\n",
       "      <td>1.926906</td>\n",
       "      <td>1.965601</td>\n",
       "      <td>2.016782</td>\n",
       "      <td>-0.165862</td>\n",
       "      <td>2.086846</td>\n",
       "      <td>-0.685927</td>\n",
       "      <td>-1.865243</td>\n",
       "      <td>-2.321212</td>\n",
       "      <td>...</td>\n",
       "      <td>1.098764</td>\n",
       "      <td>0.419247</td>\n",
       "      <td>0.779014</td>\n",
       "      <td>1.646267</td>\n",
       "      <td>2.058359</td>\n",
       "      <td>0.337407</td>\n",
       "      <td>2.298088</td>\n",
       "      <td>1.967115</td>\n",
       "      <td>1.293542</td>\n",
       "      <td>0.313194</td>\n",
       "    </tr>\n",
       "    <tr>\n",
       "      <th>4934</th>\n",
       "      <td>1.722582</td>\n",
       "      <td>-1.488190</td>\n",
       "      <td>1.357002</td>\n",
       "      <td>-0.832003</td>\n",
       "      <td>-1.823607</td>\n",
       "      <td>0.010178</td>\n",
       "      <td>1.422106</td>\n",
       "      <td>0.101447</td>\n",
       "      <td>-0.871628</td>\n",
       "      <td>1.369834</td>\n",
       "      <td>...</td>\n",
       "      <td>1.241424</td>\n",
       "      <td>1.862988</td>\n",
       "      <td>1.740085</td>\n",
       "      <td>1.600071</td>\n",
       "      <td>1.893099</td>\n",
       "      <td>1.566228</td>\n",
       "      <td>2.346728</td>\n",
       "      <td>0.450944</td>\n",
       "      <td>0.260913</td>\n",
       "      <td>1.413067</td>\n",
       "    </tr>\n",
       "    <tr>\n",
       "      <th>4266</th>\n",
       "      <td>-0.290537</td>\n",
       "      <td>-1.017016</td>\n",
       "      <td>-1.153431</td>\n",
       "      <td>1.054155</td>\n",
       "      <td>-1.393765</td>\n",
       "      <td>0.286428</td>\n",
       "      <td>-2.062747</td>\n",
       "      <td>0.461303</td>\n",
       "      <td>1.241224</td>\n",
       "      <td>-0.498280</td>\n",
       "      <td>...</td>\n",
       "      <td>0.442277</td>\n",
       "      <td>0.841228</td>\n",
       "      <td>1.016179</td>\n",
       "      <td>0.675517</td>\n",
       "      <td>1.418410</td>\n",
       "      <td>1.964522</td>\n",
       "      <td>0.473902</td>\n",
       "      <td>1.368930</td>\n",
       "      <td>0.602744</td>\n",
       "      <td>2.325780</td>\n",
       "    </tr>\n",
       "    <tr>\n",
       "      <th>...</th>\n",
       "      <td>...</td>\n",
       "      <td>...</td>\n",
       "      <td>...</td>\n",
       "      <td>...</td>\n",
       "      <td>...</td>\n",
       "      <td>...</td>\n",
       "      <td>...</td>\n",
       "      <td>...</td>\n",
       "      <td>...</td>\n",
       "      <td>...</td>\n",
       "      <td>...</td>\n",
       "      <td>...</td>\n",
       "      <td>...</td>\n",
       "      <td>...</td>\n",
       "      <td>...</td>\n",
       "      <td>...</td>\n",
       "      <td>...</td>\n",
       "      <td>...</td>\n",
       "      <td>...</td>\n",
       "      <td>...</td>\n",
       "      <td>...</td>\n",
       "    </tr>\n",
       "    <tr>\n",
       "      <th>5226</th>\n",
       "      <td>-0.935093</td>\n",
       "      <td>-0.285781</td>\n",
       "      <td>-1.197211</td>\n",
       "      <td>0.371760</td>\n",
       "      <td>-0.456779</td>\n",
       "      <td>-0.603911</td>\n",
       "      <td>0.557011</td>\n",
       "      <td>-1.835407</td>\n",
       "      <td>-0.382932</td>\n",
       "      <td>1.187270</td>\n",
       "      <td>...</td>\n",
       "      <td>2.014409</td>\n",
       "      <td>1.916128</td>\n",
       "      <td>1.608578</td>\n",
       "      <td>0.873734</td>\n",
       "      <td>0.591794</td>\n",
       "      <td>0.537881</td>\n",
       "      <td>1.166252</td>\n",
       "      <td>0.704288</td>\n",
       "      <td>1.220723</td>\n",
       "      <td>0.434748</td>\n",
       "    </tr>\n",
       "    <tr>\n",
       "      <th>5390</th>\n",
       "      <td>0.194012</td>\n",
       "      <td>-0.218197</td>\n",
       "      <td>-1.002541</td>\n",
       "      <td>1.787171</td>\n",
       "      <td>0.219071</td>\n",
       "      <td>1.548987</td>\n",
       "      <td>-2.122598</td>\n",
       "      <td>-1.724409</td>\n",
       "      <td>-0.941450</td>\n",
       "      <td>1.259450</td>\n",
       "      <td>...</td>\n",
       "      <td>0.985636</td>\n",
       "      <td>0.341529</td>\n",
       "      <td>1.834501</td>\n",
       "      <td>2.205199</td>\n",
       "      <td>2.274839</td>\n",
       "      <td>0.476030</td>\n",
       "      <td>1.139397</td>\n",
       "      <td>1.602680</td>\n",
       "      <td>0.734504</td>\n",
       "      <td>0.561533</td>\n",
       "    </tr>\n",
       "    <tr>\n",
       "      <th>860</th>\n",
       "      <td>2.142092</td>\n",
       "      <td>-0.508243</td>\n",
       "      <td>1.514862</td>\n",
       "      <td>-0.759127</td>\n",
       "      <td>-2.206980</td>\n",
       "      <td>-1.490702</td>\n",
       "      <td>1.543897</td>\n",
       "      <td>1.854977</td>\n",
       "      <td>-0.565085</td>\n",
       "      <td>-1.913362</td>\n",
       "      <td>...</td>\n",
       "      <td>1.083956</td>\n",
       "      <td>1.304445</td>\n",
       "      <td>1.313533</td>\n",
       "      <td>1.054509</td>\n",
       "      <td>1.388162</td>\n",
       "      <td>2.093777</td>\n",
       "      <td>1.610446</td>\n",
       "      <td>0.770079</td>\n",
       "      <td>2.213856</td>\n",
       "      <td>1.532255</td>\n",
       "    </tr>\n",
       "    <tr>\n",
       "      <th>7603</th>\n",
       "      <td>0.677351</td>\n",
       "      <td>-0.899384</td>\n",
       "      <td>1.397779</td>\n",
       "      <td>1.215275</td>\n",
       "      <td>1.629183</td>\n",
       "      <td>-2.005179</td>\n",
       "      <td>1.961596</td>\n",
       "      <td>0.672966</td>\n",
       "      <td>0.801478</td>\n",
       "      <td>-2.276803</td>\n",
       "      <td>...</td>\n",
       "      <td>1.015878</td>\n",
       "      <td>2.355016</td>\n",
       "      <td>0.255454</td>\n",
       "      <td>1.922010</td>\n",
       "      <td>1.478332</td>\n",
       "      <td>1.077759</td>\n",
       "      <td>0.638861</td>\n",
       "      <td>1.842094</td>\n",
       "      <td>1.582099</td>\n",
       "      <td>1.342431</td>\n",
       "    </tr>\n",
       "    <tr>\n",
       "      <th>7270</th>\n",
       "      <td>-0.043559</td>\n",
       "      <td>-1.668652</td>\n",
       "      <td>-1.607503</td>\n",
       "      <td>-1.177279</td>\n",
       "      <td>0.785712</td>\n",
       "      <td>1.346658</td>\n",
       "      <td>-0.328091</td>\n",
       "      <td>-0.726520</td>\n",
       "      <td>-0.814157</td>\n",
       "      <td>1.245487</td>\n",
       "      <td>...</td>\n",
       "      <td>1.241299</td>\n",
       "      <td>2.009025</td>\n",
       "      <td>1.436498</td>\n",
       "      <td>2.221305</td>\n",
       "      <td>0.728134</td>\n",
       "      <td>1.499795</td>\n",
       "      <td>1.798667</td>\n",
       "      <td>0.696767</td>\n",
       "      <td>0.809077</td>\n",
       "      <td>0.660286</td>\n",
       "    </tr>\n",
       "  </tbody>\n",
       "</table>\n",
       "<p>6553 rows × 32 columns</p>\n",
       "</div>"
      ],
      "text/plain": [
       "        theta1    theta2    theta3    theta4    theta5    theta6   thetad1  \\\n",
       "1691  1.904751  1.895392  0.110673 -1.311896  0.232535  1.648414  0.765112   \n",
       "7879  0.179051 -1.912250 -0.685383 -2.161114  1.257718 -1.317993  1.435174   \n",
       "6496  0.837958 -1.764893  1.926906  1.965601  2.016782 -0.165862  2.086846   \n",
       "4934  1.722582 -1.488190  1.357002 -0.832003 -1.823607  0.010178  1.422106   \n",
       "4266 -0.290537 -1.017016 -1.153431  1.054155 -1.393765  0.286428 -2.062747   \n",
       "...        ...       ...       ...       ...       ...       ...       ...   \n",
       "5226 -0.935093 -0.285781 -1.197211  0.371760 -0.456779 -0.603911  0.557011   \n",
       "5390  0.194012 -0.218197 -1.002541  1.787171  0.219071  1.548987 -2.122598   \n",
       "860   2.142092 -0.508243  1.514862 -0.759127 -2.206980 -1.490702  1.543897   \n",
       "7603  0.677351 -0.899384  1.397779  1.215275  1.629183 -2.005179  1.961596   \n",
       "7270 -0.043559 -1.668652 -1.607503 -1.177279  0.785712  1.346658 -0.328091   \n",
       "\n",
       "       thetad2   thetad3   thetad4  ...       da1       da2       da3  \\\n",
       "1691 -0.872565 -0.240920 -1.203002  ...  2.318851  2.180290  2.139835   \n",
       "7879 -1.754471 -1.981231 -0.802757  ...  0.467906  1.844357  1.357037   \n",
       "6496 -0.685927 -1.865243 -2.321212  ...  1.098764  0.419247  0.779014   \n",
       "4934  0.101447 -0.871628  1.369834  ...  1.241424  1.862988  1.740085   \n",
       "4266  0.461303  1.241224 -0.498280  ...  0.442277  0.841228  1.016179   \n",
       "...        ...       ...       ...  ...       ...       ...       ...   \n",
       "5226 -1.835407 -0.382932  1.187270  ...  2.014409  1.916128  1.608578   \n",
       "5390 -1.724409 -0.941450  1.259450  ...  0.985636  0.341529  1.834501   \n",
       "860   1.854977 -0.565085 -1.913362  ...  1.083956  1.304445  1.313533   \n",
       "7603  0.672966  0.801478 -2.276803  ...  1.015878  2.355016  0.255454   \n",
       "7270 -0.726520 -0.814157  1.245487  ...  1.241299  2.009025  1.436498   \n",
       "\n",
       "           da4       da5       db1       db2       db3       db4       db5  \n",
       "1691  1.714622  1.155877  1.819402  0.437044  0.648944  0.304627  0.364499  \n",
       "7879  0.966272  1.129766  1.735333  0.495524  0.272778  0.583843  1.903152  \n",
       "6496  1.646267  2.058359  0.337407  2.298088  1.967115  1.293542  0.313194  \n",
       "4934  1.600071  1.893099  1.566228  2.346728  0.450944  0.260913  1.413067  \n",
       "4266  0.675517  1.418410  1.964522  0.473902  1.368930  0.602744  2.325780  \n",
       "...        ...       ...       ...       ...       ...       ...       ...  \n",
       "5226  0.873734  0.591794  0.537881  1.166252  0.704288  1.220723  0.434748  \n",
       "5390  2.205199  2.274839  0.476030  1.139397  1.602680  0.734504  0.561533  \n",
       "860   1.054509  1.388162  2.093777  1.610446  0.770079  2.213856  1.532255  \n",
       "7603  1.922010  1.478332  1.077759  0.638861  1.842094  1.582099  1.342431  \n",
       "7270  2.221305  0.728134  1.499795  1.798667  0.696767  0.809077  0.660286  \n",
       "\n",
       "[6553 rows x 32 columns]"
      ]
     },
     "execution_count": 6,
     "metadata": {},
     "output_type": "execute_result"
    }
   ],
   "source": [
    "X_train"
   ]
  }
 ],
 "metadata": {
  "kernelspec": {
   "display_name": ".venv",
   "language": "python",
   "name": "python3"
  },
  "language_info": {
   "codemirror_mode": {
    "name": "ipython",
    "version": 3
   },
   "file_extension": ".py",
   "mimetype": "text/x-python",
   "name": "python",
   "nbconvert_exporter": "python",
   "pygments_lexer": "ipython3",
   "version": "3.11.9"
  }
 },
 "nbformat": 4,
 "nbformat_minor": 2
}
