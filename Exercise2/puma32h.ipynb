{
 "cells": [
  {
   "cell_type": "markdown",
   "metadata": {},
   "source": [
    "# puma32H dataset\n",
    "[Source](https://www.openml.org/search?type=data&sort=qualities.NumberOfFeatures&status=active&qualities.NumberOfClasses=lte_1&qualities.NumberOfFeatures=between_10_100&format=ARFF&qualities.NumberOfInstances=between_1000_10000&id=308)\n",
    "\n",
    "Goal: predict the angular accelaration of one of the robot arm's links\n",
    "\n",
    "Perfect challenge for a random forest tree regressor.\n",
    "\n",
    "8192 instances\n",
    "\n",
    "33 features\n",
    "\n",
    "This dataset includes a realistic simulation of the dynamics of a Puma 560 robot arm."
   ]
  },
  {
   "cell_type": "markdown",
   "metadata": {},
   "source": [
    "### Import libraries"
   ]
  },
  {
   "cell_type": "code",
   "execution_count": 38,
   "metadata": {},
   "outputs": [],
   "source": [
    "import numpy as np\n",
    "import pandas as pd\n",
    "from scipy.io.arff import loadarff \n",
    "from sklearn.model_selection import train_test_split\n",
    "from sklearn.metrics import root_mean_squared_error\n",
    "from sklearn.metrics import mean_absolute_error\n",
    "import sklearn\n",
    "from random_forest_regressor import RandomForestRegressor\n",
    "from sklearn.neighbors import KNeighborsRegressor\n",
    "from sklearn.preprocessing import StandardScaler\n",
    "import sklearn.ensemble\n",
    "import time\n",
    "\n",
    "RANDOM_SEED = 42\n"
   ]
  },
  {
   "cell_type": "markdown",
   "metadata": {},
   "source": [
    "### Import data"
   ]
  },
  {
   "cell_type": "code",
   "execution_count": 2,
   "metadata": {},
   "outputs": [],
   "source": [
    "raw_data = loadarff('phpJEvZWG.arff')\n",
    "df = pd.DataFrame(raw_data[0])"
   ]
  },
  {
   "cell_type": "code",
   "execution_count": 3,
   "metadata": {},
   "outputs": [
    {
     "data": {
      "text/html": [
       "<div>\n",
       "<style scoped>\n",
       "    .dataframe tbody tr th:only-of-type {\n",
       "        vertical-align: middle;\n",
       "    }\n",
       "\n",
       "    .dataframe tbody tr th {\n",
       "        vertical-align: top;\n",
       "    }\n",
       "\n",
       "    .dataframe thead th {\n",
       "        text-align: right;\n",
       "    }\n",
       "</style>\n",
       "<table border=\"1\" class=\"dataframe\">\n",
       "  <thead>\n",
       "    <tr style=\"text-align: right;\">\n",
       "      <th></th>\n",
       "      <th>theta1</th>\n",
       "      <th>theta2</th>\n",
       "      <th>theta3</th>\n",
       "      <th>theta4</th>\n",
       "      <th>theta5</th>\n",
       "      <th>theta6</th>\n",
       "      <th>thetad1</th>\n",
       "      <th>thetad2</th>\n",
       "      <th>thetad3</th>\n",
       "      <th>thetad4</th>\n",
       "      <th>...</th>\n",
       "      <th>da2</th>\n",
       "      <th>da3</th>\n",
       "      <th>da4</th>\n",
       "      <th>da5</th>\n",
       "      <th>db1</th>\n",
       "      <th>db2</th>\n",
       "      <th>db3</th>\n",
       "      <th>db4</th>\n",
       "      <th>db5</th>\n",
       "      <th>thetadd6</th>\n",
       "    </tr>\n",
       "  </thead>\n",
       "  <tbody>\n",
       "    <tr>\n",
       "      <th>0</th>\n",
       "      <td>0.736460</td>\n",
       "      <td>-1.761829</td>\n",
       "      <td>1.590594</td>\n",
       "      <td>-0.268853</td>\n",
       "      <td>0.572145</td>\n",
       "      <td>-1.941886</td>\n",
       "      <td>0.727704</td>\n",
       "      <td>1.869884</td>\n",
       "      <td>0.224501</td>\n",
       "      <td>-1.442215</td>\n",
       "      <td>...</td>\n",
       "      <td>2.220872</td>\n",
       "      <td>2.440442</td>\n",
       "      <td>0.510303</td>\n",
       "      <td>1.157391</td>\n",
       "      <td>0.265448</td>\n",
       "      <td>1.141465</td>\n",
       "      <td>0.356314</td>\n",
       "      <td>0.568853</td>\n",
       "      <td>1.954376</td>\n",
       "      <td>0.052627</td>\n",
       "    </tr>\n",
       "    <tr>\n",
       "      <th>1</th>\n",
       "      <td>-0.389711</td>\n",
       "      <td>0.342256</td>\n",
       "      <td>-1.522463</td>\n",
       "      <td>0.237098</td>\n",
       "      <td>-1.771509</td>\n",
       "      <td>-0.885488</td>\n",
       "      <td>-0.679111</td>\n",
       "      <td>-0.410219</td>\n",
       "      <td>-0.331288</td>\n",
       "      <td>2.092878</td>\n",
       "      <td>...</td>\n",
       "      <td>1.580327</td>\n",
       "      <td>0.809171</td>\n",
       "      <td>2.235141</td>\n",
       "      <td>1.517466</td>\n",
       "      <td>1.795334</td>\n",
       "      <td>0.929355</td>\n",
       "      <td>1.663727</td>\n",
       "      <td>0.754457</td>\n",
       "      <td>0.650492</td>\n",
       "      <td>0.001308</td>\n",
       "    </tr>\n",
       "    <tr>\n",
       "      <th>2</th>\n",
       "      <td>-0.269351</td>\n",
       "      <td>1.622452</td>\n",
       "      <td>-2.047811</td>\n",
       "      <td>1.720603</td>\n",
       "      <td>-1.749964</td>\n",
       "      <td>-1.618348</td>\n",
       "      <td>0.327188</td>\n",
       "      <td>-0.317671</td>\n",
       "      <td>0.046938</td>\n",
       "      <td>1.911881</td>\n",
       "      <td>...</td>\n",
       "      <td>1.723625</td>\n",
       "      <td>1.718983</td>\n",
       "      <td>2.438604</td>\n",
       "      <td>1.113059</td>\n",
       "      <td>2.180270</td>\n",
       "      <td>1.794781</td>\n",
       "      <td>0.627965</td>\n",
       "      <td>0.961728</td>\n",
       "      <td>1.258398</td>\n",
       "      <td>0.003834</td>\n",
       "    </tr>\n",
       "    <tr>\n",
       "      <th>3</th>\n",
       "      <td>0.256840</td>\n",
       "      <td>0.165040</td>\n",
       "      <td>-1.776401</td>\n",
       "      <td>1.723357</td>\n",
       "      <td>2.117348</td>\n",
       "      <td>-1.692605</td>\n",
       "      <td>1.077334</td>\n",
       "      <td>1.761624</td>\n",
       "      <td>-0.333281</td>\n",
       "      <td>1.573860</td>\n",
       "      <td>...</td>\n",
       "      <td>1.369922</td>\n",
       "      <td>1.528851</td>\n",
       "      <td>1.901706</td>\n",
       "      <td>2.222391</td>\n",
       "      <td>0.968513</td>\n",
       "      <td>0.546513</td>\n",
       "      <td>2.236340</td>\n",
       "      <td>1.412382</td>\n",
       "      <td>1.898374</td>\n",
       "      <td>-0.002010</td>\n",
       "    </tr>\n",
       "    <tr>\n",
       "      <th>4</th>\n",
       "      <td>0.968270</td>\n",
       "      <td>1.834561</td>\n",
       "      <td>0.299747</td>\n",
       "      <td>0.308144</td>\n",
       "      <td>0.064617</td>\n",
       "      <td>2.174855</td>\n",
       "      <td>-1.213028</td>\n",
       "      <td>-1.563548</td>\n",
       "      <td>-2.277270</td>\n",
       "      <td>-0.059009</td>\n",
       "      <td>...</td>\n",
       "      <td>1.171433</td>\n",
       "      <td>2.273871</td>\n",
       "      <td>2.199479</td>\n",
       "      <td>0.646400</td>\n",
       "      <td>0.302676</td>\n",
       "      <td>1.323917</td>\n",
       "      <td>2.324899</td>\n",
       "      <td>0.334220</td>\n",
       "      <td>0.491228</td>\n",
       "      <td>0.015778</td>\n",
       "    </tr>\n",
       "  </tbody>\n",
       "</table>\n",
       "<p>5 rows × 33 columns</p>\n",
       "</div>"
      ],
      "text/plain": [
       "     theta1    theta2    theta3    theta4    theta5    theta6   thetad1  \\\n",
       "0  0.736460 -1.761829  1.590594 -0.268853  0.572145 -1.941886  0.727704   \n",
       "1 -0.389711  0.342256 -1.522463  0.237098 -1.771509 -0.885488 -0.679111   \n",
       "2 -0.269351  1.622452 -2.047811  1.720603 -1.749964 -1.618348  0.327188   \n",
       "3  0.256840  0.165040 -1.776401  1.723357  2.117348 -1.692605  1.077334   \n",
       "4  0.968270  1.834561  0.299747  0.308144  0.064617  2.174855 -1.213028   \n",
       "\n",
       "    thetad2   thetad3   thetad4  ...       da2       da3       da4       da5  \\\n",
       "0  1.869884  0.224501 -1.442215  ...  2.220872  2.440442  0.510303  1.157391   \n",
       "1 -0.410219 -0.331288  2.092878  ...  1.580327  0.809171  2.235141  1.517466   \n",
       "2 -0.317671  0.046938  1.911881  ...  1.723625  1.718983  2.438604  1.113059   \n",
       "3  1.761624 -0.333281  1.573860  ...  1.369922  1.528851  1.901706  2.222391   \n",
       "4 -1.563548 -2.277270 -0.059009  ...  1.171433  2.273871  2.199479  0.646400   \n",
       "\n",
       "        db1       db2       db3       db4       db5  thetadd6  \n",
       "0  0.265448  1.141465  0.356314  0.568853  1.954376  0.052627  \n",
       "1  1.795334  0.929355  1.663727  0.754457  0.650492  0.001308  \n",
       "2  2.180270  1.794781  0.627965  0.961728  1.258398  0.003834  \n",
       "3  0.968513  0.546513  2.236340  1.412382  1.898374 -0.002010  \n",
       "4  0.302676  1.323917  2.324899  0.334220  0.491228  0.015778  \n",
       "\n",
       "[5 rows x 33 columns]"
      ]
     },
     "execution_count": 3,
     "metadata": {},
     "output_type": "execute_result"
    }
   ],
   "source": [
    "df.head()"
   ]
  },
  {
   "cell_type": "code",
   "execution_count": 4,
   "metadata": {},
   "outputs": [
    {
     "data": {
      "text/plain": [
       "(8192, 33)"
      ]
     },
     "execution_count": 4,
     "metadata": {},
     "output_type": "execute_result"
    }
   ],
   "source": [
    "df.shape # (39644\t61)"
   ]
  },
  {
   "cell_type": "code",
   "execution_count": 5,
   "metadata": {},
   "outputs": [
    {
     "data": {
      "text/plain": [
       "np.int64(0)"
      ]
     },
     "execution_count": 5,
     "metadata": {},
     "output_type": "execute_result"
    }
   ],
   "source": [
    "df.isna().any().sum()"
   ]
  },
  {
   "cell_type": "code",
   "execution_count": 6,
   "metadata": {},
   "outputs": [
    {
     "name": "stdout",
     "output_type": "stream",
     "text": [
      "<class 'pandas.core.frame.DataFrame'>\n",
      "RangeIndex: 8192 entries, 0 to 8191\n",
      "Data columns (total 33 columns):\n",
      " #   Column    Non-Null Count  Dtype  \n",
      "---  ------    --------------  -----  \n",
      " 0   theta1    8192 non-null   float64\n",
      " 1   theta2    8192 non-null   float64\n",
      " 2   theta3    8192 non-null   float64\n",
      " 3   theta4    8192 non-null   float64\n",
      " 4   theta5    8192 non-null   float64\n",
      " 5   theta6    8192 non-null   float64\n",
      " 6   thetad1   8192 non-null   float64\n",
      " 7   thetad2   8192 non-null   float64\n",
      " 8   thetad3   8192 non-null   float64\n",
      " 9   thetad4   8192 non-null   float64\n",
      " 10  thetad5   8192 non-null   float64\n",
      " 11  thetad6   8192 non-null   float64\n",
      " 12  tau1      8192 non-null   float64\n",
      " 13  tau2      8192 non-null   float64\n",
      " 14  tau3      8192 non-null   float64\n",
      " 15  tau4      8192 non-null   float64\n",
      " 16  tau5      8192 non-null   float64\n",
      " 17  dm1       8192 non-null   float64\n",
      " 18  dm2       8192 non-null   float64\n",
      " 19  dm3       8192 non-null   float64\n",
      " 20  dm4       8192 non-null   float64\n",
      " 21  dm5       8192 non-null   float64\n",
      " 22  da1       8192 non-null   float64\n",
      " 23  da2       8192 non-null   float64\n",
      " 24  da3       8192 non-null   float64\n",
      " 25  da4       8192 non-null   float64\n",
      " 26  da5       8192 non-null   float64\n",
      " 27  db1       8192 non-null   float64\n",
      " 28  db2       8192 non-null   float64\n",
      " 29  db3       8192 non-null   float64\n",
      " 30  db4       8192 non-null   float64\n",
      " 31  db5       8192 non-null   float64\n",
      " 32  thetadd6  8192 non-null   float64\n",
      "dtypes: float64(33)\n",
      "memory usage: 2.1 MB\n"
     ]
    }
   ],
   "source": [
    "df.info()"
   ]
  },
  {
   "cell_type": "code",
   "execution_count": 7,
   "metadata": {},
   "outputs": [
    {
     "data": {
      "text/plain": [
       "False"
      ]
     },
     "execution_count": 7,
     "metadata": {},
     "output_type": "execute_result"
    }
   ],
   "source": [
    "df.empty"
   ]
  },
  {
   "cell_type": "markdown",
   "metadata": {},
   "source": [
    "Based on the description of the variables, we will drop \"url\", since it works as an ID, and also drop \"timedelta\", since it represents days between the article publication and the dataset acquisition (non-predictive)"
   ]
  },
  {
   "cell_type": "markdown",
   "metadata": {},
   "source": [
    "### Prepare the data"
   ]
  },
  {
   "cell_type": "code",
   "execution_count": 8,
   "metadata": {},
   "outputs": [],
   "source": [
    "X_data = df.drop(\"thetadd6\", axis=1)\n",
    "y_data = df[\"thetadd6\"]\n",
    "\n",
    "\n",
    "X_train, X_test, y_train, y_test = train_test_split(X_data, y_data, test_size=0.2, random_state=RANDOM_SEED)"
   ]
  },
  {
   "cell_type": "markdown",
   "metadata": {},
   "source": [
    "## Run the experiments\n",
    "\n",
    "### Baseline experiment"
   ]
  },
  {
   "cell_type": "code",
   "execution_count": 10,
   "metadata": {},
   "outputs": [],
   "source": [
    "start_time_implementation = time.time()\n",
    "rf = RandomForestRegressor(n_trees=5, max_features=1, min_samples_split=2, max_depth=5, random_state=RANDOM_SEED)\n",
    "rf.train(X_train, y_train)\n",
    "y_pred = rf.predict(X_test)\n",
    "end_time_implementation = time.time()"
   ]
  },
  {
   "cell_type": "code",
   "execution_count": 11,
   "metadata": {},
   "outputs": [],
   "source": [
    "start_time_sk = time.time()\n",
    "sklearn_rf = sklearn.ensemble.RandomForestRegressor(n_estimators=5, max_depth=5, random_state=RANDOM_SEED)\n",
    "sklearn_rf.fit(X_train, y_train)\n",
    "sk_y_pred = sklearn_rf.predict(X_test)\n",
    "end_time_sk = time.time()"
   ]
  },
  {
   "cell_type": "code",
   "execution_count": 12,
   "metadata": {},
   "outputs": [
    {
     "name": "stdout",
     "output_type": "stream",
     "text": [
      "RMSE of implementation:  0.02942777195908711\n",
      "MAE of implementation:  0.022627228393050633\n",
      "RMSE of sklearn:  0.0111023799842939\n",
      "MAE of sklearn:  0.00873443982270454\n",
      "Runtime of implementation 122.92449593544006\n",
      "Runtime of sklearn 0.37678050994873047\n"
     ]
    }
   ],
   "source": [
    "implementation_rmse = root_mean_squared_error(y_test, y_pred)\n",
    "implementation_mae = mean_absolute_error(y_test, y_pred)\n",
    "sklearn_rmse = root_mean_squared_error(y_test, sk_y_pred)\n",
    "sklearn_mae = mean_absolute_error(y_test, sk_y_pred)\n",
    "print(\"RMSE of implementation: \", implementation_rmse)\n",
    "print(\"MAE of implementation: \", implementation_mae)\n",
    "print(\"RMSE of sklearn: \", sklearn_rmse)\n",
    "print(\"MAE of sklearn: \", sklearn_mae)\n",
    "implementation_runtime = end_time_implementation - start_time_implementation\n",
    "sklearn_runtime = end_time_sk - start_time_sk\n",
    "print(\"Runtime of implementation\", implementation_runtime)\n",
    "print(\"Runtime of sklearn\", sklearn_runtime)"
   ]
  },
  {
   "cell_type": "markdown",
   "metadata": {},
   "source": [
    "### Experiments on trees depth\n",
    "**1. Decrease tree depth to 2 instead of 5** "
   ]
  },
  {
   "cell_type": "code",
   "execution_count": 13,
   "metadata": {},
   "outputs": [],
   "source": [
    "start_time_implementation = time.time()\n",
    "rf = RandomForestRegressor(n_trees=5, max_features=1, min_samples_split=2, max_depth=2, random_state=RANDOM_SEED)\n",
    "rf.train(X_train, y_train)\n",
    "y_pred = rf.predict(X_test)\n",
    "end_time_implementation = time.time()"
   ]
  },
  {
   "cell_type": "code",
   "execution_count": 14,
   "metadata": {},
   "outputs": [],
   "source": [
    "start_time_sk = time.time()\n",
    "sklearn_rf = sklearn.ensemble.RandomForestRegressor(n_estimators=5, max_depth=2, random_state=RANDOM_SEED)\n",
    "sklearn_rf.fit(X_train, y_train)\n",
    "sk_y_pred = sklearn_rf.predict(X_test)\n",
    "end_time_sk = time.time()"
   ]
  },
  {
   "cell_type": "code",
   "execution_count": 15,
   "metadata": {},
   "outputs": [
    {
     "name": "stdout",
     "output_type": "stream",
     "text": [
      "RMSE of implementation:  0.0294180123909433\n",
      "MAE of implementation:  0.022618471211399725\n",
      "RMSE of sklearn:  0.023396654004291365\n",
      "MAE of sklearn:  0.01804306602457138\n",
      "Runtime of implementation 48.63184690475464\n",
      "Runtime of sklearn 0.16441941261291504\n"
     ]
    }
   ],
   "source": [
    "implementation_rmse = root_mean_squared_error(y_test, y_pred)\n",
    "implementation_mae = mean_absolute_error(y_test, y_pred)\n",
    "sklearn_rmse = root_mean_squared_error(y_test, sk_y_pred)\n",
    "sklearn_mae = mean_absolute_error(y_test, sk_y_pred)\n",
    "\n",
    "print(\"RMSE of implementation: \", implementation_rmse)\n",
    "print(\"MAE of implementation: \", implementation_mae)\n",
    "print(\"RMSE of sklearn: \", sklearn_rmse)\n",
    "print(\"MAE of sklearn: \", sklearn_mae)\n",
    "implementation_runtime = end_time_implementation - start_time_implementation\n",
    "sklearn_runtime = end_time_sk - start_time_sk\n",
    "print(\"Runtime of implementation\", implementation_runtime)\n",
    "print(\"Runtime of sklearn\", sklearn_runtime)"
   ]
  },
  {
   "cell_type": "markdown",
   "metadata": {},
   "source": [
    "**2. Increase tree depth to None instead of 5**"
   ]
  },
  {
   "cell_type": "code",
   "execution_count": 24,
   "metadata": {},
   "outputs": [
    {
     "ename": "KeyboardInterrupt",
     "evalue": "",
     "output_type": "error",
     "traceback": [
      "\u001b[1;31m---------------------------------------------------------------------------\u001b[0m",
      "\u001b[1;31mKeyboardInterrupt\u001b[0m                         Traceback (most recent call last)",
      "Cell \u001b[1;32mIn[24], line 3\u001b[0m\n\u001b[0;32m      1\u001b[0m start_time_implementation \u001b[38;5;241m=\u001b[39m time\u001b[38;5;241m.\u001b[39mtime()\n\u001b[0;32m      2\u001b[0m rf \u001b[38;5;241m=\u001b[39m RandomForestRegressor(n_trees\u001b[38;5;241m=\u001b[39m\u001b[38;5;241m5\u001b[39m, max_features\u001b[38;5;241m=\u001b[39m\u001b[38;5;241m1\u001b[39m, min_samples_split\u001b[38;5;241m=\u001b[39m\u001b[38;5;241m2\u001b[39m, max_depth\u001b[38;5;241m=\u001b[39m\u001b[38;5;28;01mNone\u001b[39;00m)\n\u001b[1;32m----> 3\u001b[0m \u001b[43mrf\u001b[49m\u001b[38;5;241;43m.\u001b[39;49m\u001b[43mtrain\u001b[49m\u001b[43m(\u001b[49m\u001b[43mX_train\u001b[49m\u001b[43m,\u001b[49m\u001b[43m \u001b[49m\u001b[43my_train\u001b[49m\u001b[43m)\u001b[49m\n\u001b[0;32m      4\u001b[0m y_pred \u001b[38;5;241m=\u001b[39m rf\u001b[38;5;241m.\u001b[39mpredict(X_test)\n\u001b[0;32m      5\u001b[0m end_time_implementation \u001b[38;5;241m=\u001b[39m time\u001b[38;5;241m.\u001b[39mtime()\n",
      "File \u001b[1;32mc:\\Users\\marga\\Desktop\\Faculdade\\ML\\git\\MachineLearningCourse\\Exercise2\\random_forest_regressor.py:36\u001b[0m, in \u001b[0;36mRandomForestRegressor.train\u001b[1;34m(self, X_data, y_data)\u001b[0m\n\u001b[0;32m     34\u001b[0m \u001b[38;5;28;01mfor\u001b[39;00m i \u001b[38;5;129;01min\u001b[39;00m \u001b[38;5;28mrange\u001b[39m(\u001b[38;5;28mself\u001b[39m\u001b[38;5;241m.\u001b[39mn_tress):\n\u001b[0;32m     35\u001b[0m     tree \u001b[38;5;241m=\u001b[39m regressor_tree\u001b[38;5;241m.\u001b[39mNode(max_features\u001b[38;5;241m=\u001b[39m\u001b[38;5;28mself\u001b[39m\u001b[38;5;241m.\u001b[39mmax_features, min_samples_split\u001b[38;5;241m=\u001b[39m\u001b[38;5;28mself\u001b[39m\u001b[38;5;241m.\u001b[39mmin_samples_split, max_depth\u001b[38;5;241m=\u001b[39m\u001b[38;5;28mself\u001b[39m\u001b[38;5;241m.\u001b[39mmax_depth)\n\u001b[1;32m---> 36\u001b[0m     \u001b[43mtree\u001b[49m\u001b[38;5;241;43m.\u001b[39;49m\u001b[43mtrain\u001b[49m\u001b[43m(\u001b[49m\u001b[43mX_data\u001b[49m\u001b[43m,\u001b[49m\u001b[43m \u001b[49m\u001b[43my_data\u001b[49m\u001b[43m)\u001b[49m\n\u001b[0;32m     37\u001b[0m     \u001b[38;5;28mself\u001b[39m\u001b[38;5;241m.\u001b[39mfitted_trees\u001b[38;5;241m.\u001b[39mappend(tree)\n",
      "File \u001b[1;32mc:\\Users\\marga\\Desktop\\Faculdade\\ML\\git\\MachineLearningCourse\\Exercise2\\regressor_tree.py:121\u001b[0m, in \u001b[0;36mNode.train\u001b[1;34m(self, X_data, y_data)\u001b[0m\n\u001b[0;32m    118\u001b[0m     \u001b[38;5;28mself\u001b[39m\u001b[38;5;241m.\u001b[39mleft_child \u001b[38;5;241m=\u001b[39m Node(height\u001b[38;5;241m=\u001b[39m\u001b[38;5;28mself\u001b[39m\u001b[38;5;241m.\u001b[39mheight \u001b[38;5;241m+\u001b[39m \u001b[38;5;241m1\u001b[39m, max_features\u001b[38;5;241m=\u001b[39m\u001b[38;5;28mself\u001b[39m\u001b[38;5;241m.\u001b[39mmax_features, max_depth\u001b[38;5;241m=\u001b[39m\u001b[38;5;28mself\u001b[39m\u001b[38;5;241m.\u001b[39mmax_depth, min_samples_split\u001b[38;5;241m=\u001b[39m\u001b[38;5;28mself\u001b[39m\u001b[38;5;241m.\u001b[39mmin_samples_split)\n\u001b[0;32m    119\u001b[0m     \u001b[38;5;28mself\u001b[39m\u001b[38;5;241m.\u001b[39mright_child \u001b[38;5;241m=\u001b[39m Node(height\u001b[38;5;241m=\u001b[39m\u001b[38;5;28mself\u001b[39m\u001b[38;5;241m.\u001b[39mheight \u001b[38;5;241m+\u001b[39m \u001b[38;5;241m1\u001b[39m, max_features\u001b[38;5;241m=\u001b[39m\u001b[38;5;28mself\u001b[39m\u001b[38;5;241m.\u001b[39mmax_features, max_depth\u001b[38;5;241m=\u001b[39m\u001b[38;5;28mself\u001b[39m\u001b[38;5;241m.\u001b[39mmax_depth, min_samples_split\u001b[38;5;241m=\u001b[39m\u001b[38;5;28mself\u001b[39m\u001b[38;5;241m.\u001b[39mmin_samples_split)\n\u001b[1;32m--> 121\u001b[0m     \u001b[38;5;28;43mself\u001b[39;49m\u001b[38;5;241;43m.\u001b[39;49m\u001b[43mleft_child\u001b[49m\u001b[38;5;241;43m.\u001b[39;49m\u001b[43mtrain\u001b[49m\u001b[43m(\u001b[49m\u001b[43mdata_left_X\u001b[49m\u001b[43m,\u001b[49m\u001b[43m \u001b[49m\u001b[43mdata_left_y\u001b[49m\u001b[43m)\u001b[49m\n\u001b[0;32m    122\u001b[0m     \u001b[38;5;28mself\u001b[39m\u001b[38;5;241m.\u001b[39mright_child\u001b[38;5;241m.\u001b[39mtrain(data_right_X, data_right_y)\n\u001b[0;32m    123\u001b[0m \u001b[38;5;28;01melse\u001b[39;00m:\n\u001b[0;32m    124\u001b[0m     \u001b[38;5;66;03m# Get the prediction value by the mean of the remaining target data (y_data)\u001b[39;00m\n",
      "File \u001b[1;32mc:\\Users\\marga\\Desktop\\Faculdade\\ML\\git\\MachineLearningCourse\\Exercise2\\regressor_tree.py:121\u001b[0m, in \u001b[0;36mNode.train\u001b[1;34m(self, X_data, y_data)\u001b[0m\n\u001b[0;32m    118\u001b[0m     \u001b[38;5;28mself\u001b[39m\u001b[38;5;241m.\u001b[39mleft_child \u001b[38;5;241m=\u001b[39m Node(height\u001b[38;5;241m=\u001b[39m\u001b[38;5;28mself\u001b[39m\u001b[38;5;241m.\u001b[39mheight \u001b[38;5;241m+\u001b[39m \u001b[38;5;241m1\u001b[39m, max_features\u001b[38;5;241m=\u001b[39m\u001b[38;5;28mself\u001b[39m\u001b[38;5;241m.\u001b[39mmax_features, max_depth\u001b[38;5;241m=\u001b[39m\u001b[38;5;28mself\u001b[39m\u001b[38;5;241m.\u001b[39mmax_depth, min_samples_split\u001b[38;5;241m=\u001b[39m\u001b[38;5;28mself\u001b[39m\u001b[38;5;241m.\u001b[39mmin_samples_split)\n\u001b[0;32m    119\u001b[0m     \u001b[38;5;28mself\u001b[39m\u001b[38;5;241m.\u001b[39mright_child \u001b[38;5;241m=\u001b[39m Node(height\u001b[38;5;241m=\u001b[39m\u001b[38;5;28mself\u001b[39m\u001b[38;5;241m.\u001b[39mheight \u001b[38;5;241m+\u001b[39m \u001b[38;5;241m1\u001b[39m, max_features\u001b[38;5;241m=\u001b[39m\u001b[38;5;28mself\u001b[39m\u001b[38;5;241m.\u001b[39mmax_features, max_depth\u001b[38;5;241m=\u001b[39m\u001b[38;5;28mself\u001b[39m\u001b[38;5;241m.\u001b[39mmax_depth, min_samples_split\u001b[38;5;241m=\u001b[39m\u001b[38;5;28mself\u001b[39m\u001b[38;5;241m.\u001b[39mmin_samples_split)\n\u001b[1;32m--> 121\u001b[0m     \u001b[38;5;28;43mself\u001b[39;49m\u001b[38;5;241;43m.\u001b[39;49m\u001b[43mleft_child\u001b[49m\u001b[38;5;241;43m.\u001b[39;49m\u001b[43mtrain\u001b[49m\u001b[43m(\u001b[49m\u001b[43mdata_left_X\u001b[49m\u001b[43m,\u001b[49m\u001b[43m \u001b[49m\u001b[43mdata_left_y\u001b[49m\u001b[43m)\u001b[49m\n\u001b[0;32m    122\u001b[0m     \u001b[38;5;28mself\u001b[39m\u001b[38;5;241m.\u001b[39mright_child\u001b[38;5;241m.\u001b[39mtrain(data_right_X, data_right_y)\n\u001b[0;32m    123\u001b[0m \u001b[38;5;28;01melse\u001b[39;00m:\n\u001b[0;32m    124\u001b[0m     \u001b[38;5;66;03m# Get the prediction value by the mean of the remaining target data (y_data)\u001b[39;00m\n",
      "    \u001b[1;31m[... skipping similar frames: Node.train at line 121 (1 times)]\u001b[0m\n",
      "File \u001b[1;32mc:\\Users\\marga\\Desktop\\Faculdade\\ML\\git\\MachineLearningCourse\\Exercise2\\regressor_tree.py:122\u001b[0m, in \u001b[0;36mNode.train\u001b[1;34m(self, X_data, y_data)\u001b[0m\n\u001b[0;32m    119\u001b[0m     \u001b[38;5;28mself\u001b[39m\u001b[38;5;241m.\u001b[39mright_child \u001b[38;5;241m=\u001b[39m Node(height\u001b[38;5;241m=\u001b[39m\u001b[38;5;28mself\u001b[39m\u001b[38;5;241m.\u001b[39mheight \u001b[38;5;241m+\u001b[39m \u001b[38;5;241m1\u001b[39m, max_features\u001b[38;5;241m=\u001b[39m\u001b[38;5;28mself\u001b[39m\u001b[38;5;241m.\u001b[39mmax_features, max_depth\u001b[38;5;241m=\u001b[39m\u001b[38;5;28mself\u001b[39m\u001b[38;5;241m.\u001b[39mmax_depth, min_samples_split\u001b[38;5;241m=\u001b[39m\u001b[38;5;28mself\u001b[39m\u001b[38;5;241m.\u001b[39mmin_samples_split)\n\u001b[0;32m    121\u001b[0m     \u001b[38;5;28mself\u001b[39m\u001b[38;5;241m.\u001b[39mleft_child\u001b[38;5;241m.\u001b[39mtrain(data_left_X, data_left_y)\n\u001b[1;32m--> 122\u001b[0m     \u001b[38;5;28;43mself\u001b[39;49m\u001b[38;5;241;43m.\u001b[39;49m\u001b[43mright_child\u001b[49m\u001b[38;5;241;43m.\u001b[39;49m\u001b[43mtrain\u001b[49m\u001b[43m(\u001b[49m\u001b[43mdata_right_X\u001b[49m\u001b[43m,\u001b[49m\u001b[43m \u001b[49m\u001b[43mdata_right_y\u001b[49m\u001b[43m)\u001b[49m\n\u001b[0;32m    123\u001b[0m \u001b[38;5;28;01melse\u001b[39;00m:\n\u001b[0;32m    124\u001b[0m     \u001b[38;5;66;03m# Get the prediction value by the mean of the remaining target data (y_data)\u001b[39;00m\n\u001b[0;32m    125\u001b[0m     \u001b[38;5;28mself\u001b[39m\u001b[38;5;241m.\u001b[39mprediction \u001b[38;5;241m=\u001b[39m \u001b[38;5;28mself\u001b[39m\u001b[38;5;241m.\u001b[39my_data\u001b[38;5;241m.\u001b[39mmean()\n",
      "File \u001b[1;32mc:\\Users\\marga\\Desktop\\Faculdade\\ML\\git\\MachineLearningCourse\\Exercise2\\regressor_tree.py:122\u001b[0m, in \u001b[0;36mNode.train\u001b[1;34m(self, X_data, y_data)\u001b[0m\n\u001b[0;32m    119\u001b[0m     \u001b[38;5;28mself\u001b[39m\u001b[38;5;241m.\u001b[39mright_child \u001b[38;5;241m=\u001b[39m Node(height\u001b[38;5;241m=\u001b[39m\u001b[38;5;28mself\u001b[39m\u001b[38;5;241m.\u001b[39mheight \u001b[38;5;241m+\u001b[39m \u001b[38;5;241m1\u001b[39m, max_features\u001b[38;5;241m=\u001b[39m\u001b[38;5;28mself\u001b[39m\u001b[38;5;241m.\u001b[39mmax_features, max_depth\u001b[38;5;241m=\u001b[39m\u001b[38;5;28mself\u001b[39m\u001b[38;5;241m.\u001b[39mmax_depth, min_samples_split\u001b[38;5;241m=\u001b[39m\u001b[38;5;28mself\u001b[39m\u001b[38;5;241m.\u001b[39mmin_samples_split)\n\u001b[0;32m    121\u001b[0m     \u001b[38;5;28mself\u001b[39m\u001b[38;5;241m.\u001b[39mleft_child\u001b[38;5;241m.\u001b[39mtrain(data_left_X, data_left_y)\n\u001b[1;32m--> 122\u001b[0m     \u001b[38;5;28;43mself\u001b[39;49m\u001b[38;5;241;43m.\u001b[39;49m\u001b[43mright_child\u001b[49m\u001b[38;5;241;43m.\u001b[39;49m\u001b[43mtrain\u001b[49m\u001b[43m(\u001b[49m\u001b[43mdata_right_X\u001b[49m\u001b[43m,\u001b[49m\u001b[43m \u001b[49m\u001b[43mdata_right_y\u001b[49m\u001b[43m)\u001b[49m\n\u001b[0;32m    123\u001b[0m \u001b[38;5;28;01melse\u001b[39;00m:\n\u001b[0;32m    124\u001b[0m     \u001b[38;5;66;03m# Get the prediction value by the mean of the remaining target data (y_data)\u001b[39;00m\n\u001b[0;32m    125\u001b[0m     \u001b[38;5;28mself\u001b[39m\u001b[38;5;241m.\u001b[39mprediction \u001b[38;5;241m=\u001b[39m \u001b[38;5;28mself\u001b[39m\u001b[38;5;241m.\u001b[39my_data\u001b[38;5;241m.\u001b[39mmean()\n",
      "    \u001b[1;31m[... skipping similar frames: Node.train at line 121 (7 times), Node.train at line 122 (5 times)]\u001b[0m\n",
      "File \u001b[1;32mc:\\Users\\marga\\Desktop\\Faculdade\\ML\\git\\MachineLearningCourse\\Exercise2\\regressor_tree.py:122\u001b[0m, in \u001b[0;36mNode.train\u001b[1;34m(self, X_data, y_data)\u001b[0m\n\u001b[0;32m    119\u001b[0m     \u001b[38;5;28mself\u001b[39m\u001b[38;5;241m.\u001b[39mright_child \u001b[38;5;241m=\u001b[39m Node(height\u001b[38;5;241m=\u001b[39m\u001b[38;5;28mself\u001b[39m\u001b[38;5;241m.\u001b[39mheight \u001b[38;5;241m+\u001b[39m \u001b[38;5;241m1\u001b[39m, max_features\u001b[38;5;241m=\u001b[39m\u001b[38;5;28mself\u001b[39m\u001b[38;5;241m.\u001b[39mmax_features, max_depth\u001b[38;5;241m=\u001b[39m\u001b[38;5;28mself\u001b[39m\u001b[38;5;241m.\u001b[39mmax_depth, min_samples_split\u001b[38;5;241m=\u001b[39m\u001b[38;5;28mself\u001b[39m\u001b[38;5;241m.\u001b[39mmin_samples_split)\n\u001b[0;32m    121\u001b[0m     \u001b[38;5;28mself\u001b[39m\u001b[38;5;241m.\u001b[39mleft_child\u001b[38;5;241m.\u001b[39mtrain(data_left_X, data_left_y)\n\u001b[1;32m--> 122\u001b[0m     \u001b[38;5;28;43mself\u001b[39;49m\u001b[38;5;241;43m.\u001b[39;49m\u001b[43mright_child\u001b[49m\u001b[38;5;241;43m.\u001b[39;49m\u001b[43mtrain\u001b[49m\u001b[43m(\u001b[49m\u001b[43mdata_right_X\u001b[49m\u001b[43m,\u001b[49m\u001b[43m \u001b[49m\u001b[43mdata_right_y\u001b[49m\u001b[43m)\u001b[49m\n\u001b[0;32m    123\u001b[0m \u001b[38;5;28;01melse\u001b[39;00m:\n\u001b[0;32m    124\u001b[0m     \u001b[38;5;66;03m# Get the prediction value by the mean of the remaining target data (y_data)\u001b[39;00m\n\u001b[0;32m    125\u001b[0m     \u001b[38;5;28mself\u001b[39m\u001b[38;5;241m.\u001b[39mprediction \u001b[38;5;241m=\u001b[39m \u001b[38;5;28mself\u001b[39m\u001b[38;5;241m.\u001b[39my_data\u001b[38;5;241m.\u001b[39mmean()\n",
      "File \u001b[1;32mc:\\Users\\marga\\Desktop\\Faculdade\\ML\\git\\MachineLearningCourse\\Exercise2\\regressor_tree.py:121\u001b[0m, in \u001b[0;36mNode.train\u001b[1;34m(self, X_data, y_data)\u001b[0m\n\u001b[0;32m    118\u001b[0m     \u001b[38;5;28mself\u001b[39m\u001b[38;5;241m.\u001b[39mleft_child \u001b[38;5;241m=\u001b[39m Node(height\u001b[38;5;241m=\u001b[39m\u001b[38;5;28mself\u001b[39m\u001b[38;5;241m.\u001b[39mheight \u001b[38;5;241m+\u001b[39m \u001b[38;5;241m1\u001b[39m, max_features\u001b[38;5;241m=\u001b[39m\u001b[38;5;28mself\u001b[39m\u001b[38;5;241m.\u001b[39mmax_features, max_depth\u001b[38;5;241m=\u001b[39m\u001b[38;5;28mself\u001b[39m\u001b[38;5;241m.\u001b[39mmax_depth, min_samples_split\u001b[38;5;241m=\u001b[39m\u001b[38;5;28mself\u001b[39m\u001b[38;5;241m.\u001b[39mmin_samples_split)\n\u001b[0;32m    119\u001b[0m     \u001b[38;5;28mself\u001b[39m\u001b[38;5;241m.\u001b[39mright_child \u001b[38;5;241m=\u001b[39m Node(height\u001b[38;5;241m=\u001b[39m\u001b[38;5;28mself\u001b[39m\u001b[38;5;241m.\u001b[39mheight \u001b[38;5;241m+\u001b[39m \u001b[38;5;241m1\u001b[39m, max_features\u001b[38;5;241m=\u001b[39m\u001b[38;5;28mself\u001b[39m\u001b[38;5;241m.\u001b[39mmax_features, max_depth\u001b[38;5;241m=\u001b[39m\u001b[38;5;28mself\u001b[39m\u001b[38;5;241m.\u001b[39mmax_depth, min_samples_split\u001b[38;5;241m=\u001b[39m\u001b[38;5;28mself\u001b[39m\u001b[38;5;241m.\u001b[39mmin_samples_split)\n\u001b[1;32m--> 121\u001b[0m     \u001b[38;5;28;43mself\u001b[39;49m\u001b[38;5;241;43m.\u001b[39;49m\u001b[43mleft_child\u001b[49m\u001b[38;5;241;43m.\u001b[39;49m\u001b[43mtrain\u001b[49m\u001b[43m(\u001b[49m\u001b[43mdata_left_X\u001b[49m\u001b[43m,\u001b[49m\u001b[43m \u001b[49m\u001b[43mdata_left_y\u001b[49m\u001b[43m)\u001b[49m\n\u001b[0;32m    122\u001b[0m     \u001b[38;5;28mself\u001b[39m\u001b[38;5;241m.\u001b[39mright_child\u001b[38;5;241m.\u001b[39mtrain(data_right_X, data_right_y)\n\u001b[0;32m    123\u001b[0m \u001b[38;5;28;01melse\u001b[39;00m:\n\u001b[0;32m    124\u001b[0m     \u001b[38;5;66;03m# Get the prediction value by the mean of the remaining target data (y_data)\u001b[39;00m\n",
      "File \u001b[1;32mc:\\Users\\marga\\Desktop\\Faculdade\\ML\\git\\MachineLearningCourse\\Exercise2\\regressor_tree.py:107\u001b[0m, in \u001b[0;36mNode.train\u001b[1;34m(self, X_data, y_data)\u001b[0m\n\u001b[0;32m    105\u001b[0m dict_averages_per_feature \u001b[38;5;241m=\u001b[39m \u001b[38;5;28mself\u001b[39m\u001b[38;5;241m.\u001b[39mget_average_values_per_feature()\n\u001b[0;32m    106\u001b[0m \u001b[38;5;66;03m# Insert split value for current node\u001b[39;00m\n\u001b[1;32m--> 107\u001b[0m \u001b[38;5;28mself\u001b[39m\u001b[38;5;241m.\u001b[39msplit_feature, \u001b[38;5;28mself\u001b[39m\u001b[38;5;241m.\u001b[39msplit_value \u001b[38;5;241m=\u001b[39m \u001b[38;5;28;43mself\u001b[39;49m\u001b[38;5;241;43m.\u001b[39;49m\u001b[43mget_optimal_split_value\u001b[49m\u001b[43m(\u001b[49m\u001b[43mdict_averages_per_feature\u001b[49m\u001b[43m)\u001b[49m\n\u001b[0;32m    110\u001b[0m \u001b[38;5;66;03m# Split data according to split value\u001b[39;00m\n\u001b[0;32m    111\u001b[0m data_left_X  \u001b[38;5;241m=\u001b[39m \u001b[38;5;28mself\u001b[39m\u001b[38;5;241m.\u001b[39mX_data[\u001b[38;5;28mself\u001b[39m\u001b[38;5;241m.\u001b[39mX_data[\u001b[38;5;28mself\u001b[39m\u001b[38;5;241m.\u001b[39msplit_feature] \u001b[38;5;241m<\u001b[39m \u001b[38;5;28mself\u001b[39m\u001b[38;5;241m.\u001b[39msplit_value]\n",
      "File \u001b[1;32mc:\\Users\\marga\\Desktop\\Faculdade\\ML\\git\\MachineLearningCourse\\Exercise2\\regressor_tree.py:51\u001b[0m, in \u001b[0;36mNode.get_optimal_split_value\u001b[1;34m(self, dict_averages_per_feature)\u001b[0m\n\u001b[0;32m     48\u001b[0m right_mean_array \u001b[38;5;241m=\u001b[39m np\u001b[38;5;241m.\u001b[39mrepeat(right_target_mean, \u001b[38;5;28mlen\u001b[39m(right_df))\n\u001b[0;32m     50\u001b[0m \u001b[38;5;66;03m# calculate individual SSR (Sum Squared Residuals)\u001b[39;00m\n\u001b[1;32m---> 51\u001b[0m left_ssr  \u001b[38;5;241m=\u001b[39m np\u001b[38;5;241m.\u001b[39msum(\u001b[43mnp\u001b[49m\u001b[38;5;241;43m.\u001b[39;49m\u001b[43msquare\u001b[49m\u001b[43m(\u001b[49m\u001b[43mleft_df\u001b[49m\u001b[43m \u001b[49m\u001b[38;5;241;43m-\u001b[39;49m\u001b[43m \u001b[49m\u001b[43mleft_mean_array\u001b[49m\u001b[43m)\u001b[49m)\n\u001b[0;32m     52\u001b[0m right_ssr \u001b[38;5;241m=\u001b[39m np\u001b[38;5;241m.\u001b[39msum(np\u001b[38;5;241m.\u001b[39msquare(right_df \u001b[38;5;241m-\u001b[39m right_mean_array))\n\u001b[0;32m     54\u001b[0m total_ssr \u001b[38;5;241m=\u001b[39m left_ssr \u001b[38;5;241m+\u001b[39m right_ssr\n",
      "File \u001b[1;32mc:\\Users\\marga\\Desktop\\Faculdade\\ML\\git\\.venv\\Lib\\site-packages\\pandas\\core\\generic.py:2171\u001b[0m, in \u001b[0;36mNDFrame.__array_ufunc__\u001b[1;34m(self, ufunc, method, *inputs, **kwargs)\u001b[0m\n\u001b[0;32m   2167\u001b[0m \u001b[38;5;129m@final\u001b[39m\n\u001b[0;32m   2168\u001b[0m \u001b[38;5;28;01mdef\u001b[39;00m \u001b[38;5;21m__array_ufunc__\u001b[39m(\n\u001b[0;32m   2169\u001b[0m     \u001b[38;5;28mself\u001b[39m, ufunc: np\u001b[38;5;241m.\u001b[39mufunc, method: \u001b[38;5;28mstr\u001b[39m, \u001b[38;5;241m*\u001b[39minputs: Any, \u001b[38;5;241m*\u001b[39m\u001b[38;5;241m*\u001b[39mkwargs: Any\n\u001b[0;32m   2170\u001b[0m ):\n\u001b[1;32m-> 2171\u001b[0m     \u001b[38;5;28;01mreturn\u001b[39;00m \u001b[43marraylike\u001b[49m\u001b[38;5;241;43m.\u001b[39;49m\u001b[43marray_ufunc\u001b[49m\u001b[43m(\u001b[49m\u001b[38;5;28;43mself\u001b[39;49m\u001b[43m,\u001b[49m\u001b[43m \u001b[49m\u001b[43mufunc\u001b[49m\u001b[43m,\u001b[49m\u001b[43m \u001b[49m\u001b[43mmethod\u001b[49m\u001b[43m,\u001b[49m\u001b[43m \u001b[49m\u001b[38;5;241;43m*\u001b[39;49m\u001b[43minputs\u001b[49m\u001b[43m,\u001b[49m\u001b[43m \u001b[49m\u001b[38;5;241;43m*\u001b[39;49m\u001b[38;5;241;43m*\u001b[39;49m\u001b[43mkwargs\u001b[49m\u001b[43m)\u001b[49m\n",
      "File \u001b[1;32mc:\\Users\\marga\\Desktop\\Faculdade\\ML\\git\\.venv\\Lib\\site-packages\\pandas\\core\\arraylike.py:414\u001b[0m, in \u001b[0;36marray_ufunc\u001b[1;34m(self, ufunc, method, *inputs, **kwargs)\u001b[0m\n\u001b[0;32m    411\u001b[0m         result \u001b[38;5;241m=\u001b[39m default_array_ufunc(inputs[\u001b[38;5;241m0\u001b[39m], ufunc, method, \u001b[38;5;241m*\u001b[39minputs, \u001b[38;5;241m*\u001b[39m\u001b[38;5;241m*\u001b[39mkwargs)\n\u001b[0;32m    412\u001b[0m         \u001b[38;5;66;03m# e.g. np.negative (only one reached), with \"where\" and \"out\" in kwargs\u001b[39;00m\n\u001b[1;32m--> 414\u001b[0m result \u001b[38;5;241m=\u001b[39m \u001b[43mreconstruct\u001b[49m\u001b[43m(\u001b[49m\u001b[43mresult\u001b[49m\u001b[43m)\u001b[49m\n\u001b[0;32m    415\u001b[0m \u001b[38;5;28;01mreturn\u001b[39;00m result\n",
      "File \u001b[1;32mc:\\Users\\marga\\Desktop\\Faculdade\\ML\\git\\.venv\\Lib\\site-packages\\pandas\\core\\arraylike.py:343\u001b[0m, in \u001b[0;36marray_ufunc.<locals>.reconstruct\u001b[1;34m(result)\u001b[0m\n\u001b[0;32m    339\u001b[0m \u001b[38;5;28;01mif\u001b[39;00m ufunc\u001b[38;5;241m.\u001b[39mnout \u001b[38;5;241m>\u001b[39m \u001b[38;5;241m1\u001b[39m:\n\u001b[0;32m    340\u001b[0m     \u001b[38;5;66;03m# np.modf, np.frexp, np.divmod\u001b[39;00m\n\u001b[0;32m    341\u001b[0m     \u001b[38;5;28;01mreturn\u001b[39;00m \u001b[38;5;28mtuple\u001b[39m(_reconstruct(x) \u001b[38;5;28;01mfor\u001b[39;00m x \u001b[38;5;129;01min\u001b[39;00m result)\n\u001b[1;32m--> 343\u001b[0m \u001b[38;5;28;01mreturn\u001b[39;00m \u001b[43m_reconstruct\u001b[49m\u001b[43m(\u001b[49m\u001b[43mresult\u001b[49m\u001b[43m)\u001b[49m\n",
      "File \u001b[1;32mc:\\Users\\marga\\Desktop\\Faculdade\\ML\\git\\.venv\\Lib\\site-packages\\pandas\\core\\arraylike.py:358\u001b[0m, in \u001b[0;36marray_ufunc.<locals>._reconstruct\u001b[1;34m(result)\u001b[0m\n\u001b[0;32m    355\u001b[0m     result \u001b[38;5;241m=\u001b[39m \u001b[38;5;28mself\u001b[39m\u001b[38;5;241m.\u001b[39m_constructor_from_mgr(result, axes\u001b[38;5;241m=\u001b[39mresult\u001b[38;5;241m.\u001b[39maxes)\n\u001b[0;32m    356\u001b[0m \u001b[38;5;28;01melse\u001b[39;00m:\n\u001b[0;32m    357\u001b[0m     \u001b[38;5;66;03m# we converted an array, lost our axes\u001b[39;00m\n\u001b[1;32m--> 358\u001b[0m     result \u001b[38;5;241m=\u001b[39m \u001b[38;5;28;43mself\u001b[39;49m\u001b[38;5;241;43m.\u001b[39;49m\u001b[43m_constructor\u001b[49m\u001b[43m(\u001b[49m\n\u001b[0;32m    359\u001b[0m \u001b[43m        \u001b[49m\u001b[43mresult\u001b[49m\u001b[43m,\u001b[49m\u001b[43m \u001b[49m\u001b[38;5;241;43m*\u001b[39;49m\u001b[38;5;241;43m*\u001b[39;49m\u001b[43mreconstruct_axes\u001b[49m\u001b[43m,\u001b[49m\u001b[43m \u001b[49m\u001b[38;5;241;43m*\u001b[39;49m\u001b[38;5;241;43m*\u001b[39;49m\u001b[43mreconstruct_kwargs\u001b[49m\u001b[43m,\u001b[49m\u001b[43m \u001b[49m\u001b[43mcopy\u001b[49m\u001b[38;5;241;43m=\u001b[39;49m\u001b[38;5;28;43;01mFalse\u001b[39;49;00m\n\u001b[0;32m    360\u001b[0m \u001b[43m    \u001b[49m\u001b[43m)\u001b[49m\n\u001b[0;32m    361\u001b[0m \u001b[38;5;66;03m# TODO: When we support multiple values in __finalize__, this\u001b[39;00m\n\u001b[0;32m    362\u001b[0m \u001b[38;5;66;03m# should pass alignable to `__finalize__` instead of self.\u001b[39;00m\n\u001b[0;32m    363\u001b[0m \u001b[38;5;66;03m# Then `np.add(a, b)` would consider attrs from both a and b\u001b[39;00m\n\u001b[0;32m    364\u001b[0m \u001b[38;5;66;03m# when a and b are NDFrames.\u001b[39;00m\n\u001b[0;32m    365\u001b[0m \u001b[38;5;28;01mif\u001b[39;00m \u001b[38;5;28mlen\u001b[39m(alignable) \u001b[38;5;241m==\u001b[39m \u001b[38;5;241m1\u001b[39m:\n",
      "File \u001b[1;32mc:\\Users\\marga\\Desktop\\Faculdade\\ML\\git\\.venv\\Lib\\site-packages\\pandas\\core\\series.py:584\u001b[0m, in \u001b[0;36mSeries.__init__\u001b[1;34m(self, data, index, dtype, name, copy, fastpath)\u001b[0m\n\u001b[0;32m    582\u001b[0m         data \u001b[38;5;241m=\u001b[39m data\u001b[38;5;241m.\u001b[39mcopy()\n\u001b[0;32m    583\u001b[0m \u001b[38;5;28;01melse\u001b[39;00m:\n\u001b[1;32m--> 584\u001b[0m     data \u001b[38;5;241m=\u001b[39m \u001b[43msanitize_array\u001b[49m\u001b[43m(\u001b[49m\u001b[43mdata\u001b[49m\u001b[43m,\u001b[49m\u001b[43m \u001b[49m\u001b[43mindex\u001b[49m\u001b[43m,\u001b[49m\u001b[43m \u001b[49m\u001b[43mdtype\u001b[49m\u001b[43m,\u001b[49m\u001b[43m \u001b[49m\u001b[43mcopy\u001b[49m\u001b[43m)\u001b[49m\n\u001b[0;32m    586\u001b[0m     manager \u001b[38;5;241m=\u001b[39m _get_option(\u001b[38;5;124m\"\u001b[39m\u001b[38;5;124mmode.data_manager\u001b[39m\u001b[38;5;124m\"\u001b[39m, silent\u001b[38;5;241m=\u001b[39m\u001b[38;5;28;01mTrue\u001b[39;00m)\n\u001b[0;32m    587\u001b[0m     \u001b[38;5;28;01mif\u001b[39;00m manager \u001b[38;5;241m==\u001b[39m \u001b[38;5;124m\"\u001b[39m\u001b[38;5;124mblock\u001b[39m\u001b[38;5;124m\"\u001b[39m:\n",
      "File \u001b[1;32mc:\\Users\\marga\\Desktop\\Faculdade\\ML\\git\\.venv\\Lib\\site-packages\\pandas\\core\\construction.py:664\u001b[0m, in \u001b[0;36msanitize_array\u001b[1;34m(data, index, dtype, copy, allow_2d)\u001b[0m\n\u001b[0;32m    661\u001b[0m \u001b[38;5;28;01mif\u001b[39;00m \u001b[38;5;28misinstance\u001b[39m(subarr, np\u001b[38;5;241m.\u001b[39mndarray):\n\u001b[0;32m    662\u001b[0m     \u001b[38;5;66;03m# at this point we should have dtype be None or subarr.dtype == dtype\u001b[39;00m\n\u001b[0;32m    663\u001b[0m     dtype \u001b[38;5;241m=\u001b[39m cast(np\u001b[38;5;241m.\u001b[39mdtype, dtype)\n\u001b[1;32m--> 664\u001b[0m     subarr \u001b[38;5;241m=\u001b[39m \u001b[43m_sanitize_str_dtypes\u001b[49m\u001b[43m(\u001b[49m\u001b[43msubarr\u001b[49m\u001b[43m,\u001b[49m\u001b[43m \u001b[49m\u001b[43mdata\u001b[49m\u001b[43m,\u001b[49m\u001b[43m \u001b[49m\u001b[43mdtype\u001b[49m\u001b[43m,\u001b[49m\u001b[43m \u001b[49m\u001b[43mcopy\u001b[49m\u001b[43m)\u001b[49m\n\u001b[0;32m    666\u001b[0m \u001b[38;5;28;01mreturn\u001b[39;00m subarr\n",
      "File \u001b[1;32mc:\\Users\\marga\\Desktop\\Faculdade\\ML\\git\\.venv\\Lib\\site-packages\\pandas\\core\\construction.py:735\u001b[0m, in \u001b[0;36m_sanitize_str_dtypes\u001b[1;34m(result, data, dtype, copy)\u001b[0m\n\u001b[0;32m    731\u001b[0m             result \u001b[38;5;241m=\u001b[39m com\u001b[38;5;241m.\u001b[39masarray_tuplesafe(data, dtype\u001b[38;5;241m=\u001b[39mdtype)  \u001b[38;5;66;03m# type: ignore[arg-type]\u001b[39;00m\n\u001b[0;32m    732\u001b[0m     \u001b[38;5;28;01mreturn\u001b[39;00m result\n\u001b[1;32m--> 735\u001b[0m \u001b[38;5;28;01mdef\u001b[39;00m \u001b[38;5;21m_sanitize_str_dtypes\u001b[39m(\n\u001b[0;32m    736\u001b[0m     result: np\u001b[38;5;241m.\u001b[39mndarray, data, dtype: np\u001b[38;5;241m.\u001b[39mdtype \u001b[38;5;241m|\u001b[39m \u001b[38;5;28;01mNone\u001b[39;00m, copy: \u001b[38;5;28mbool\u001b[39m\n\u001b[0;32m    737\u001b[0m ) \u001b[38;5;241m-\u001b[39m\u001b[38;5;241m>\u001b[39m np\u001b[38;5;241m.\u001b[39mndarray:\n\u001b[0;32m    738\u001b[0m \u001b[38;5;250m    \u001b[39m\u001b[38;5;124;03m\"\"\"\u001b[39;00m\n\u001b[0;32m    739\u001b[0m \u001b[38;5;124;03m    Ensure we have a dtype that is supported by pandas.\u001b[39;00m\n\u001b[0;32m    740\u001b[0m \u001b[38;5;124;03m    \"\"\"\u001b[39;00m\n\u001b[0;32m    742\u001b[0m     \u001b[38;5;66;03m# This is to prevent mixed-type Series getting all casted to\u001b[39;00m\n\u001b[0;32m    743\u001b[0m     \u001b[38;5;66;03m# NumPy string type, e.g. NaN --> '-1#IND'.\u001b[39;00m\n",
      "\u001b[1;31mKeyboardInterrupt\u001b[0m: "
     ]
    }
   ],
   "source": [
    "start_time_implementation = time.time()\n",
    "rf = RandomForestRegressor(n_trees=5, max_features=1, min_samples_split=2, max_depth=None, random_state=RANDOM_SEED)\n",
    "rf.train(X_train, y_train)\n",
    "y_pred = rf.predict(X_test)\n",
    "end_time_implementation = time.time()"
   ]
  },
  {
   "cell_type": "code",
   "execution_count": null,
   "metadata": {},
   "outputs": [
    {
     "name": "stdout",
     "output_type": "stream",
     "text": [
      "3000\n"
     ]
    }
   ],
   "source": [
    "import sys\n",
    "print(sys.getrecursionlimit())"
   ]
  },
  {
   "cell_type": "markdown",
   "metadata": {},
   "source": [
    "By printing the recursion limit, we can see that our implementation exceeded 3000 recursions"
   ]
  },
  {
   "cell_type": "code",
   "execution_count": 12,
   "metadata": {},
   "outputs": [],
   "source": [
    "start_time_sk = time.time()\n",
    "sklearn_rf = sklearn.ensemble.RandomForestRegressor(n_estimators=5, max_depth=None, random_state=RANDOM_SEED)\n",
    "sklearn_rf.fit(X_train, y_train)\n",
    "sk_y_pred = sklearn_rf.predict(X_test)\n",
    "end_time_sk = time.time()"
   ]
  },
  {
   "cell_type": "code",
   "execution_count": 13,
   "metadata": {},
   "outputs": [
    {
     "name": "stdout",
     "output_type": "stream",
     "text": [
      "RMSE of sklearn:  12582.32145962745\n",
      "Runtime of sklearn 9.121507167816162\n"
     ]
    }
   ],
   "source": [
    "#implementation_rmse = root_mean_squared_error(y_test, y_pred)\n",
    "sklearn_rmse = root_mean_squared_error(y_test, sk_y_pred)\n",
    "#print(\"RMSE of implementation: \", implementation_rmse)\n",
    "print(\"RMSE of sklearn: \", sklearn_rmse)\n",
    "sklearn_mae = mean_absolute_error(y_test, sk_y_pred)\n",
    "print(\"MAE of sklearn: \", sklearn_mae)\n",
    "#implementation_runtime = end_time_implementation - start_time_implementation\n",
    "sklearn_runtime = end_time_sk - start_time_sk\n",
    "#print(\"Runtime of implementation\", implementation_runtime)\n",
    "print(\"Runtime of sklearn\", sklearn_runtime)\n",
    "\n",
    "\n",
    "# implementation_rmse = root_mean_squared_error(y_test, y_pred)\n",
    "# implementation_mae = mean_absolute_error(y_test, y_pred)\n",
    "# sklearn_rmse = root_mean_squared_error(y_test, sk_y_pred)\n",
    "# sklearn_mae = mean_absolute_error(y_test, sk_y_pred)\n",
    "\n",
    "# print(\"RMSE of implementation: \", implementation_rmse)\n",
    "# print(\"MAE of implementation: \", implementation_mae)\n",
    "# print(\"RMSE of sklearn: \", sklearn_rmse)\n",
    "# print(\"MAE of sklearn: \", sklearn_mae)"
   ]
  },
  {
   "cell_type": "markdown",
   "metadata": {},
   "source": [
    "## Experiments on max features\n",
    "**1. Increase max features to 2**"
   ]
  },
  {
   "cell_type": "code",
   "execution_count": 16,
   "metadata": {},
   "outputs": [],
   "source": [
    "start_time_implementation = time.time()\n",
    "rf = RandomForestRegressor(n_trees=5, max_features=2, min_samples_split=2, max_depth=5, random_state=RANDOM_SEED)\n",
    "rf.train(X_train, y_train)\n",
    "y_pred = rf.predict(X_test)\n",
    "end_time_implementation = time.time()"
   ]
  },
  {
   "cell_type": "code",
   "execution_count": 17,
   "metadata": {},
   "outputs": [],
   "source": [
    "start_time_sk = time.time()\n",
    "sklearn_rf = sklearn.ensemble.RandomForestRegressor(n_estimators=5, max_depth=5, max_features=2, random_state=RANDOM_SEED)\n",
    "sklearn_rf.fit(X_train, y_train)\n",
    "sk_y_pred = sklearn_rf.predict(X_test)\n",
    "end_time_sk = time.time()"
   ]
  },
  {
   "cell_type": "code",
   "execution_count": 18,
   "metadata": {},
   "outputs": [
    {
     "name": "stdout",
     "output_type": "stream",
     "text": [
      "RMSE of implementation:  0.029426646373290823\n",
      "MAE of implementation:  0.022626216659288847\n",
      "RMSE of sklearn:  0.02928887207891027\n",
      "MAE of sklearn:  0.022543752280621825\n",
      "Runtime of implementation 236.5267469882965\n",
      "Runtime of sklearn 0.04462265968322754\n"
     ]
    }
   ],
   "source": [
    "implementation_rmse = root_mean_squared_error(y_test, y_pred)\n",
    "implementation_mae = mean_absolute_error(y_test, y_pred)\n",
    "sklearn_rmse = root_mean_squared_error(y_test, sk_y_pred)\n",
    "sklearn_mae = mean_absolute_error(y_test, sk_y_pred)\n",
    "print(\"RMSE of implementation: \", implementation_rmse)\n",
    "print(\"MAE of implementation: \", implementation_mae)\n",
    "print(\"RMSE of sklearn: \", sklearn_rmse)\n",
    "print(\"MAE of sklearn: \", sklearn_mae)\n",
    "implementation_runtime = end_time_implementation - start_time_implementation\n",
    "sklearn_runtime = end_time_sk - start_time_sk\n",
    "print(\"Runtime of implementation\", implementation_runtime)\n",
    "print(\"Runtime of sklearn\", sklearn_runtime)"
   ]
  },
  {
   "cell_type": "markdown",
   "metadata": {},
   "source": [
    "**2. Increase max features to 5**"
   ]
  },
  {
   "cell_type": "code",
   "execution_count": 19,
   "metadata": {},
   "outputs": [],
   "source": [
    "start_time_implementation = time.time()\n",
    "rf = RandomForestRegressor(n_trees=5, max_features=5, min_samples_split=2, max_depth=5, random_state=RANDOM_SEED)\n",
    "rf.train(X_train, y_train)\n",
    "y_pred = rf.predict(X_test)\n",
    "end_time_implementation = time.time()"
   ]
  },
  {
   "cell_type": "code",
   "execution_count": 20,
   "metadata": {},
   "outputs": [],
   "source": [
    "start_time_sk = time.time()\n",
    "sklearn_rf = sklearn.ensemble.RandomForestRegressor(n_estimators=5, max_depth=5, max_features=5,random_state=RANDOM_SEED)\n",
    "sklearn_rf.fit(X_train, y_train)\n",
    "sk_y_pred = sklearn_rf.predict(X_test)\n",
    "end_time_sk = time.time()"
   ]
  },
  {
   "cell_type": "code",
   "execution_count": 21,
   "metadata": {},
   "outputs": [
    {
     "name": "stdout",
     "output_type": "stream",
     "text": [
      "RMSE of implementation:  0.029409324634598104\n",
      "MAE of implementation:  0.022610411183165556\n",
      "RMSE of sklearn:  0.02746698187678999\n",
      "MAE of sklearn:  0.021319128450680482\n",
      "Runtime of implementation 572.8327031135559\n",
      "Runtime of sklearn 0.0940251350402832\n"
     ]
    }
   ],
   "source": [
    "implementation_rmse = root_mean_squared_error(y_test, y_pred)\n",
    "implementation_mae = mean_absolute_error(y_test, y_pred)\n",
    "sklearn_rmse = root_mean_squared_error(y_test, sk_y_pred)\n",
    "sklearn_mae = mean_absolute_error(y_test, sk_y_pred)\n",
    "print(\"RMSE of implementation: \", implementation_rmse)\n",
    "print(\"MAE of implementation: \", implementation_mae)\n",
    "print(\"RMSE of sklearn: \", sklearn_rmse)\n",
    "print(\"MAE of sklearn: \", sklearn_mae)\n",
    "implementation_runtime = end_time_implementation - start_time_implementation\n",
    "sklearn_runtime = end_time_sk - start_time_sk\n",
    "print(\"Runtime of implementation\", implementation_runtime)\n",
    "print(\"Runtime of sklearn\", sklearn_runtime)"
   ]
  },
  {
   "cell_type": "markdown",
   "metadata": {},
   "source": [
    "## Experiments on min samples splits\n",
    "**1. Increase min_sample_split to 5**"
   ]
  },
  {
   "cell_type": "code",
   "execution_count": 22,
   "metadata": {},
   "outputs": [],
   "source": [
    "start_time_implementation = time.time()\n",
    "rf = RandomForestRegressor(n_trees=5, max_features=1, min_samples_split=5, max_depth=5, random_state=RANDOM_SEED)\n",
    "rf.train(X_train, y_train)\n",
    "y_pred = rf.predict(X_test)\n",
    "end_time_implementation = time.time()"
   ]
  },
  {
   "cell_type": "code",
   "execution_count": 23,
   "metadata": {},
   "outputs": [],
   "source": [
    "start_time_sk = time.time()\n",
    "sklearn_rf = sklearn.ensemble.RandomForestRegressor(n_estimators=5, max_depth=5, max_features=1, min_samples_split=5, random_state=RANDOM_SEED)\n",
    "sklearn_rf.fit(X_train, y_train)\n",
    "sk_y_pred = sklearn_rf.predict(X_test)\n",
    "end_time_sk = time.time()"
   ]
  },
  {
   "cell_type": "code",
   "execution_count": 24,
   "metadata": {},
   "outputs": [
    {
     "name": "stdout",
     "output_type": "stream",
     "text": [
      "RMSE of implementation:  0.029412504761813382\n",
      "MAE of implementation:  0.02261342845185598\n",
      "RMSE of sklearn:  0.028728216878557974\n",
      "MAE of sklearn:  0.022135444564221635\n",
      "Runtime of implementation 119.62125492095947\n",
      "Runtime of sklearn 0.025078296661376953\n"
     ]
    }
   ],
   "source": [
    "implementation_rmse = root_mean_squared_error(y_test, y_pred)\n",
    "implementation_mae = mean_absolute_error(y_test, y_pred)\n",
    "sklearn_rmse = root_mean_squared_error(y_test, sk_y_pred)\n",
    "sklearn_mae = mean_absolute_error(y_test, sk_y_pred)\n",
    "print(\"RMSE of implementation: \", implementation_rmse)\n",
    "print(\"MAE of implementation: \", implementation_mae)\n",
    "print(\"RMSE of sklearn: \", sklearn_rmse)\n",
    "print(\"MAE of sklearn: \", sklearn_mae)\n",
    "implementation_runtime = end_time_implementation - start_time_implementation\n",
    "sklearn_runtime = end_time_sk - start_time_sk\n",
    "print(\"Runtime of implementation\", implementation_runtime)\n",
    "print(\"Runtime of sklearn\", sklearn_runtime)"
   ]
  },
  {
   "cell_type": "markdown",
   "metadata": {},
   "source": [
    "**2. Increase min_sample_split to 10**"
   ]
  },
  {
   "cell_type": "code",
   "execution_count": 25,
   "metadata": {},
   "outputs": [],
   "source": [
    "start_time_implementation = time.time()\n",
    "rf = RandomForestRegressor(n_trees=5, max_features=1, min_samples_split=10, max_depth=5, random_state=RANDOM_SEED)\n",
    "rf.train(X_train, y_train)\n",
    "y_pred = rf.predict(X_test)\n",
    "end_time_implementation = time.time()"
   ]
  },
  {
   "cell_type": "code",
   "execution_count": 26,
   "metadata": {},
   "outputs": [],
   "source": [
    "start_time_sk = time.time()\n",
    "sklearn_rf = sklearn.ensemble.RandomForestRegressor(n_estimators=5, max_depth=5, max_features=1, min_samples_split=10, random_state=RANDOM_SEED)\n",
    "sklearn_rf.fit(X_train, y_train)\n",
    "sk_y_pred = sklearn_rf.predict(X_test)\n",
    "end_time_sk = time.time()"
   ]
  },
  {
   "cell_type": "code",
   "execution_count": 27,
   "metadata": {},
   "outputs": [
    {
     "name": "stdout",
     "output_type": "stream",
     "text": [
      "RMSE of implementation:  0.029414766386084784\n",
      "MAE of implementation:  0.022615558046876955\n",
      "RMSE of sklearn:  0.02840280752170343\n",
      "MAE of sklearn:  0.021892236155497055\n",
      "Runtime of implementation 118.49422836303711\n",
      "Runtime of sklearn 0.025309324264526367\n"
     ]
    }
   ],
   "source": [
    "implementation_rmse = root_mean_squared_error(y_test, y_pred)\n",
    "implementation_mae = mean_absolute_error(y_test, y_pred)\n",
    "sklearn_rmse = root_mean_squared_error(y_test, sk_y_pred)\n",
    "sklearn_mae = mean_absolute_error(y_test, sk_y_pred)\n",
    "print(\"RMSE of implementation: \", implementation_rmse)\n",
    "print(\"MAE of implementation: \", implementation_mae)\n",
    "print(\"RMSE of sklearn: \", sklearn_rmse)\n",
    "print(\"MAE of sklearn: \", sklearn_mae)\n",
    "implementation_runtime = end_time_implementation - start_time_implementation\n",
    "sklearn_runtime = end_time_sk - start_time_sk\n",
    "print(\"Runtime of implementation\", implementation_runtime)\n",
    "print(\"Runtime of sklearn\", sklearn_runtime)"
   ]
  },
  {
   "cell_type": "markdown",
   "metadata": {},
   "source": [
    "## Experiments on number of trees\n",
    "**1. Increasing number of trees to 30**"
   ]
  },
  {
   "cell_type": "code",
   "execution_count": 28,
   "metadata": {},
   "outputs": [],
   "source": [
    "start_time_implementation = time.time()\n",
    "rf = RandomForestRegressor(n_trees=30, max_features=1, min_samples_split=2, max_depth=5, random_state=RANDOM_SEED)\n",
    "rf.train(X_train, y_train)\n",
    "y_pred = rf.predict(X_test)\n",
    "end_time_implementation = time.time()"
   ]
  },
  {
   "cell_type": "code",
   "execution_count": 29,
   "metadata": {},
   "outputs": [],
   "source": [
    "start_time_sk = time.time()\n",
    "sklearn_rf = sklearn.ensemble.RandomForestRegressor(n_estimators=30, max_depth=5, max_features=1, min_samples_split=2, random_state=RANDOM_SEED)\n",
    "sklearn_rf.fit(X_train, y_train)\n",
    "sk_y_pred = sklearn_rf.predict(X_test)\n",
    "end_time_sk = time.time()"
   ]
  },
  {
   "cell_type": "code",
   "execution_count": 30,
   "metadata": {},
   "outputs": [
    {
     "name": "stdout",
     "output_type": "stream",
     "text": [
      "RMSE of implementation:  0.02939355692004114\n",
      "MAE of implementation:  0.022595809911376965\n",
      "RMSE of sklearn:  0.028842184038434398\n",
      "MAE of sklearn:  0.02221679346541146\n",
      "Runtime of implementation 695.7822754383087\n",
      "Runtime of sklearn 0.12179279327392578\n"
     ]
    }
   ],
   "source": [
    "implementation_rmse = root_mean_squared_error(y_test, y_pred)\n",
    "implementation_mae = mean_absolute_error(y_test, y_pred)\n",
    "sklearn_rmse = root_mean_squared_error(y_test, sk_y_pred)\n",
    "sklearn_mae = mean_absolute_error(y_test, sk_y_pred)\n",
    "print(\"RMSE of implementation: \", implementation_rmse)\n",
    "print(\"MAE of implementation: \", implementation_mae)\n",
    "print(\"RMSE of sklearn: \", sklearn_rmse)\n",
    "print(\"MAE of sklearn: \", sklearn_mae)\n",
    "implementation_runtime = end_time_implementation - start_time_implementation\n",
    "sklearn_runtime = end_time_sk - start_time_sk\n",
    "print(\"Runtime of implementation\", implementation_runtime)\n",
    "print(\"Runtime of sklearn\", sklearn_runtime)"
   ]
  },
  {
   "cell_type": "markdown",
   "metadata": {},
   "source": [
    "**2. Increasing number of trees to 100**"
   ]
  },
  {
   "cell_type": "code",
   "execution_count": 32,
   "metadata": {},
   "outputs": [],
   "source": [
    "start_time_implementation = time.time()\n",
    "rf = RandomForestRegressor(n_trees=100, max_features=1, min_samples_split=2, max_depth=5, random_state=RANDOM_SEED)\n",
    "rf.train(X_train, y_train)\n",
    "y_pred = rf.predict(X_test)\n",
    "end_time_implementation = time.time()"
   ]
  },
  {
   "cell_type": "code",
   "execution_count": 33,
   "metadata": {},
   "outputs": [],
   "source": [
    "start_time_sk = time.time()\n",
    "sklearn_rf = sklearn.ensemble.RandomForestRegressor(n_estimators=100, max_depth=5, max_features=1, min_samples_split=2, random_state=RANDOM_SEED)\n",
    "sklearn_rf.fit(X_train, y_train)\n",
    "sk_y_pred = sklearn_rf.predict(X_test)\n",
    "end_time_sk = time.time()"
   ]
  },
  {
   "cell_type": "code",
   "execution_count": 34,
   "metadata": {},
   "outputs": [
    {
     "name": "stdout",
     "output_type": "stream",
     "text": [
      "RMSE of implementation:  0.029391143141854415\n",
      "MAE of implementation:  0.022595595762205472\n",
      "RMSE of sklearn:  0.028362171580740274\n",
      "MAE of sklearn:  0.021881752971350185\n",
      "Runtime of implementation 3417.44739985466\n",
      "Runtime of sklearn 0.7584710121154785\n"
     ]
    }
   ],
   "source": [
    "implementation_rmse = root_mean_squared_error(y_test, y_pred)\n",
    "implementation_mae = mean_absolute_error(y_test, y_pred)\n",
    "sklearn_rmse = root_mean_squared_error(y_test, sk_y_pred)\n",
    "sklearn_mae = mean_absolute_error(y_test, sk_y_pred)\n",
    "print(\"RMSE of implementation: \", implementation_rmse)\n",
    "print(\"MAE of implementation: \", implementation_mae)\n",
    "print(\"RMSE of sklearn: \", sklearn_rmse)\n",
    "print(\"MAE of sklearn: \", sklearn_mae)\n",
    "implementation_runtime = end_time_implementation - start_time_implementation\n",
    "sklearn_runtime = end_time_sk - start_time_sk\n",
    "print(\"Runtime of implementation\", implementation_runtime)\n",
    "print(\"Runtime of sklearn\", sklearn_runtime)"
   ]
  },
  {
   "cell_type": "markdown",
   "metadata": {},
   "source": [
    "**Experiment on default values with sklearn RandomForestRegressor for comparison**"
   ]
  },
  {
   "cell_type": "code",
   "execution_count": 35,
   "metadata": {},
   "outputs": [],
   "source": [
    "start_time_sk = time.time()\n",
    "sklearn_rf = sklearn.ensemble.RandomForestRegressor(random_state=RANDOM_SEED)\n",
    "sklearn_rf.fit(X_train, y_train)\n",
    "sk_y_pred = sklearn_rf.predict(X_test)\n",
    "end_time_sk = time.time()"
   ]
  },
  {
   "cell_type": "code",
   "execution_count": 36,
   "metadata": {},
   "outputs": [
    {
     "name": "stdout",
     "output_type": "stream",
     "text": [
      "RMSE of sklearn:  0.007927639549178677\n",
      "Runtime of sklearn 12.581874370574951\n",
      "MAE of sklearn:  0.006345761073825503\n"
     ]
    }
   ],
   "source": [
    "sklearn_rmse = root_mean_squared_error(y_test, sk_y_pred)\n",
    "print(\"RMSE of sklearn: \", sklearn_rmse)\n",
    "sklearn_runtime = end_time_sk - start_time_sk\n",
    "print(\"Runtime of sklearn\", sklearn_runtime)\n",
    "sklearn_mae = mean_absolute_error(y_test, sk_y_pred)\n",
    "print(\"MAE of sklearn: \", sklearn_mae)"
   ]
  },
  {
   "cell_type": "code",
   "execution_count": 39,
   "metadata": {},
   "outputs": [],
   "source": [
    "scaler_ss = StandardScaler()\n",
    "X_train = scaler_ss.fit_transform(X_train)\n",
    "X_test=scaler_ss.transform(X_test)\n",
    "\n",
    "start_time_knn = time.time()\n",
    "knn = KNeighborsRegressor()\n",
    "knn.fit(X_train, y_train)\n",
    "knn_y_pred = knn.predict(X_test)\n",
    "end_time_knn = time.time()"
   ]
  },
  {
   "cell_type": "code",
   "execution_count": 40,
   "metadata": {},
   "outputs": [
    {
     "name": "stdout",
     "output_type": "stream",
     "text": [
      "RMSE of knn:  0.02763746692014702\n",
      "MAE of knn:  0.021907218913971935\n",
      "Runtime of knn 0.1719827651977539\n"
     ]
    }
   ],
   "source": [
    "knn_rmse = root_mean_squared_error(y_test, knn_y_pred)\n",
    "print(\"RMSE of knn: \", knn_rmse)\n",
    "knn_mae = mean_absolute_error(y_test, knn_y_pred)\n",
    "print(\"MAE of knn: \", knn_mae)\n",
    "knn_runtime = end_time_knn - start_time_knn\n",
    "print(\"Runtime of knn\", knn_runtime)"
   ]
  },
  {
   "cell_type": "code",
   "execution_count": null,
   "metadata": {},
   "outputs": [],
   "source": []
  }
 ],
 "metadata": {
  "kernelspec": {
   "display_name": ".venv",
   "language": "python",
   "name": "python3"
  },
  "language_info": {
   "codemirror_mode": {
    "name": "ipython",
    "version": 3
   },
   "file_extension": ".py",
   "mimetype": "text/x-python",
   "name": "python",
   "nbconvert_exporter": "python",
   "pygments_lexer": "ipython3",
   "version": "3.11.9"
  }
 },
 "nbformat": 4,
 "nbformat_minor": 2
}
