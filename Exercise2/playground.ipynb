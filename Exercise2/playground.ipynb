{
 "cells": [
  {
   "cell_type": "code",
   "execution_count": 16,
   "metadata": {},
   "outputs": [],
   "source": [
    "import pandas as pd\n",
    "import random\n",
    "import numpy as np"
   ]
  },
  {
   "cell_type": "code",
   "execution_count": 17,
   "metadata": {},
   "outputs": [],
   "source": [
    "random.seed(6)\n",
    "\n",
    "# define column names for the dataset\n",
    "columns = ['mpg', 'cylinders', 'displacement', 'horsepower', 'weight', 'acceleration', 'model_year', 'origin', 'car_name']\n",
    "\n",
    "# read data \n",
    "data = pd.read_csv('auto-mpg.data', sep='\\\\s+', header=None, names=columns, quotechar='\"')\n",
    "\n",
    "X_train = data.drop('mpg', axis=1)\n",
    "y_train  = data[\"mpg\"]"
   ]
  },
  {
   "cell_type": "code",
   "execution_count": 18,
   "metadata": {},
   "outputs": [],
   "source": [
    "feature_name = 'cylinders'\n",
    "\n",
    "split_value = 2\n",
    "left_df  = data[data[feature_name] < split_value]\n",
    "right_df = data[data[feature_name] >= split_value]\n",
    "\n",
    "left_target_mean  = left_df[\"mpg\"].mean()\n",
    "right_target_mean = right_df[\"mpg\"].mean()\n",
    "\n",
    "# create numpy array with target mean for error metric\n",
    "left_mean_array  = np.repeat(left_target_mean, len(left_df))\n",
    "right_mean_array = np.repeat(right_target_mean, len(right_df))\n",
    "\n",
    "# calculate individual SSR (Sum Squared Residuals)\n",
    "left_ssr  = np.sum(np.square(left_df[\"mpg\"] - left_mean_array))\n",
    "right_ssr = np.sum(np.square(right_df[\"mpg\"] - right_mean_array))\n",
    "\n",
    "total_ssr = left_ssr + right_ssr\n",
    "tuple_split_val_ssr = (split_value, total_ssr, left_target_mean, right_target_mean)\n"
   ]
  },
  {
   "cell_type": "code",
   "execution_count": 21,
   "metadata": {},
   "outputs": [
    {
     "data": {
      "text/plain": [
       "np.float64(0.0)"
      ]
     },
     "execution_count": 21,
     "metadata": {},
     "output_type": "execute_result"
    }
   ],
   "source": [
    "left_ssr"
   ]
  },
  {
   "cell_type": "code",
   "execution_count": 20,
   "metadata": {},
   "outputs": [
    {
     "name": "stdout",
     "output_type": "stream",
     "text": [
      "nan\n",
      "[]\n"
     ]
    }
   ],
   "source": [
    "print(left_target_mean)\n",
    "print(left_mean_array)\n"
   ]
  },
  {
   "cell_type": "code",
   "execution_count": 22,
   "metadata": {},
   "outputs": [
    {
     "data": {
      "text/plain": [
       "np.float64(24252.575477386938)"
      ]
     },
     "execution_count": 22,
     "metadata": {},
     "output_type": "execute_result"
    }
   ],
   "source": [
    "total_ssr"
   ]
  },
  {
   "cell_type": "code",
   "execution_count": 23,
   "metadata": {},
   "outputs": [
    {
     "data": {
      "text/plain": [
       "np.float64(23.514572864321607)"
      ]
     },
     "execution_count": 23,
     "metadata": {},
     "output_type": "execute_result"
    }
   ],
   "source": [
    "right_target_mean"
   ]
  },
  {
   "cell_type": "code",
   "execution_count": 24,
   "metadata": {},
   "outputs": [
    {
     "data": {
      "text/plain": [
       "np.float64(24252.575477386938)"
      ]
     },
     "execution_count": 24,
     "metadata": {},
     "output_type": "execute_result"
    }
   ],
   "source": [
    "right_ssr"
   ]
  },
  {
   "cell_type": "code",
   "execution_count": 34,
   "metadata": {},
   "outputs": [],
   "source": [
    "dict_ssrs_per_feature = {'cylinders': [{'Split value': np.float64(3.0), 'Total SSR': np.float64(11334.585929648241)}, {'Split value': np.float64(2.0), 'Total SSR': np.float64(113.585929648241)}]}"
   ]
  },
  {
   "cell_type": "code",
   "execution_count": 51,
   "metadata": {},
   "outputs": [
    {
     "name": "stdout",
     "output_type": "stream",
     "text": [
      "{'cylinders': {'Best split': np.float64(2.0), 'Min SSR': np.float64(113.585929648241)}}\n",
      "113.585929648241\n",
      "{'Best split': np.float64(2.0), 'Min SSR': np.float64(113.585929648241)}\n"
     ]
    }
   ],
   "source": [
    "dict_best_values_per_feature = {}\n",
    "\n",
    "for feature_name, dictionary_list in dict_ssrs_per_feature.items():\n",
    "    min_ssr = dictionary_list[0][\"Total SSR\"]\n",
    "    best_split_value = dictionary_list[0][\"Split value\"]\n",
    "    for dictionary in dictionary_list:\n",
    "        if dictionary[\"Total SSR\"] < min_ssr:\n",
    "            min_ssr = dictionary[\"Total SSR\"]\n",
    "            best_split_value = dictionary[\"Split value\"]\n",
    "\n",
    "    # Add feature name and best split values\n",
    "    dict_best_values_per_feature[feature_name] = {\"Best split\": best_split_value, \"Min SSR\": min_ssr}\n",
    "\n",
    "# find min SSR globally over every feature\n",
    "print(dict_best_values_per_feature)\n",
    "print(dict_best_values_per_feature['cylinders']['Min SSR'])\n",
    "print(dict_best_values_per_feature[next(iter(dict_best_values_per_feature))])\n",
    "\n",
    "\n",
    "\n",
    "\n",
    "\n",
    "global_min_ssr = dict_best_values_per_feature[str(next(iter(dict_best_values_per_feature)))][\"Min SSR\"]\n",
    "global_best_split_value = dict_best_values_per_feature[next(iter(dict_best_values_per_feature))][\"Best split\"]\n",
    "best_feature = dict_best_values_per_feature[next(iter(dict_best_values_per_feature))]\n",
    "\n",
    "\n",
    "\n",
    "for feature_name, dictionary in dict_best_values_per_feature.items():\n",
    "       \n",
    "        if dictionary[\"Min SSR\"] < global_min_ssr:\n",
    "            global_min_ssr = dictionary[\"Total SSR\"]\n",
    "            global_best_split_value = dictionary[\"Best split\"]\n",
    "            best_feature = feature_name\n"
   ]
  },
  {
   "cell_type": "code",
   "execution_count": 41,
   "metadata": {},
   "outputs": [
    {
     "data": {
      "text/plain": [
       "'cylinders'"
      ]
     },
     "execution_count": 41,
     "metadata": {},
     "output_type": "execute_result"
    }
   ],
   "source": [
    "next(iter(dict_ssrs_per_feature))"
   ]
  },
  {
   "cell_type": "code",
   "execution_count": 37,
   "metadata": {},
   "outputs": [
    {
     "data": {
      "text/plain": [
       "np.float64(2.0)"
      ]
     },
     "execution_count": 37,
     "metadata": {},
     "output_type": "execute_result"
    }
   ],
   "source": [
    "split_value"
   ]
  },
  {
   "cell_type": "code",
   "execution_count": null,
   "metadata": {},
   "outputs": [],
   "source": []
  }
 ],
 "metadata": {
  "kernelspec": {
   "display_name": "machinelearning",
   "language": "python",
   "name": "python3"
  },
  "language_info": {
   "codemirror_mode": {
    "name": "ipython",
    "version": 3
   },
   "file_extension": ".py",
   "mimetype": "text/x-python",
   "name": "python",
   "nbconvert_exporter": "python",
   "pygments_lexer": "ipython3",
   "version": "3.12.3"
  }
 },
 "nbformat": 4,
 "nbformat_minor": 2
}
