{
 "cells": [
  {
   "cell_type": "code",
   "execution_count": 1,
   "metadata": {},
   "outputs": [],
   "source": [
    "import matplotlib.pyplot as plt\n",
    "import pandas as pd\n",
    "import numpy as np\n",
    "from sklearn.model_selection import train_test_split\n",
    "from sklearn.impute import SimpleImputer\n",
    "from sklearn.preprocessing import StandardScaler\n",
    "import time\n",
    "\n",
    "from random_forest_regressor import RandomForestRegressor\n",
    "from sklearn import ensemble\n",
    "from sklearn.neighbors import KNeighborsRegressor\n",
    "from sklearn.metrics import root_mean_squared_error\n",
    "from sklearn.metrics import mean_absolute_error\n",
    "\n",
    "RANDOM_SEED=42"
   ]
  },
  {
   "cell_type": "markdown",
   "metadata": {},
   "source": [
    "For this dataset, we have 398 rows and 9 columns, all numeric except car name and horsepower. <br>\n",
    "We drop Car name since it is a column that can work like an \"ID\" and we don't believe it is important for the model. <br>\n",
    "For horsepower we transform the column into a float and turn the missing values '?' into nan, which are then imputed with SimpleImputer, using then median. <br>\n",
    "Since we will use this data for a RandomForest Model, scaling the data is not a necessary step.\n"
   ]
  },
  {
   "cell_type": "code",
   "execution_count": 2,
   "metadata": {},
   "outputs": [
    {
     "data": {
      "text/plain": [
       "mpg             float64\n",
       "cylinders         int64\n",
       "displacement    float64\n",
       "horsepower       object\n",
       "weight          float64\n",
       "acceleration    float64\n",
       "model_year        int64\n",
       "origin            int64\n",
       "dtype: object"
      ]
     },
     "execution_count": 2,
     "metadata": {},
     "output_type": "execute_result"
    }
   ],
   "source": [
    "columns = ['mpg', 'cylinders', 'displacement', 'horsepower', 'weight', 'acceleration', 'model_year', 'origin', 'car_name']\n",
    "# read data \n",
    "data = pd.read_csv('auto-mpg.data', sep='\\\\s+', header=None, names=columns, quotechar='\"')\n",
    "\n",
    "# drop car_name - Like id\n",
    "data.drop([\"car_name\"], axis=1, inplace=True)\n",
    "\n",
    "data.dtypes #horsepower is object but should be float"
   ]
  },
  {
   "cell_type": "code",
   "execution_count": 3,
   "metadata": {},
   "outputs": [
    {
     "data": {
      "text/html": [
       "<div>\n",
       "<style scoped>\n",
       "    .dataframe tbody tr th:only-of-type {\n",
       "        vertical-align: middle;\n",
       "    }\n",
       "\n",
       "    .dataframe tbody tr th {\n",
       "        vertical-align: top;\n",
       "    }\n",
       "\n",
       "    .dataframe thead th {\n",
       "        text-align: right;\n",
       "    }\n",
       "</style>\n",
       "<table border=\"1\" class=\"dataframe\">\n",
       "  <thead>\n",
       "    <tr style=\"text-align: right;\">\n",
       "      <th></th>\n",
       "      <th>mpg</th>\n",
       "      <th>cylinders</th>\n",
       "      <th>displacement</th>\n",
       "      <th>horsepower</th>\n",
       "      <th>weight</th>\n",
       "      <th>acceleration</th>\n",
       "      <th>model_year</th>\n",
       "      <th>origin</th>\n",
       "    </tr>\n",
       "  </thead>\n",
       "  <tbody>\n",
       "    <tr>\n",
       "      <th>32</th>\n",
       "      <td>25.0</td>\n",
       "      <td>4</td>\n",
       "      <td>98.0</td>\n",
       "      <td>NaN</td>\n",
       "      <td>2046.0</td>\n",
       "      <td>19.0</td>\n",
       "      <td>71</td>\n",
       "      <td>1</td>\n",
       "    </tr>\n",
       "    <tr>\n",
       "      <th>126</th>\n",
       "      <td>21.0</td>\n",
       "      <td>6</td>\n",
       "      <td>200.0</td>\n",
       "      <td>NaN</td>\n",
       "      <td>2875.0</td>\n",
       "      <td>17.0</td>\n",
       "      <td>74</td>\n",
       "      <td>1</td>\n",
       "    </tr>\n",
       "    <tr>\n",
       "      <th>330</th>\n",
       "      <td>40.9</td>\n",
       "      <td>4</td>\n",
       "      <td>85.0</td>\n",
       "      <td>NaN</td>\n",
       "      <td>1835.0</td>\n",
       "      <td>17.3</td>\n",
       "      <td>80</td>\n",
       "      <td>2</td>\n",
       "    </tr>\n",
       "    <tr>\n",
       "      <th>336</th>\n",
       "      <td>23.6</td>\n",
       "      <td>4</td>\n",
       "      <td>140.0</td>\n",
       "      <td>NaN</td>\n",
       "      <td>2905.0</td>\n",
       "      <td>14.3</td>\n",
       "      <td>80</td>\n",
       "      <td>1</td>\n",
       "    </tr>\n",
       "    <tr>\n",
       "      <th>354</th>\n",
       "      <td>34.5</td>\n",
       "      <td>4</td>\n",
       "      <td>100.0</td>\n",
       "      <td>NaN</td>\n",
       "      <td>2320.0</td>\n",
       "      <td>15.8</td>\n",
       "      <td>81</td>\n",
       "      <td>2</td>\n",
       "    </tr>\n",
       "    <tr>\n",
       "      <th>374</th>\n",
       "      <td>23.0</td>\n",
       "      <td>4</td>\n",
       "      <td>151.0</td>\n",
       "      <td>NaN</td>\n",
       "      <td>3035.0</td>\n",
       "      <td>20.5</td>\n",
       "      <td>82</td>\n",
       "      <td>1</td>\n",
       "    </tr>\n",
       "  </tbody>\n",
       "</table>\n",
       "</div>"
      ],
      "text/plain": [
       "      mpg  cylinders  displacement  horsepower  weight  acceleration  \\\n",
       "32   25.0          4          98.0         NaN  2046.0          19.0   \n",
       "126  21.0          6         200.0         NaN  2875.0          17.0   \n",
       "330  40.9          4          85.0         NaN  1835.0          17.3   \n",
       "336  23.6          4         140.0         NaN  2905.0          14.3   \n",
       "354  34.5          4         100.0         NaN  2320.0          15.8   \n",
       "374  23.0          4         151.0         NaN  3035.0          20.5   \n",
       "\n",
       "     model_year  origin  \n",
       "32           71       1  \n",
       "126          74       1  \n",
       "330          80       2  \n",
       "336          80       1  \n",
       "354          81       2  \n",
       "374          82       1  "
      ]
     },
     "execution_count": 3,
     "metadata": {},
     "output_type": "execute_result"
    }
   ],
   "source": [
    "# Replace '?' with NaN\n",
    "data['horsepower']=pd.to_numeric(data['horsepower'], errors='coerce')\n",
    "data[data.isnull().any(axis=1)]\n"
   ]
  },
  {
   "cell_type": "code",
   "execution_count": 4,
   "metadata": {},
   "outputs": [
    {
     "data": {
      "text/html": [
       "<div>\n",
       "<style scoped>\n",
       "    .dataframe tbody tr th:only-of-type {\n",
       "        vertical-align: middle;\n",
       "    }\n",
       "\n",
       "    .dataframe tbody tr th {\n",
       "        vertical-align: top;\n",
       "    }\n",
       "\n",
       "    .dataframe thead th {\n",
       "        text-align: right;\n",
       "    }\n",
       "</style>\n",
       "<table border=\"1\" class=\"dataframe\">\n",
       "  <thead>\n",
       "    <tr style=\"text-align: right;\">\n",
       "      <th></th>\n",
       "      <th>mpg</th>\n",
       "      <th>cylinders</th>\n",
       "      <th>displacement</th>\n",
       "      <th>horsepower</th>\n",
       "      <th>weight</th>\n",
       "      <th>acceleration</th>\n",
       "      <th>model_year</th>\n",
       "      <th>origin</th>\n",
       "    </tr>\n",
       "  </thead>\n",
       "  <tbody>\n",
       "    <tr>\n",
       "      <th>0</th>\n",
       "      <td>18.0</td>\n",
       "      <td>8.0</td>\n",
       "      <td>307.0</td>\n",
       "      <td>130.0</td>\n",
       "      <td>3504.0</td>\n",
       "      <td>12.0</td>\n",
       "      <td>70.0</td>\n",
       "      <td>1.0</td>\n",
       "    </tr>\n",
       "    <tr>\n",
       "      <th>1</th>\n",
       "      <td>15.0</td>\n",
       "      <td>8.0</td>\n",
       "      <td>350.0</td>\n",
       "      <td>165.0</td>\n",
       "      <td>3693.0</td>\n",
       "      <td>11.5</td>\n",
       "      <td>70.0</td>\n",
       "      <td>1.0</td>\n",
       "    </tr>\n",
       "    <tr>\n",
       "      <th>2</th>\n",
       "      <td>18.0</td>\n",
       "      <td>8.0</td>\n",
       "      <td>318.0</td>\n",
       "      <td>150.0</td>\n",
       "      <td>3436.0</td>\n",
       "      <td>11.0</td>\n",
       "      <td>70.0</td>\n",
       "      <td>1.0</td>\n",
       "    </tr>\n",
       "    <tr>\n",
       "      <th>3</th>\n",
       "      <td>16.0</td>\n",
       "      <td>8.0</td>\n",
       "      <td>304.0</td>\n",
       "      <td>150.0</td>\n",
       "      <td>3433.0</td>\n",
       "      <td>12.0</td>\n",
       "      <td>70.0</td>\n",
       "      <td>1.0</td>\n",
       "    </tr>\n",
       "    <tr>\n",
       "      <th>4</th>\n",
       "      <td>17.0</td>\n",
       "      <td>8.0</td>\n",
       "      <td>302.0</td>\n",
       "      <td>140.0</td>\n",
       "      <td>3449.0</td>\n",
       "      <td>10.5</td>\n",
       "      <td>70.0</td>\n",
       "      <td>1.0</td>\n",
       "    </tr>\n",
       "    <tr>\n",
       "      <th>...</th>\n",
       "      <td>...</td>\n",
       "      <td>...</td>\n",
       "      <td>...</td>\n",
       "      <td>...</td>\n",
       "      <td>...</td>\n",
       "      <td>...</td>\n",
       "      <td>...</td>\n",
       "      <td>...</td>\n",
       "    </tr>\n",
       "    <tr>\n",
       "      <th>393</th>\n",
       "      <td>27.0</td>\n",
       "      <td>4.0</td>\n",
       "      <td>140.0</td>\n",
       "      <td>86.0</td>\n",
       "      <td>2790.0</td>\n",
       "      <td>15.6</td>\n",
       "      <td>82.0</td>\n",
       "      <td>1.0</td>\n",
       "    </tr>\n",
       "    <tr>\n",
       "      <th>394</th>\n",
       "      <td>44.0</td>\n",
       "      <td>4.0</td>\n",
       "      <td>97.0</td>\n",
       "      <td>52.0</td>\n",
       "      <td>2130.0</td>\n",
       "      <td>24.6</td>\n",
       "      <td>82.0</td>\n",
       "      <td>2.0</td>\n",
       "    </tr>\n",
       "    <tr>\n",
       "      <th>395</th>\n",
       "      <td>32.0</td>\n",
       "      <td>4.0</td>\n",
       "      <td>135.0</td>\n",
       "      <td>84.0</td>\n",
       "      <td>2295.0</td>\n",
       "      <td>11.6</td>\n",
       "      <td>82.0</td>\n",
       "      <td>1.0</td>\n",
       "    </tr>\n",
       "    <tr>\n",
       "      <th>396</th>\n",
       "      <td>28.0</td>\n",
       "      <td>4.0</td>\n",
       "      <td>120.0</td>\n",
       "      <td>79.0</td>\n",
       "      <td>2625.0</td>\n",
       "      <td>18.6</td>\n",
       "      <td>82.0</td>\n",
       "      <td>1.0</td>\n",
       "    </tr>\n",
       "    <tr>\n",
       "      <th>397</th>\n",
       "      <td>31.0</td>\n",
       "      <td>4.0</td>\n",
       "      <td>119.0</td>\n",
       "      <td>82.0</td>\n",
       "      <td>2720.0</td>\n",
       "      <td>19.4</td>\n",
       "      <td>82.0</td>\n",
       "      <td>1.0</td>\n",
       "    </tr>\n",
       "  </tbody>\n",
       "</table>\n",
       "<p>398 rows × 8 columns</p>\n",
       "</div>"
      ],
      "text/plain": [
       "      mpg  cylinders  displacement  horsepower  weight  acceleration  \\\n",
       "0    18.0        8.0         307.0       130.0  3504.0          12.0   \n",
       "1    15.0        8.0         350.0       165.0  3693.0          11.5   \n",
       "2    18.0        8.0         318.0       150.0  3436.0          11.0   \n",
       "3    16.0        8.0         304.0       150.0  3433.0          12.0   \n",
       "4    17.0        8.0         302.0       140.0  3449.0          10.5   \n",
       "..    ...        ...           ...         ...     ...           ...   \n",
       "393  27.0        4.0         140.0        86.0  2790.0          15.6   \n",
       "394  44.0        4.0          97.0        52.0  2130.0          24.6   \n",
       "395  32.0        4.0         135.0        84.0  2295.0          11.6   \n",
       "396  28.0        4.0         120.0        79.0  2625.0          18.6   \n",
       "397  31.0        4.0         119.0        82.0  2720.0          19.4   \n",
       "\n",
       "     model_year  origin  \n",
       "0          70.0     1.0  \n",
       "1          70.0     1.0  \n",
       "2          70.0     1.0  \n",
       "3          70.0     1.0  \n",
       "4          70.0     1.0  \n",
       "..          ...     ...  \n",
       "393        82.0     1.0  \n",
       "394        82.0     2.0  \n",
       "395        82.0     1.0  \n",
       "396        82.0     1.0  \n",
       "397        82.0     1.0  \n",
       "\n",
       "[398 rows x 8 columns]"
      ]
     },
     "execution_count": 4,
     "metadata": {},
     "output_type": "execute_result"
    }
   ],
   "source": [
    "imp_median =SimpleImputer(strategy='median', missing_values=np.nan)\n",
    "data_clean=pd.DataFrame(imp_median.fit_transform(data), columns=data.columns)\n",
    "data_clean"
   ]
  },
  {
   "cell_type": "code",
   "execution_count": 5,
   "metadata": {},
   "outputs": [],
   "source": [
    "X = data_clean.drop(['mpg'], axis=1)\n",
    "y = data_clean['mpg']\n",
    "X_train, X_test, y_train, y_test = train_test_split(X, y, test_size=0.2, random_state=42)"
   ]
  },
  {
   "cell_type": "markdown",
   "metadata": {},
   "source": [
    "### Experiments on Hyperparameters"
   ]
  },
  {
   "cell_type": "markdown",
   "metadata": {},
   "source": [
    "#### Base line "
   ]
  },
  {
   "cell_type": "code",
   "execution_count": 6,
   "metadata": {},
   "outputs": [],
   "source": [
    "#default value for parameters\n",
    "start_time_implementation = time.time()\n",
    "rf = RandomForestRegressor(n_trees=5, max_features=1, min_samples_split=2, max_depth=5, random_state=RANDOM_SEED)\n",
    "rf.train(X_train, y_train)\n",
    "y_pred = rf.predict(X_test)\n",
    "end_time_implementation = time.time()"
   ]
  },
  {
   "cell_type": "code",
   "execution_count": 7,
   "metadata": {},
   "outputs": [],
   "source": [
    "start_time_sk = time.time()\n",
    "sklearn_rf = ensemble.RandomForestRegressor(n_estimators=5, max_features=1, min_samples_split=2, max_depth=5, random_state=RANDOM_SEED)\n",
    "sklearn_rf.fit(X_train, y_train)\n",
    "sk_y_pred = sklearn_rf.predict(X_test)\n",
    "end_time_sk = time.time()"
   ]
  },
  {
   "cell_type": "code",
   "execution_count": 8,
   "metadata": {},
   "outputs": [
    {
     "name": "stdout",
     "output_type": "stream",
     "text": [
      "RMSE of implementation:  11.38586166939917\n",
      "MAE of implementation:  9.81204342251951\n",
      "RMSE of sklearn:  2.9682587098347897\n",
      "MAE of sklearn:  2.215011232989232\n",
      "Runtime of implementation 3.082282781600952\n",
      "Runtime of sklearn 0.007988691329956055\n"
     ]
    }
   ],
   "source": [
    "implementation_rmse = root_mean_squared_error(y_test, y_pred)\n",
    "implementation_mae = mean_absolute_error(y_test, y_pred)\n",
    "sklearn_rmse = root_mean_squared_error(y_test, sk_y_pred)\n",
    "sklearn_mae = mean_absolute_error(y_test, sk_y_pred)\n",
    "\n",
    "print(\"RMSE of implementation: \", implementation_rmse)\n",
    "print(\"MAE of implementation: \", implementation_mae)\n",
    "print(\"RMSE of sklearn: \", sklearn_rmse)\n",
    "print(\"MAE of sklearn: \", sklearn_mae)\n",
    "\n",
    "implementation_runtime = end_time_implementation - start_time_implementation\n",
    "sklearn_runtime = end_time_sk - start_time_sk\n",
    "print(\"Runtime of implementation\", implementation_runtime)\n",
    "print(\"Runtime of sklearn\", sklearn_runtime)"
   ]
  },
  {
   "cell_type": "markdown",
   "metadata": {},
   "source": [
    "#### Number of Trees 30"
   ]
  },
  {
   "cell_type": "code",
   "execution_count": 9,
   "metadata": {},
   "outputs": [],
   "source": [
    "# n trees 30\n",
    "start_time_implementation = time.time()\n",
    "rf = RandomForestRegressor(n_trees=30, max_features=1, min_samples_split=2, max_depth=5, random_state=RANDOM_SEED)\n",
    "rf.train(X_train, y_train)\n",
    "y_pred = rf.predict(X_test)\n",
    "end_time_implementation = time.time()"
   ]
  },
  {
   "cell_type": "code",
   "execution_count": 10,
   "metadata": {},
   "outputs": [],
   "source": [
    "start_time_sk = time.time()\n",
    "sklearn_rf = ensemble.RandomForestRegressor(n_estimators=30, max_features=1, min_samples_split=2, max_depth=5, random_state=RANDOM_SEED)\n",
    "sklearn_rf.fit(X_train, y_train)\n",
    "sk_y_pred = sklearn_rf.predict(X_test)\n",
    "end_time_sk = time.time()"
   ]
  },
  {
   "cell_type": "code",
   "execution_count": 11,
   "metadata": {},
   "outputs": [
    {
     "name": "stdout",
     "output_type": "stream",
     "text": [
      "RMSE of implementation:  11.014588639614686\n",
      "MAE of implementation:  9.468167452563751\n",
      "RMSE of sklearn:  2.522076400401327\n",
      "MAE of sklearn:  1.9325292649077306\n",
      "Runtime of implementation 18.36820101737976\n",
      "Runtime of sklearn 0.024845361709594727\n"
     ]
    }
   ],
   "source": [
    "implementation_rmse = root_mean_squared_error(y_test, y_pred)\n",
    "implementation_mae = mean_absolute_error(y_test, y_pred)\n",
    "sklearn_rmse = root_mean_squared_error(y_test, sk_y_pred)\n",
    "sklearn_mae = mean_absolute_error(y_test, sk_y_pred)\n",
    "print(\"RMSE of implementation: \", implementation_rmse)\n",
    "print(\"MAE of implementation: \", implementation_mae)\n",
    "print(\"RMSE of sklearn: \", sklearn_rmse)\n",
    "print(\"MAE of sklearn: \", sklearn_mae)\n",
    "implementation_runtime = end_time_implementation - start_time_implementation\n",
    "sklearn_runtime = end_time_sk - start_time_sk\n",
    "print(\"Runtime of implementation\", implementation_runtime)\n",
    "print(\"Runtime of sklearn\", sklearn_runtime)"
   ]
  },
  {
   "cell_type": "markdown",
   "metadata": {},
   "source": [
    "#### Number of Trees 100"
   ]
  },
  {
   "cell_type": "code",
   "execution_count": 12,
   "metadata": {},
   "outputs": [],
   "source": [
    "# n trees 100\n",
    "start_time_implementation = time.time() \n",
    "rf = RandomForestRegressor(n_trees=100, max_features=1, min_samples_split=2, max_depth=5, random_state=RANDOM_SEED)\n",
    "rf.train(X_train, y_train)\n",
    "y_pred = rf.predict(X_test)\n",
    "end_time_implementation = time.time()"
   ]
  },
  {
   "cell_type": "code",
   "execution_count": 13,
   "metadata": {},
   "outputs": [],
   "source": [
    "start_time_sk = time.time()\n",
    "sklearn_rf = ensemble.RandomForestRegressor(n_estimators=100, max_features=1, min_samples_split=2, max_depth=5, random_state=RANDOM_SEED)\n",
    "sklearn_rf.fit(X_train, y_train)\n",
    "sk_y_pred = sklearn_rf.predict(X_test)\n",
    "end_time_sk = time.time()"
   ]
  },
  {
   "cell_type": "code",
   "execution_count": 14,
   "metadata": {},
   "outputs": [
    {
     "name": "stdout",
     "output_type": "stream",
     "text": [
      "RMSE of implementation:  11.462246015384688\n",
      "MAE of implementation:  9.88177145155415\n",
      "RMSE of sklearn:  2.4839273545421685\n",
      "MAE of sklearn:  1.8819321369386526\n",
      "Runtime of implementation 61.3521032333374\n",
      "Runtime of sklearn 0.06237459182739258\n"
     ]
    }
   ],
   "source": [
    "implementation_rmse = root_mean_squared_error(y_test, y_pred)\n",
    "implementation_mae = mean_absolute_error(y_test, y_pred)\n",
    "sklearn_rmse = root_mean_squared_error(y_test, sk_y_pred)\n",
    "sklearn_mae = mean_absolute_error(y_test, sk_y_pred)\n",
    "\n",
    "print(\"RMSE of implementation: \", implementation_rmse)\n",
    "print(\"MAE of implementation: \", implementation_mae)\n",
    "print(\"RMSE of sklearn: \", sklearn_rmse)\n",
    "print(\"MAE of sklearn: \", sklearn_mae)\n",
    "implementation_runtime = end_time_implementation - start_time_implementation\n",
    "sklearn_runtime = end_time_sk - start_time_sk\n",
    "print(\"Runtime of implementation\", implementation_runtime)\n",
    "print(\"Runtime of sklearn\", sklearn_runtime)"
   ]
  },
  {
   "cell_type": "markdown",
   "metadata": {},
   "source": [
    "#### Max depth 2"
   ]
  },
  {
   "cell_type": "code",
   "execution_count": 15,
   "metadata": {},
   "outputs": [],
   "source": [
    "# max depth  2\n",
    "start_time_implementation = time.time()\n",
    "rf = RandomForestRegressor(n_trees=5, max_features=1, min_samples_split=2, max_depth=2, random_state=RANDOM_SEED)\n",
    "rf.train(X_train, y_train)\n",
    "y_pred = rf.predict(X_test)\n",
    "end_time_implementation = time.time()"
   ]
  },
  {
   "cell_type": "code",
   "execution_count": 16,
   "metadata": {},
   "outputs": [],
   "source": [
    "start_time_sk = time.time()\n",
    "sklearn_rf = ensemble.RandomForestRegressor(n_estimators=5, max_features=1, min_samples_split=2, max_depth=2, random_state=RANDOM_SEED)\n",
    "sklearn_rf.fit(X_train, y_train)\n",
    "sk_y_pred = sklearn_rf.predict(X_test)\n",
    "end_time_sk = time.time()"
   ]
  },
  {
   "cell_type": "code",
   "execution_count": 17,
   "metadata": {},
   "outputs": [
    {
     "name": "stdout",
     "output_type": "stream",
     "text": [
      "RMSE of implementation:  11.387936017672676\n",
      "MAE of implementation:  9.81394134528318\n",
      "RMSE of sklearn:  3.835457941916181\n",
      "MAE of sklearn:  3.112220184509068\n",
      "Runtime of implementation 1.406388759613037\n",
      "Runtime of sklearn 0.007781505584716797\n"
     ]
    }
   ],
   "source": [
    "implementation_rmse = root_mean_squared_error(y_test, y_pred)\n",
    "implementation_mae = mean_absolute_error(y_test, y_pred)\n",
    "sklearn_rmse = root_mean_squared_error(y_test, sk_y_pred)\n",
    "sklearn_mae = mean_absolute_error(y_test, sk_y_pred)\n",
    "print(\"RMSE of implementation: \", implementation_rmse)\n",
    "print(\"MAE of implementation: \", implementation_mae)\n",
    "print(\"RMSE of sklearn: \", sklearn_rmse)\n",
    "print(\"MAE of sklearn: \", sklearn_mae)\n",
    "implementation_runtime = end_time_implementation - start_time_implementation\n",
    "sklearn_runtime = end_time_sk - start_time_sk\n",
    "print(\"Runtime of implementation\", implementation_runtime)\n",
    "print(\"Runtime of sklearn\", sklearn_runtime)"
   ]
  },
  {
   "cell_type": "markdown",
   "metadata": {},
   "source": [
    "#### Max depth None"
   ]
  },
  {
   "cell_type": "code",
   "execution_count": 6,
   "metadata": {},
   "outputs": [
    {
     "ename": "MemoryError",
     "evalue": "",
     "output_type": "error",
     "traceback": [
      "\u001b[1;31m---------------------------------------------------------------------------\u001b[0m",
      "\u001b[1;31mMemoryError\u001b[0m                               Traceback (most recent call last)",
      "Cell \u001b[1;32mIn[6], line 4\u001b[0m\n\u001b[0;32m      2\u001b[0m start_time_implementation \u001b[38;5;241m=\u001b[39m time\u001b[38;5;241m.\u001b[39mtime()\n\u001b[0;32m      3\u001b[0m rf \u001b[38;5;241m=\u001b[39m RandomForestRegressor(n_trees\u001b[38;5;241m=\u001b[39m\u001b[38;5;241m2\u001b[39m, max_features\u001b[38;5;241m=\u001b[39m\u001b[38;5;241m1\u001b[39m, min_samples_split\u001b[38;5;241m=\u001b[39m\u001b[38;5;241m2\u001b[39m, max_depth\u001b[38;5;241m=\u001b[39m\u001b[38;5;28;01mNone\u001b[39;00m, random_state\u001b[38;5;241m=\u001b[39mRANDOM_SEED)\n\u001b[1;32m----> 4\u001b[0m \u001b[43mrf\u001b[49m\u001b[38;5;241;43m.\u001b[39;49m\u001b[43mtrain\u001b[49m\u001b[43m(\u001b[49m\u001b[43mX_train\u001b[49m\u001b[43m,\u001b[49m\u001b[43m \u001b[49m\u001b[43my_train\u001b[49m\u001b[43m)\u001b[49m\n\u001b[0;32m      5\u001b[0m y_pred \u001b[38;5;241m=\u001b[39m rf\u001b[38;5;241m.\u001b[39mpredict(X_test)\n\u001b[0;32m      6\u001b[0m end_time_implementation \u001b[38;5;241m=\u001b[39m time\u001b[38;5;241m.\u001b[39mtime()\n",
      "File \u001b[1;32mc:\\Users\\marga\\Desktop\\Faculdade\\ML\\git\\MachineLearningCourse\\Exercise2\\random_forest_regressor.py:52\u001b[0m, in \u001b[0;36mRandomForestRegressor.train\u001b[1;34m(self, X_data, y_data)\u001b[0m\n\u001b[0;32m     45\u001b[0m \u001b[38;5;28;01mfor\u001b[39;00m i \u001b[38;5;129;01min\u001b[39;00m \u001b[38;5;28mrange\u001b[39m(\u001b[38;5;28mself\u001b[39m\u001b[38;5;241m.\u001b[39mn_trees):\n\u001b[0;32m     46\u001b[0m     tree \u001b[38;5;241m=\u001b[39m regressor_tree\u001b[38;5;241m.\u001b[39mNode(\n\u001b[0;32m     47\u001b[0m         max_features\u001b[38;5;241m=\u001b[39m\u001b[38;5;28mself\u001b[39m\u001b[38;5;241m.\u001b[39mmax_features,\n\u001b[0;32m     48\u001b[0m         min_samples_split\u001b[38;5;241m=\u001b[39m\u001b[38;5;28mself\u001b[39m\u001b[38;5;241m.\u001b[39mmin_samples_split,\n\u001b[0;32m     49\u001b[0m         max_depth\u001b[38;5;241m=\u001b[39m\u001b[38;5;28mself\u001b[39m\u001b[38;5;241m.\u001b[39mmax_depth,\n\u001b[0;32m     50\u001b[0m         random_state\u001b[38;5;241m=\u001b[39mrandom_list[i]\n\u001b[0;32m     51\u001b[0m     )\n\u001b[1;32m---> 52\u001b[0m     \u001b[43mtree\u001b[49m\u001b[38;5;241;43m.\u001b[39;49m\u001b[43mtrain\u001b[49m\u001b[43m(\u001b[49m\u001b[43mX_data\u001b[49m\u001b[43m,\u001b[49m\u001b[43m \u001b[49m\u001b[43my_data\u001b[49m\u001b[43m)\u001b[49m\n\u001b[0;32m     53\u001b[0m     \u001b[38;5;28mself\u001b[39m\u001b[38;5;241m.\u001b[39mfitted_trees\u001b[38;5;241m.\u001b[39mappend(tree)\n",
      "File \u001b[1;32mc:\\Users\\marga\\Desktop\\Faculdade\\ML\\git\\MachineLearningCourse\\Exercise2\\regressor_tree.py:108\u001b[0m, in \u001b[0;36mNode.train\u001b[1;34m(self, X_data, y_data)\u001b[0m\n\u001b[0;32m     97\u001b[0m \u001b[38;5;66;03m# This huge if-statement could not be improved due to the ability to set max_depth to None\u001b[39;00m\n\u001b[0;32m     98\u001b[0m \u001b[38;5;66;03m# First condition checks that data is greater or equals than the min samples split and the tree height is lower than the max depth\u001b[39;00m\n\u001b[0;32m     99\u001b[0m \u001b[38;5;66;03m# Second condition has the same first check on min samples split but checks for max_depth set to None so the tree grows until the min sample split is true\u001b[39;00m\n\u001b[0;32m    100\u001b[0m \u001b[38;5;28;01mif\u001b[39;00m (\n\u001b[0;32m    101\u001b[0m     (\u001b[38;5;28mlen\u001b[39m(\u001b[38;5;28mself\u001b[39m\u001b[38;5;241m.\u001b[39mX_data) \u001b[38;5;241m>\u001b[39m\u001b[38;5;241m=\u001b[39m \u001b[38;5;28mself\u001b[39m\u001b[38;5;241m.\u001b[39mmin_samples_split \u001b[38;5;129;01mand\u001b[39;00m (\u001b[38;5;28mself\u001b[39m\u001b[38;5;241m.\u001b[39mmax_depth \u001b[38;5;129;01mis\u001b[39;00m \u001b[38;5;28;01mNone\u001b[39;00m \u001b[38;5;129;01mor\u001b[39;00m \u001b[38;5;28mself\u001b[39m\u001b[38;5;241m.\u001b[39mheight \u001b[38;5;241m<\u001b[39m \u001b[38;5;28mself\u001b[39m\u001b[38;5;241m.\u001b[39mmax_depth))\n\u001b[0;32m    102\u001b[0m     \u001b[38;5;129;01mor\u001b[39;00m\n\u001b[1;32m   (...)\u001b[0m\n\u001b[0;32m    106\u001b[0m \n\u001b[0;32m    107\u001b[0m     \u001b[38;5;66;03m# store results in new leftnode and rightnode\u001b[39;00m\n\u001b[1;32m--> 108\u001b[0m     dict_averages_per_feature \u001b[38;5;241m=\u001b[39m \u001b[38;5;28;43mself\u001b[39;49m\u001b[38;5;241;43m.\u001b[39;49m\u001b[43mget_average_values_per_feature\u001b[49m\u001b[43m(\u001b[49m\u001b[43m)\u001b[49m\n\u001b[0;32m    109\u001b[0m     \u001b[38;5;66;03m# Insert split value for current node\u001b[39;00m\n\u001b[0;32m    110\u001b[0m     \u001b[38;5;28mself\u001b[39m\u001b[38;5;241m.\u001b[39msplit_feature, \u001b[38;5;28mself\u001b[39m\u001b[38;5;241m.\u001b[39msplit_value \u001b[38;5;241m=\u001b[39m \u001b[38;5;28mself\u001b[39m\u001b[38;5;241m.\u001b[39mget_optimal_split_value(dict_averages_per_feature)\n",
      "File \u001b[1;32mc:\\Users\\marga\\Desktop\\Faculdade\\ML\\git\\MachineLearningCourse\\Exercise2\\regressor_tree.py:156\u001b[0m, in \u001b[0;36mNode.get_average_values_per_feature\u001b[1;34m(self)\u001b[0m\n\u001b[0;32m    153\u001b[0m         random_list \u001b[38;5;241m=\u001b[39m [random\u001b[38;5;241m.\u001b[39mrandint(\u001b[38;5;241m0\u001b[39m, \u001b[38;5;241m2\u001b[39m\u001b[38;5;241m*\u001b[39m\u001b[38;5;241m*\u001b[39m\u001b[38;5;241m32\u001b[39m \u001b[38;5;241m-\u001b[39m \u001b[38;5;241m1\u001b[39m) \u001b[38;5;28;01mfor\u001b[39;00m _ \u001b[38;5;129;01min\u001b[39;00m \u001b[38;5;28mrange\u001b[39m(\u001b[38;5;241m2\u001b[39m\u001b[38;5;241m*\u001b[39m\u001b[38;5;241m*\u001b[39m(\u001b[38;5;28mself\u001b[39m\u001b[38;5;241m.\u001b[39mmax_depth \u001b[38;5;241m+\u001b[39m \u001b[38;5;241m1\u001b[39m) \u001b[38;5;241m-\u001b[39m \u001b[38;5;241m1\u001b[39m)]\n\u001b[0;32m    154\u001b[0m     \u001b[38;5;28;01melse\u001b[39;00m:\n\u001b[0;32m    155\u001b[0m         \u001b[38;5;66;03m# else statement to enable setting max_depth to None\u001b[39;00m\n\u001b[1;32m--> 156\u001b[0m         random_list \u001b[38;5;241m=\u001b[39m \u001b[43m[\u001b[49m\u001b[43mrandom\u001b[49m\u001b[38;5;241;43m.\u001b[39;49m\u001b[43mrandint\u001b[49m\u001b[43m(\u001b[49m\u001b[38;5;241;43m0\u001b[39;49m\u001b[43m,\u001b[49m\u001b[43m \u001b[49m\u001b[38;5;241;43m2\u001b[39;49m\u001b[38;5;241;43m*\u001b[39;49m\u001b[38;5;241;43m*\u001b[39;49m\u001b[38;5;241;43m32\u001b[39;49m\u001b[43m \u001b[49m\u001b[38;5;241;43m-\u001b[39;49m\u001b[43m \u001b[49m\u001b[38;5;241;43m1\u001b[39;49m\u001b[43m)\u001b[49m\u001b[43m \u001b[49m\u001b[38;5;28;43;01mfor\u001b[39;49;00m\u001b[43m \u001b[49m\u001b[43m_\u001b[49m\u001b[43m \u001b[49m\u001b[38;5;129;43;01min\u001b[39;49;00m\u001b[43m \u001b[49m\u001b[38;5;28;43mrange\u001b[39;49m\u001b[43m(\u001b[49m\u001b[38;5;241;43m2\u001b[39;49m\u001b[38;5;241;43m*\u001b[39;49m\u001b[38;5;241;43m*\u001b[39;49m\u001b[43m(\u001b[49m\u001b[38;5;241;43m100\u001b[39;49m\u001b[43m \u001b[49m\u001b[38;5;241;43m+\u001b[39;49m\u001b[43m \u001b[49m\u001b[38;5;241;43m1\u001b[39;49m\u001b[43m)\u001b[49m\u001b[43m \u001b[49m\u001b[38;5;241;43m-\u001b[39;49m\u001b[43m \u001b[49m\u001b[38;5;241;43m1\u001b[39;49m\u001b[43m)\u001b[49m\u001b[43m]\u001b[49m \n\u001b[0;32m    157\u001b[0m     random\u001b[38;5;241m.\u001b[39mseed(random_list[\u001b[38;5;28mself\u001b[39m\u001b[38;5;241m.\u001b[39mnode_index])\n\u001b[0;32m    159\u001b[0m list_column_names \u001b[38;5;241m=\u001b[39m \u001b[38;5;28mlist\u001b[39m(\u001b[38;5;28mself\u001b[39m\u001b[38;5;241m.\u001b[39mX_data\u001b[38;5;241m.\u001b[39mcolumns\u001b[38;5;241m.\u001b[39mvalues)\n",
      "File \u001b[1;32mc:\\Users\\marga\\Desktop\\Faculdade\\ML\\git\\MachineLearningCourse\\Exercise2\\regressor_tree.py:156\u001b[0m, in \u001b[0;36m<listcomp>\u001b[1;34m(.0)\u001b[0m\n\u001b[0;32m    153\u001b[0m         random_list \u001b[38;5;241m=\u001b[39m [random\u001b[38;5;241m.\u001b[39mrandint(\u001b[38;5;241m0\u001b[39m, \u001b[38;5;241m2\u001b[39m\u001b[38;5;241m*\u001b[39m\u001b[38;5;241m*\u001b[39m\u001b[38;5;241m32\u001b[39m \u001b[38;5;241m-\u001b[39m \u001b[38;5;241m1\u001b[39m) \u001b[38;5;28;01mfor\u001b[39;00m _ \u001b[38;5;129;01min\u001b[39;00m \u001b[38;5;28mrange\u001b[39m(\u001b[38;5;241m2\u001b[39m\u001b[38;5;241m*\u001b[39m\u001b[38;5;241m*\u001b[39m(\u001b[38;5;28mself\u001b[39m\u001b[38;5;241m.\u001b[39mmax_depth \u001b[38;5;241m+\u001b[39m \u001b[38;5;241m1\u001b[39m) \u001b[38;5;241m-\u001b[39m \u001b[38;5;241m1\u001b[39m)]\n\u001b[0;32m    154\u001b[0m     \u001b[38;5;28;01melse\u001b[39;00m:\n\u001b[0;32m    155\u001b[0m         \u001b[38;5;66;03m# else statement to enable setting max_depth to None\u001b[39;00m\n\u001b[1;32m--> 156\u001b[0m         random_list \u001b[38;5;241m=\u001b[39m [random\u001b[38;5;241m.\u001b[39mrandint(\u001b[38;5;241m0\u001b[39m, \u001b[38;5;241m2\u001b[39m\u001b[38;5;241m*\u001b[39m\u001b[38;5;241m*\u001b[39m\u001b[38;5;241m32\u001b[39m \u001b[38;5;241m-\u001b[39m \u001b[38;5;241m1\u001b[39m) \u001b[38;5;28;01mfor\u001b[39;00m _ \u001b[38;5;129;01min\u001b[39;00m \u001b[38;5;28mrange\u001b[39m(\u001b[38;5;241m2\u001b[39m\u001b[38;5;241m*\u001b[39m\u001b[38;5;241m*\u001b[39m(\u001b[38;5;241m100\u001b[39m \u001b[38;5;241m+\u001b[39m \u001b[38;5;241m1\u001b[39m) \u001b[38;5;241m-\u001b[39m \u001b[38;5;241m1\u001b[39m)] \n\u001b[0;32m    157\u001b[0m     random\u001b[38;5;241m.\u001b[39mseed(random_list[\u001b[38;5;28mself\u001b[39m\u001b[38;5;241m.\u001b[39mnode_index])\n\u001b[0;32m    159\u001b[0m list_column_names \u001b[38;5;241m=\u001b[39m \u001b[38;5;28mlist\u001b[39m(\u001b[38;5;28mself\u001b[39m\u001b[38;5;241m.\u001b[39mX_data\u001b[38;5;241m.\u001b[39mcolumns\u001b[38;5;241m.\u001b[39mvalues)\n",
      "\u001b[1;31mMemoryError\u001b[0m: "
     ]
    }
   ],
   "source": [
    "# max depth  none\n",
    "start_time_implementation = time.time()\n",
    "rf = RandomForestRegressor(n_trees=2, max_features=1, min_samples_split=2, max_depth=None, random_state=RANDOM_SEED)\n",
    "rf.train(X_train, y_train)\n",
    "y_pred = rf.predict(X_test)\n",
    "end_time_implementation = time.time()"
   ]
  },
  {
   "cell_type": "code",
   "execution_count": 19,
   "metadata": {},
   "outputs": [],
   "source": [
    "start_time_sk = time.time()\n",
    "sklearn_rf = ensemble.RandomForestRegressor(n_estimators=2, max_features=1, min_samples_split=2, max_depth=None, random_state=RANDOM_SEED)\n",
    "sklearn_rf.fit(X_train, y_train)\n",
    "sk_y_pred = sklearn_rf.predict(X_test)\n",
    "end_time_sk = time.time()"
   ]
  },
  {
   "cell_type": "code",
   "execution_count": 20,
   "metadata": {},
   "outputs": [
    {
     "name": "stdout",
     "output_type": "stream",
     "text": [
      "RMSE of implementation:  11.387936017672676\n",
      "MAE of implementation:  9.81394134528318\n",
      "RMSE of sklearn:  3.4988748191382895\n",
      "MAE of sklearn:  2.6125\n",
      "Runtime of implementation -0.029045820236206055\n",
      "Runtime of sklearn 0.004117727279663086\n"
     ]
    }
   ],
   "source": [
    "implementation_rmse = root_mean_squared_error(y_test, y_pred)\n",
    "implementation_mae = mean_absolute_error(y_test, y_pred)\n",
    "sklearn_rmse = root_mean_squared_error(y_test, sk_y_pred)\n",
    "sklearn_mae = mean_absolute_error(y_test, sk_y_pred)\n",
    "print(\"RMSE of implementation: \", implementation_rmse)\n",
    "print(\"MAE of implementation: \", implementation_mae)\n",
    "print(\"RMSE of sklearn: \", sklearn_rmse)\n",
    "print(\"MAE of sklearn: \", sklearn_mae)\n",
    "implementation_runtime = end_time_implementation - start_time_implementation\n",
    "sklearn_runtime = end_time_sk - start_time_sk\n",
    "print(\"Runtime of implementation\", implementation_runtime)\n",
    "print(\"Runtime of sklearn\", sklearn_runtime)"
   ]
  },
  {
   "cell_type": "markdown",
   "metadata": {},
   "source": [
    "#### Max Features 2"
   ]
  },
  {
   "cell_type": "code",
   "execution_count": 21,
   "metadata": {},
   "outputs": [],
   "source": [
    "# max features 2\n",
    "start_time_implementation = time.time()\n",
    "rf = RandomForestRegressor(n_trees=5, max_features=2, min_samples_split=2, max_depth=5, random_state=RANDOM_SEED)\n",
    "rf.train(X_train, y_train)\n",
    "y_pred = rf.predict(X_test)\n",
    "end_time_implementation = time.time()"
   ]
  },
  {
   "cell_type": "code",
   "execution_count": 22,
   "metadata": {},
   "outputs": [],
   "source": [
    "start_time_sk = time.time()\n",
    "sklearn_rf = ensemble.RandomForestRegressor(n_estimators=5, max_features=2, min_samples_split=2, max_depth=5, random_state=RANDOM_SEED)\n",
    "sklearn_rf.fit(X_train, y_train)\n",
    "sk_y_pred = sklearn_rf.predict(X_test)\n",
    "end_time_sk = time.time()"
   ]
  },
  {
   "cell_type": "code",
   "execution_count": 23,
   "metadata": {},
   "outputs": [
    {
     "name": "stdout",
     "output_type": "stream",
     "text": [
      "RMSE of implementation:  11.368850396237862\n",
      "MAE of implementation:  9.796469710344972\n",
      "RMSE of sklearn:  2.5232343448242727\n",
      "MAE of sklearn:  1.8676934683370494\n",
      "Runtime of implementation 6.646385908126831\n",
      "Runtime of sklearn 0.011179447174072266\n"
     ]
    }
   ],
   "source": [
    "implementation_rmse = root_mean_squared_error(y_test, y_pred)\n",
    "implementation_mae = mean_absolute_error(y_test, y_pred)\n",
    "sklearn_rmse = root_mean_squared_error(y_test, sk_y_pred)\n",
    "sklearn_mae = mean_absolute_error(y_test, sk_y_pred)\n",
    "print(\"RMSE of implementation: \", implementation_rmse)\n",
    "print(\"MAE of implementation: \", implementation_mae)\n",
    "print(\"RMSE of sklearn: \", sklearn_rmse)\n",
    "print(\"MAE of sklearn: \", sklearn_mae)\n",
    "implementation_runtime = end_time_implementation - start_time_implementation\n",
    "sklearn_runtime = end_time_sk - start_time_sk\n",
    "print(\"Runtime of implementation\", implementation_runtime)\n",
    "print(\"Runtime of sklearn\", sklearn_runtime)"
   ]
  },
  {
   "cell_type": "markdown",
   "metadata": {},
   "source": [
    "#### Max Features 5"
   ]
  },
  {
   "cell_type": "code",
   "execution_count": 24,
   "metadata": {},
   "outputs": [],
   "source": [
    "# max features 5\n",
    "start_time_implementation = time.time()\n",
    "rf = RandomForestRegressor(n_trees=5, max_features=5, min_samples_split=2, max_depth=5, random_state=RANDOM_SEED)\n",
    "rf.train(X_train, y_train)\n",
    "y_pred = rf.predict(X_test)\n",
    "end_time_implementation = time.time()"
   ]
  },
  {
   "cell_type": "code",
   "execution_count": 25,
   "metadata": {},
   "outputs": [],
   "source": [
    "start_time_sk = time.time()\n",
    "sklearn_rf = ensemble.RandomForestRegressor(n_estimators=5, max_features=5, min_samples_split=2, max_depth=5, random_state=RANDOM_SEED)\n",
    "sklearn_rf.fit(X_train, y_train)\n",
    "sk_y_pred = sklearn_rf.predict(X_test)\n",
    "end_time_sk = time.time()"
   ]
  },
  {
   "cell_type": "code",
   "execution_count": 26,
   "metadata": {},
   "outputs": [
    {
     "name": "stdout",
     "output_type": "stream",
     "text": [
      "RMSE of implementation:  11.326123172928744\n",
      "MAE of implementation:  9.757279682624091\n",
      "RMSE of sklearn:  2.867168598249842\n",
      "MAE of sklearn:  1.9788830660061265\n",
      "Runtime of implementation 16.153379201889038\n",
      "Runtime of sklearn 0.006373405456542969\n"
     ]
    }
   ],
   "source": [
    "implementation_rmse = root_mean_squared_error(y_test, y_pred)\n",
    "implementation_mae = mean_absolute_error(y_test, y_pred)\n",
    "sklearn_rmse = root_mean_squared_error(y_test, sk_y_pred)\n",
    "sklearn_mae = mean_absolute_error(y_test, sk_y_pred)\n",
    "print(\"RMSE of implementation: \", implementation_rmse)\n",
    "print(\"MAE of implementation: \", implementation_mae)\n",
    "print(\"RMSE of sklearn: \", sklearn_rmse)\n",
    "print(\"MAE of sklearn: \", sklearn_mae)\n",
    "implementation_runtime = end_time_implementation - start_time_implementation\n",
    "sklearn_runtime = end_time_sk - start_time_sk\n",
    "print(\"Runtime of implementation\", implementation_runtime)\n",
    "print(\"Runtime of sklearn\", sklearn_runtime)"
   ]
  },
  {
   "cell_type": "markdown",
   "metadata": {},
   "source": [
    "#### Min Samples Split 5"
   ]
  },
  {
   "cell_type": "code",
   "execution_count": 27,
   "metadata": {},
   "outputs": [],
   "source": [
    "# min_samples_split 5\n",
    "start_time_implementation = time.time()\n",
    "rf = RandomForestRegressor(n_trees=5, max_features=1, min_samples_split=5, max_depth=5, random_state=RANDOM_SEED)\n",
    "rf.train(X_train, y_train)\n",
    "y_pred = rf.predict(X_test)\n",
    "end_time_implementation = time.time()"
   ]
  },
  {
   "cell_type": "code",
   "execution_count": 28,
   "metadata": {},
   "outputs": [],
   "source": [
    "start_time_sk = time.time()\n",
    "sklearn_rf = ensemble.RandomForestRegressor(n_estimators=5, max_features=1, min_samples_split=5, max_depth=5, random_state=RANDOM_SEED)\n",
    "sklearn_rf.fit(X_train, y_train)\n",
    "sk_y_pred = sklearn_rf.predict(X_test)\n",
    "end_time_sk = time.time()"
   ]
  },
  {
   "cell_type": "code",
   "execution_count": 29,
   "metadata": {},
   "outputs": [
    {
     "name": "stdout",
     "output_type": "stream",
     "text": [
      "RMSE of implementation:  11.328046705037622\n",
      "MAE of implementation:  9.759046254878786\n",
      "RMSE of sklearn:  2.892538025647866\n",
      "MAE of sklearn:  2.279381039355979\n",
      "Runtime of implementation 3.423983097076416\n",
      "Runtime of sklearn 0.007489442825317383\n"
     ]
    }
   ],
   "source": [
    "implementation_rmse = root_mean_squared_error(y_test, y_pred)\n",
    "implementation_mae = mean_absolute_error(y_test, y_pred)\n",
    "sklearn_rmse = root_mean_squared_error(y_test, sk_y_pred)\n",
    "sklearn_mae = mean_absolute_error(y_test, sk_y_pred)\n",
    "print(\"RMSE of implementation: \", implementation_rmse)\n",
    "print(\"MAE of implementation: \", implementation_mae)\n",
    "print(\"RMSE of sklearn: \", sklearn_rmse)\n",
    "print(\"MAE of sklearn: \", sklearn_mae)\n",
    "implementation_runtime = end_time_implementation - start_time_implementation\n",
    "sklearn_runtime = end_time_sk - start_time_sk\n",
    "print(\"Runtime of implementation\", implementation_runtime)\n",
    "print(\"Runtime of sklearn\", sklearn_runtime)"
   ]
  },
  {
   "cell_type": "markdown",
   "metadata": {},
   "source": [
    "#### Min Samples Split 10"
   ]
  },
  {
   "cell_type": "code",
   "execution_count": 30,
   "metadata": {},
   "outputs": [],
   "source": [
    "#min_samples_split 10\n",
    "start_time_implementation = time.time()\n",
    "rf = RandomForestRegressor(n_trees=5, max_features=1, min_samples_split=10, max_depth=5, random_state=RANDOM_SEED)\n",
    "rf.train(X_train, y_train)\n",
    "y_pred = rf.predict(X_test)\n",
    "end_time_implementation = time.time()"
   ]
  },
  {
   "cell_type": "code",
   "execution_count": 31,
   "metadata": {},
   "outputs": [],
   "source": [
    "start_time_sk = time.time()\n",
    "sklearn_rf = ensemble.RandomForestRegressor(n_estimators=5, max_features=1, min_samples_split=10, max_depth=5, random_state=RANDOM_SEED)\n",
    "sklearn_rf.fit(X_train, y_train)\n",
    "sk_y_pred = sklearn_rf.predict(X_test)\n",
    "end_time_sk = time.time()"
   ]
  },
  {
   "cell_type": "code",
   "execution_count": 32,
   "metadata": {},
   "outputs": [
    {
     "name": "stdout",
     "output_type": "stream",
     "text": [
      "RMSE of implementation:  11.329850230333912\n",
      "MAE of implementation:  9.760702416367561\n",
      "RMSE of sklearn:  2.599358192716391\n",
      "MAE of sklearn:  2.0463838934383127\n",
      "Runtime of implementation 3.5017473697662354\n",
      "Runtime of sklearn 0.007673740386962891\n"
     ]
    }
   ],
   "source": [
    "implementation_rmse = root_mean_squared_error(y_test, y_pred)\n",
    "implementation_mae = mean_absolute_error(y_test, y_pred)\n",
    "sklearn_rmse = root_mean_squared_error(y_test, sk_y_pred)\n",
    "sklearn_mae = mean_absolute_error(y_test, sk_y_pred)\n",
    "print(\"RMSE of implementation: \", implementation_rmse)\n",
    "print(\"MAE of implementation: \", implementation_mae)\n",
    "print(\"RMSE of sklearn: \", sklearn_rmse)\n",
    "print(\"MAE of sklearn: \", sklearn_mae)\n",
    "implementation_runtime = end_time_implementation - start_time_implementation\n",
    "sklearn_runtime = end_time_sk - start_time_sk\n",
    "print(\"Runtime of implementation\", implementation_runtime)\n",
    "print(\"Runtime of sklearn\", sklearn_runtime)"
   ]
  },
  {
   "cell_type": "markdown",
   "metadata": {},
   "source": [
    "Default hyperparameter values"
   ]
  },
  {
   "cell_type": "code",
   "execution_count": 33,
   "metadata": {},
   "outputs": [],
   "source": [
    "start_time_sk = time.time()\n",
    "sklearn_rf = ensemble.RandomForestRegressor(random_state=RANDOM_SEED)\n",
    "sklearn_rf.fit(X_train, y_train)\n",
    "sk_y_pred = sklearn_rf.predict(X_test)\n",
    "end_time_sk = time.time()"
   ]
  },
  {
   "cell_type": "code",
   "execution_count": 34,
   "metadata": {},
   "outputs": [
    {
     "name": "stdout",
     "output_type": "stream",
     "text": [
      "RMSE of sklearn:  2.1429114161579332\n",
      "MAE of sklearn:  1.5780125\n",
      "Runtime of sklearn 0.1288132667541504\n"
     ]
    }
   ],
   "source": [
    "sklearn_rmse = root_mean_squared_error(y_test, sk_y_pred)\n",
    "print(\"RMSE of sklearn: \", sklearn_rmse)\n",
    "sklearn_mae = mean_absolute_error(y_test, sk_y_pred)\n",
    "print(\"MAE of sklearn: \", sklearn_mae)\n",
    "sklearn_runtime = end_time_sk - start_time_sk\n",
    "print(\"Runtime of sklearn\", sklearn_runtime)"
   ]
  },
  {
   "cell_type": "markdown",
   "metadata": {},
   "source": [
    "#### Experiment LLM Random Forest"
   ]
  },
  {
   "cell_type": "code",
   "execution_count": null,
   "metadata": {},
   "outputs": [],
   "source": [
    "from llm_implementation import RandomForestRegressor as LLM_RandomForestRegressor\n",
    "from sklearn.datasets import make_regression\n",
    "from sklearn.model_selection import train_test_split\n",
    "from sklearn.metrics import mean_squared_error\n",
    "\n",
    "# Train Random Forest\n",
    "rf = LLM_RandomForestRegressor(n_estimators=10, max_depth=5)\n",
    "rf.fit(X_train, y_train)\n",
    "y_pred = rf.predict(X_test)\n",
    "\n",
    "# Evaluate\n",
    "print(\"MSE:\", mean_squared_error(y_test, y_pred))"
   ]
  },
  {
   "cell_type": "markdown",
   "metadata": {},
   "source": [
    "#### KNN"
   ]
  },
  {
   "cell_type": "code",
   "execution_count": 38,
   "metadata": {},
   "outputs": [],
   "source": [
    "scaler_ss = StandardScaler()\n",
    "X_train = scaler_ss.fit_transform(X_train)\n",
    "X_test=scaler_ss.transform(X_test)\n",
    "\n",
    "start_time_knn = time.time()\n",
    "knn = KNeighborsRegressor()\n",
    "knn.fit(X_train, y_train)\n",
    "knn_y_pred = knn.predict(X_test)\n",
    "end_time_knn = time.time()"
   ]
  },
  {
   "cell_type": "code",
   "execution_count": 39,
   "metadata": {},
   "outputs": [
    {
     "name": "stdout",
     "output_type": "stream",
     "text": [
      "RMSE of knn:  2.3239094216427625\n",
      "MAE of knn:  1.88675\n",
      "Runtime of knn 0.011890649795532227\n"
     ]
    }
   ],
   "source": [
    "knn_rmse = root_mean_squared_error(y_test, knn_y_pred)\n",
    "print(\"RMSE of knn: \", knn_rmse)\n",
    "knn_mae = mean_absolute_error(y_test, knn_y_pred)\n",
    "print(\"MAE of knn: \", knn_mae)\n",
    "knn_runtime = end_time_knn - start_time_knn\n",
    "print(\"Runtime of knn\", knn_runtime)"
   ]
  },
  {
   "cell_type": "code",
   "execution_count": 7,
   "metadata": {},
   "outputs": [
    {
     "ename": "KeyError",
     "evalue": "\"None of [Index([165, 128,   6,  74, 240, 309, 224, 123,   4,   5,\\n       ...\\n       230,  13, 122, 102,   2, 306,  56,  80, 249,   8],\\n      dtype='int32', length=318)] are in the [columns]\"",
     "output_type": "error",
     "traceback": [
      "\u001b[1;31m---------------------------------------------------------------------------\u001b[0m",
      "\u001b[1;31mKeyError\u001b[0m                                  Traceback (most recent call last)",
      "Cell \u001b[1;32mIn[7], line 4\u001b[0m\n\u001b[0;32m      1\u001b[0m \u001b[38;5;28;01mfrom\u001b[39;00m \u001b[38;5;21;01mllm_implementation\u001b[39;00m \u001b[38;5;28;01mimport\u001b[39;00m RandomForestRegressor \u001b[38;5;28;01mas\u001b[39;00m llm_regressor\n\u001b[0;32m      3\u001b[0m rf \u001b[38;5;241m=\u001b[39m llm_regressor(n_estimators\u001b[38;5;241m=\u001b[39m\u001b[38;5;241m10\u001b[39m, max_depth\u001b[38;5;241m=\u001b[39m\u001b[38;5;241m5\u001b[39m)\n\u001b[1;32m----> 4\u001b[0m \u001b[43mrf\u001b[49m\u001b[38;5;241;43m.\u001b[39;49m\u001b[43mfit\u001b[49m\u001b[43m(\u001b[49m\u001b[43mX_train\u001b[49m\u001b[43m,\u001b[49m\u001b[43m \u001b[49m\u001b[43my_train\u001b[49m\u001b[43m)\u001b[49m\n\u001b[0;32m      5\u001b[0m y_pred \u001b[38;5;241m=\u001b[39m rf\u001b[38;5;241m.\u001b[39mpredict(X_test)\n",
      "File \u001b[1;32mc:\\Users\\marga\\Desktop\\Faculdade\\ML\\git\\MachineLearningCourse\\Exercise2\\llm_implementation.py:108\u001b[0m, in \u001b[0;36mRandomForestRegressor.fit\u001b[1;34m(self, X, y)\u001b[0m\n\u001b[0;32m    106\u001b[0m \u001b[38;5;28;01mfor\u001b[39;00m _ \u001b[38;5;129;01min\u001b[39;00m \u001b[38;5;28mrange\u001b[39m(\u001b[38;5;28mself\u001b[39m\u001b[38;5;241m.\u001b[39mn_estimators):\n\u001b[0;32m    107\u001b[0m     tree \u001b[38;5;241m=\u001b[39m DecisionTreeRegressor(max_depth\u001b[38;5;241m=\u001b[39m\u001b[38;5;28mself\u001b[39m\u001b[38;5;241m.\u001b[39mmax_depth, min_samples_split\u001b[38;5;241m=\u001b[39m\u001b[38;5;28mself\u001b[39m\u001b[38;5;241m.\u001b[39mmin_samples_split)\n\u001b[1;32m--> 108\u001b[0m     X_sample, y_sample \u001b[38;5;241m=\u001b[39m \u001b[38;5;28;43mself\u001b[39;49m\u001b[38;5;241;43m.\u001b[39;49m\u001b[43m_bootstrap_sample\u001b[49m\u001b[43m(\u001b[49m\u001b[43mX\u001b[49m\u001b[43m,\u001b[49m\u001b[43m \u001b[49m\u001b[43my\u001b[49m\u001b[43m)\u001b[49m\n\u001b[0;32m    109\u001b[0m     tree\u001b[38;5;241m.\u001b[39mfit(X_sample, y_sample)\n\u001b[0;32m    110\u001b[0m     \u001b[38;5;28mself\u001b[39m\u001b[38;5;241m.\u001b[39mtrees\u001b[38;5;241m.\u001b[39mappend(tree)\n",
      "File \u001b[1;32mc:\\Users\\marga\\Desktop\\Faculdade\\ML\\git\\MachineLearningCourse\\Exercise2\\llm_implementation.py:121\u001b[0m, in \u001b[0;36mRandomForestRegressor._bootstrap_sample\u001b[1;34m(self, X, y)\u001b[0m\n\u001b[0;32m    119\u001b[0m n_samples \u001b[38;5;241m=\u001b[39m X\u001b[38;5;241m.\u001b[39mshape[\u001b[38;5;241m0\u001b[39m]\n\u001b[0;32m    120\u001b[0m indices \u001b[38;5;241m=\u001b[39m np\u001b[38;5;241m.\u001b[39mrandom\u001b[38;5;241m.\u001b[39mchoice(n_samples, n_samples, replace\u001b[38;5;241m=\u001b[39m\u001b[38;5;28;01mTrue\u001b[39;00m)\n\u001b[1;32m--> 121\u001b[0m \u001b[38;5;28;01mreturn\u001b[39;00m \u001b[43mX\u001b[49m\u001b[43m[\u001b[49m\u001b[43mindices\u001b[49m\u001b[43m]\u001b[49m, y[indices]\n",
      "File \u001b[1;32mc:\\Users\\marga\\Desktop\\Faculdade\\ML\\git\\.venv\\Lib\\site-packages\\pandas\\core\\frame.py:4108\u001b[0m, in \u001b[0;36mDataFrame.__getitem__\u001b[1;34m(self, key)\u001b[0m\n\u001b[0;32m   4106\u001b[0m     \u001b[38;5;28;01mif\u001b[39;00m is_iterator(key):\n\u001b[0;32m   4107\u001b[0m         key \u001b[38;5;241m=\u001b[39m \u001b[38;5;28mlist\u001b[39m(key)\n\u001b[1;32m-> 4108\u001b[0m     indexer \u001b[38;5;241m=\u001b[39m \u001b[38;5;28;43mself\u001b[39;49m\u001b[38;5;241;43m.\u001b[39;49m\u001b[43mcolumns\u001b[49m\u001b[38;5;241;43m.\u001b[39;49m\u001b[43m_get_indexer_strict\u001b[49m\u001b[43m(\u001b[49m\u001b[43mkey\u001b[49m\u001b[43m,\u001b[49m\u001b[43m \u001b[49m\u001b[38;5;124;43m\"\u001b[39;49m\u001b[38;5;124;43mcolumns\u001b[39;49m\u001b[38;5;124;43m\"\u001b[39;49m\u001b[43m)\u001b[49m[\u001b[38;5;241m1\u001b[39m]\n\u001b[0;32m   4110\u001b[0m \u001b[38;5;66;03m# take() does not accept boolean indexers\u001b[39;00m\n\u001b[0;32m   4111\u001b[0m \u001b[38;5;28;01mif\u001b[39;00m \u001b[38;5;28mgetattr\u001b[39m(indexer, \u001b[38;5;124m\"\u001b[39m\u001b[38;5;124mdtype\u001b[39m\u001b[38;5;124m\"\u001b[39m, \u001b[38;5;28;01mNone\u001b[39;00m) \u001b[38;5;241m==\u001b[39m \u001b[38;5;28mbool\u001b[39m:\n",
      "File \u001b[1;32mc:\\Users\\marga\\Desktop\\Faculdade\\ML\\git\\.venv\\Lib\\site-packages\\pandas\\core\\indexes\\base.py:6200\u001b[0m, in \u001b[0;36mIndex._get_indexer_strict\u001b[1;34m(self, key, axis_name)\u001b[0m\n\u001b[0;32m   6197\u001b[0m \u001b[38;5;28;01melse\u001b[39;00m:\n\u001b[0;32m   6198\u001b[0m     keyarr, indexer, new_indexer \u001b[38;5;241m=\u001b[39m \u001b[38;5;28mself\u001b[39m\u001b[38;5;241m.\u001b[39m_reindex_non_unique(keyarr)\n\u001b[1;32m-> 6200\u001b[0m \u001b[38;5;28;43mself\u001b[39;49m\u001b[38;5;241;43m.\u001b[39;49m\u001b[43m_raise_if_missing\u001b[49m\u001b[43m(\u001b[49m\u001b[43mkeyarr\u001b[49m\u001b[43m,\u001b[49m\u001b[43m \u001b[49m\u001b[43mindexer\u001b[49m\u001b[43m,\u001b[49m\u001b[43m \u001b[49m\u001b[43maxis_name\u001b[49m\u001b[43m)\u001b[49m\n\u001b[0;32m   6202\u001b[0m keyarr \u001b[38;5;241m=\u001b[39m \u001b[38;5;28mself\u001b[39m\u001b[38;5;241m.\u001b[39mtake(indexer)\n\u001b[0;32m   6203\u001b[0m \u001b[38;5;28;01mif\u001b[39;00m \u001b[38;5;28misinstance\u001b[39m(key, Index):\n\u001b[0;32m   6204\u001b[0m     \u001b[38;5;66;03m# GH 42790 - Preserve name from an Index\u001b[39;00m\n",
      "File \u001b[1;32mc:\\Users\\marga\\Desktop\\Faculdade\\ML\\git\\.venv\\Lib\\site-packages\\pandas\\core\\indexes\\base.py:6249\u001b[0m, in \u001b[0;36mIndex._raise_if_missing\u001b[1;34m(self, key, indexer, axis_name)\u001b[0m\n\u001b[0;32m   6247\u001b[0m \u001b[38;5;28;01mif\u001b[39;00m nmissing:\n\u001b[0;32m   6248\u001b[0m     \u001b[38;5;28;01mif\u001b[39;00m nmissing \u001b[38;5;241m==\u001b[39m \u001b[38;5;28mlen\u001b[39m(indexer):\n\u001b[1;32m-> 6249\u001b[0m         \u001b[38;5;28;01mraise\u001b[39;00m \u001b[38;5;167;01mKeyError\u001b[39;00m(\u001b[38;5;124mf\u001b[39m\u001b[38;5;124m\"\u001b[39m\u001b[38;5;124mNone of [\u001b[39m\u001b[38;5;132;01m{\u001b[39;00mkey\u001b[38;5;132;01m}\u001b[39;00m\u001b[38;5;124m] are in the [\u001b[39m\u001b[38;5;132;01m{\u001b[39;00maxis_name\u001b[38;5;132;01m}\u001b[39;00m\u001b[38;5;124m]\u001b[39m\u001b[38;5;124m\"\u001b[39m)\n\u001b[0;32m   6251\u001b[0m     not_found \u001b[38;5;241m=\u001b[39m \u001b[38;5;28mlist\u001b[39m(ensure_index(key)[missing_mask\u001b[38;5;241m.\u001b[39mnonzero()[\u001b[38;5;241m0\u001b[39m]]\u001b[38;5;241m.\u001b[39munique())\n\u001b[0;32m   6252\u001b[0m     \u001b[38;5;28;01mraise\u001b[39;00m \u001b[38;5;167;01mKeyError\u001b[39;00m(\u001b[38;5;124mf\u001b[39m\u001b[38;5;124m\"\u001b[39m\u001b[38;5;132;01m{\u001b[39;00mnot_found\u001b[38;5;132;01m}\u001b[39;00m\u001b[38;5;124m not in index\u001b[39m\u001b[38;5;124m\"\u001b[39m)\n",
      "\u001b[1;31mKeyError\u001b[0m: \"None of [Index([165, 128,   6,  74, 240, 309, 224, 123,   4,   5,\\n       ...\\n       230,  13, 122, 102,   2, 306,  56,  80, 249,   8],\\n      dtype='int32', length=318)] are in the [columns]\""
     ]
    }
   ],
   "source": [
    "from llm_implementation import RandomForestRegressor as llm_regressor\n",
    "\n",
    "rf = llm_regressor(n_estimators=10, max_depth=5)\n",
    "rf.fit(X_train, y_train)\n",
    "y_pred = rf.predict(X_test)"
   ]
  },
  {
   "cell_type": "code",
   "execution_count": 10,
   "metadata": {},
   "outputs": [
    {
     "ename": "KeyError",
     "evalue": "\"None of [Index([132,  89,  71, 121,  90, 280, 256,  27, 209, 138,\\n       ...\\n        56,  41, 260, 272, 135, 235,  85,  18,  97,  25],\\n      dtype='int32', length=318)] are in the [columns]\"",
     "output_type": "error",
     "traceback": [
      "\u001b[1;31m---------------------------------------------------------------------------\u001b[0m",
      "\u001b[1;31mKeyError\u001b[0m                                  Traceback (most recent call last)",
      "Cell \u001b[1;32mIn[10], line 3\u001b[0m\n\u001b[0;32m      1\u001b[0m n_samples\u001b[38;5;241m=\u001b[39mX_train\u001b[38;5;241m.\u001b[39mshape[\u001b[38;5;241m0\u001b[39m]\n\u001b[0;32m      2\u001b[0m indices \u001b[38;5;241m=\u001b[39m np\u001b[38;5;241m.\u001b[39mrandom\u001b[38;5;241m.\u001b[39mchoice(n_samples, n_samples, replace\u001b[38;5;241m=\u001b[39m\u001b[38;5;28;01mTrue\u001b[39;00m)\n\u001b[1;32m----> 3\u001b[0m \u001b[43mX_train\u001b[49m\u001b[43m[\u001b[49m\u001b[43mindices\u001b[49m\u001b[43m]\u001b[49m, y_train[indices]\n",
      "File \u001b[1;32mc:\\Users\\marga\\Desktop\\Faculdade\\ML\\git\\.venv\\Lib\\site-packages\\pandas\\core\\frame.py:4108\u001b[0m, in \u001b[0;36mDataFrame.__getitem__\u001b[1;34m(self, key)\u001b[0m\n\u001b[0;32m   4106\u001b[0m     \u001b[38;5;28;01mif\u001b[39;00m is_iterator(key):\n\u001b[0;32m   4107\u001b[0m         key \u001b[38;5;241m=\u001b[39m \u001b[38;5;28mlist\u001b[39m(key)\n\u001b[1;32m-> 4108\u001b[0m     indexer \u001b[38;5;241m=\u001b[39m \u001b[38;5;28;43mself\u001b[39;49m\u001b[38;5;241;43m.\u001b[39;49m\u001b[43mcolumns\u001b[49m\u001b[38;5;241;43m.\u001b[39;49m\u001b[43m_get_indexer_strict\u001b[49m\u001b[43m(\u001b[49m\u001b[43mkey\u001b[49m\u001b[43m,\u001b[49m\u001b[43m \u001b[49m\u001b[38;5;124;43m\"\u001b[39;49m\u001b[38;5;124;43mcolumns\u001b[39;49m\u001b[38;5;124;43m\"\u001b[39;49m\u001b[43m)\u001b[49m[\u001b[38;5;241m1\u001b[39m]\n\u001b[0;32m   4110\u001b[0m \u001b[38;5;66;03m# take() does not accept boolean indexers\u001b[39;00m\n\u001b[0;32m   4111\u001b[0m \u001b[38;5;28;01mif\u001b[39;00m \u001b[38;5;28mgetattr\u001b[39m(indexer, \u001b[38;5;124m\"\u001b[39m\u001b[38;5;124mdtype\u001b[39m\u001b[38;5;124m\"\u001b[39m, \u001b[38;5;28;01mNone\u001b[39;00m) \u001b[38;5;241m==\u001b[39m \u001b[38;5;28mbool\u001b[39m:\n",
      "File \u001b[1;32mc:\\Users\\marga\\Desktop\\Faculdade\\ML\\git\\.venv\\Lib\\site-packages\\pandas\\core\\indexes\\base.py:6200\u001b[0m, in \u001b[0;36mIndex._get_indexer_strict\u001b[1;34m(self, key, axis_name)\u001b[0m\n\u001b[0;32m   6197\u001b[0m \u001b[38;5;28;01melse\u001b[39;00m:\n\u001b[0;32m   6198\u001b[0m     keyarr, indexer, new_indexer \u001b[38;5;241m=\u001b[39m \u001b[38;5;28mself\u001b[39m\u001b[38;5;241m.\u001b[39m_reindex_non_unique(keyarr)\n\u001b[1;32m-> 6200\u001b[0m \u001b[38;5;28;43mself\u001b[39;49m\u001b[38;5;241;43m.\u001b[39;49m\u001b[43m_raise_if_missing\u001b[49m\u001b[43m(\u001b[49m\u001b[43mkeyarr\u001b[49m\u001b[43m,\u001b[49m\u001b[43m \u001b[49m\u001b[43mindexer\u001b[49m\u001b[43m,\u001b[49m\u001b[43m \u001b[49m\u001b[43maxis_name\u001b[49m\u001b[43m)\u001b[49m\n\u001b[0;32m   6202\u001b[0m keyarr \u001b[38;5;241m=\u001b[39m \u001b[38;5;28mself\u001b[39m\u001b[38;5;241m.\u001b[39mtake(indexer)\n\u001b[0;32m   6203\u001b[0m \u001b[38;5;28;01mif\u001b[39;00m \u001b[38;5;28misinstance\u001b[39m(key, Index):\n\u001b[0;32m   6204\u001b[0m     \u001b[38;5;66;03m# GH 42790 - Preserve name from an Index\u001b[39;00m\n",
      "File \u001b[1;32mc:\\Users\\marga\\Desktop\\Faculdade\\ML\\git\\.venv\\Lib\\site-packages\\pandas\\core\\indexes\\base.py:6249\u001b[0m, in \u001b[0;36mIndex._raise_if_missing\u001b[1;34m(self, key, indexer, axis_name)\u001b[0m\n\u001b[0;32m   6247\u001b[0m \u001b[38;5;28;01mif\u001b[39;00m nmissing:\n\u001b[0;32m   6248\u001b[0m     \u001b[38;5;28;01mif\u001b[39;00m nmissing \u001b[38;5;241m==\u001b[39m \u001b[38;5;28mlen\u001b[39m(indexer):\n\u001b[1;32m-> 6249\u001b[0m         \u001b[38;5;28;01mraise\u001b[39;00m \u001b[38;5;167;01mKeyError\u001b[39;00m(\u001b[38;5;124mf\u001b[39m\u001b[38;5;124m\"\u001b[39m\u001b[38;5;124mNone of [\u001b[39m\u001b[38;5;132;01m{\u001b[39;00mkey\u001b[38;5;132;01m}\u001b[39;00m\u001b[38;5;124m] are in the [\u001b[39m\u001b[38;5;132;01m{\u001b[39;00maxis_name\u001b[38;5;132;01m}\u001b[39;00m\u001b[38;5;124m]\u001b[39m\u001b[38;5;124m\"\u001b[39m)\n\u001b[0;32m   6251\u001b[0m     not_found \u001b[38;5;241m=\u001b[39m \u001b[38;5;28mlist\u001b[39m(ensure_index(key)[missing_mask\u001b[38;5;241m.\u001b[39mnonzero()[\u001b[38;5;241m0\u001b[39m]]\u001b[38;5;241m.\u001b[39munique())\n\u001b[0;32m   6252\u001b[0m     \u001b[38;5;28;01mraise\u001b[39;00m \u001b[38;5;167;01mKeyError\u001b[39;00m(\u001b[38;5;124mf\u001b[39m\u001b[38;5;124m\"\u001b[39m\u001b[38;5;132;01m{\u001b[39;00mnot_found\u001b[38;5;132;01m}\u001b[39;00m\u001b[38;5;124m not in index\u001b[39m\u001b[38;5;124m\"\u001b[39m)\n",
      "\u001b[1;31mKeyError\u001b[0m: \"None of [Index([132,  89,  71, 121,  90, 280, 256,  27, 209, 138,\\n       ...\\n        56,  41, 260, 272, 135, 235,  85,  18,  97,  25],\\n      dtype='int32', length=318)] are in the [columns]\""
     ]
    }
   ],
   "source": [
    "n_samples=X_train.shape[0]\n",
    "indices = np.random.choice(n_samples, n_samples, replace=True)\n",
    "X_train[indices], y_train[indices]"
   ]
  },
  {
   "cell_type": "code",
   "execution_count": 11,
   "metadata": {},
   "outputs": [
    {
     "data": {
      "text/html": [
       "<div>\n",
       "<style scoped>\n",
       "    .dataframe tbody tr th:only-of-type {\n",
       "        vertical-align: middle;\n",
       "    }\n",
       "\n",
       "    .dataframe tbody tr th {\n",
       "        vertical-align: top;\n",
       "    }\n",
       "\n",
       "    .dataframe thead th {\n",
       "        text-align: right;\n",
       "    }\n",
       "</style>\n",
       "<table border=\"1\" class=\"dataframe\">\n",
       "  <thead>\n",
       "    <tr style=\"text-align: right;\">\n",
       "      <th></th>\n",
       "      <th>cylinders</th>\n",
       "      <th>displacement</th>\n",
       "      <th>horsepower</th>\n",
       "      <th>weight</th>\n",
       "      <th>acceleration</th>\n",
       "      <th>model_year</th>\n",
       "      <th>origin</th>\n",
       "    </tr>\n",
       "  </thead>\n",
       "  <tbody>\n",
       "    <tr>\n",
       "      <th>3</th>\n",
       "      <td>8.0</td>\n",
       "      <td>304.0</td>\n",
       "      <td>150.0</td>\n",
       "      <td>3433.0</td>\n",
       "      <td>12.0</td>\n",
       "      <td>70.0</td>\n",
       "      <td>1.0</td>\n",
       "    </tr>\n",
       "    <tr>\n",
       "      <th>18</th>\n",
       "      <td>4.0</td>\n",
       "      <td>97.0</td>\n",
       "      <td>88.0</td>\n",
       "      <td>2130.0</td>\n",
       "      <td>14.5</td>\n",
       "      <td>70.0</td>\n",
       "      <td>3.0</td>\n",
       "    </tr>\n",
       "    <tr>\n",
       "      <th>376</th>\n",
       "      <td>4.0</td>\n",
       "      <td>91.0</td>\n",
       "      <td>68.0</td>\n",
       "      <td>2025.0</td>\n",
       "      <td>18.2</td>\n",
       "      <td>82.0</td>\n",
       "      <td>3.0</td>\n",
       "    </tr>\n",
       "    <tr>\n",
       "      <th>248</th>\n",
       "      <td>4.0</td>\n",
       "      <td>91.0</td>\n",
       "      <td>60.0</td>\n",
       "      <td>1800.0</td>\n",
       "      <td>16.4</td>\n",
       "      <td>78.0</td>\n",
       "      <td>3.0</td>\n",
       "    </tr>\n",
       "    <tr>\n",
       "      <th>177</th>\n",
       "      <td>4.0</td>\n",
       "      <td>115.0</td>\n",
       "      <td>95.0</td>\n",
       "      <td>2694.0</td>\n",
       "      <td>15.0</td>\n",
       "      <td>75.0</td>\n",
       "      <td>2.0</td>\n",
       "    </tr>\n",
       "    <tr>\n",
       "      <th>...</th>\n",
       "      <td>...</td>\n",
       "      <td>...</td>\n",
       "      <td>...</td>\n",
       "      <td>...</td>\n",
       "      <td>...</td>\n",
       "      <td>...</td>\n",
       "      <td>...</td>\n",
       "    </tr>\n",
       "    <tr>\n",
       "      <th>71</th>\n",
       "      <td>3.0</td>\n",
       "      <td>70.0</td>\n",
       "      <td>97.0</td>\n",
       "      <td>2330.0</td>\n",
       "      <td>13.5</td>\n",
       "      <td>72.0</td>\n",
       "      <td>3.0</td>\n",
       "    </tr>\n",
       "    <tr>\n",
       "      <th>106</th>\n",
       "      <td>8.0</td>\n",
       "      <td>350.0</td>\n",
       "      <td>180.0</td>\n",
       "      <td>4499.0</td>\n",
       "      <td>12.5</td>\n",
       "      <td>73.0</td>\n",
       "      <td>1.0</td>\n",
       "    </tr>\n",
       "    <tr>\n",
       "      <th>270</th>\n",
       "      <td>4.0</td>\n",
       "      <td>134.0</td>\n",
       "      <td>95.0</td>\n",
       "      <td>2515.0</td>\n",
       "      <td>14.8</td>\n",
       "      <td>78.0</td>\n",
       "      <td>3.0</td>\n",
       "    </tr>\n",
       "    <tr>\n",
       "      <th>348</th>\n",
       "      <td>4.0</td>\n",
       "      <td>89.0</td>\n",
       "      <td>62.0</td>\n",
       "      <td>2050.0</td>\n",
       "      <td>17.3</td>\n",
       "      <td>81.0</td>\n",
       "      <td>3.0</td>\n",
       "    </tr>\n",
       "    <tr>\n",
       "      <th>102</th>\n",
       "      <td>4.0</td>\n",
       "      <td>97.0</td>\n",
       "      <td>46.0</td>\n",
       "      <td>1950.0</td>\n",
       "      <td>21.0</td>\n",
       "      <td>73.0</td>\n",
       "      <td>2.0</td>\n",
       "    </tr>\n",
       "  </tbody>\n",
       "</table>\n",
       "<p>318 rows × 7 columns</p>\n",
       "</div>"
      ],
      "text/plain": [
       "     cylinders  displacement  horsepower  weight  acceleration  model_year  \\\n",
       "3          8.0         304.0       150.0  3433.0          12.0        70.0   \n",
       "18         4.0          97.0        88.0  2130.0          14.5        70.0   \n",
       "376        4.0          91.0        68.0  2025.0          18.2        82.0   \n",
       "248        4.0          91.0        60.0  1800.0          16.4        78.0   \n",
       "177        4.0         115.0        95.0  2694.0          15.0        75.0   \n",
       "..         ...           ...         ...     ...           ...         ...   \n",
       "71         3.0          70.0        97.0  2330.0          13.5        72.0   \n",
       "106        8.0         350.0       180.0  4499.0          12.5        73.0   \n",
       "270        4.0         134.0        95.0  2515.0          14.8        78.0   \n",
       "348        4.0          89.0        62.0  2050.0          17.3        81.0   \n",
       "102        4.0          97.0        46.0  1950.0          21.0        73.0   \n",
       "\n",
       "     origin  \n",
       "3       1.0  \n",
       "18      3.0  \n",
       "376     3.0  \n",
       "248     3.0  \n",
       "177     2.0  \n",
       "..      ...  \n",
       "71      3.0  \n",
       "106     1.0  \n",
       "270     3.0  \n",
       "348     3.0  \n",
       "102     2.0  \n",
       "\n",
       "[318 rows x 7 columns]"
      ]
     },
     "execution_count": 11,
     "metadata": {},
     "output_type": "execute_result"
    }
   ],
   "source": [
    "X_train"
   ]
  },
  {
   "cell_type": "code",
   "execution_count": null,
   "metadata": {},
   "outputs": [],
   "source": []
  }
 ],
 "metadata": {
  "kernelspec": {
   "display_name": ".venv",
   "language": "python",
   "name": "python3"
  },
  "language_info": {
   "codemirror_mode": {
    "name": "ipython",
    "version": 3
   },
   "file_extension": ".py",
   "mimetype": "text/x-python",
   "name": "python",
   "nbconvert_exporter": "python",
   "pygments_lexer": "ipython3",
   "version": "3.11.9"
  }
 },
 "nbformat": 4,
 "nbformat_minor": 2
}
